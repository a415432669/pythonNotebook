{
 "cells": [
  {
   "cell_type": "code",
   "execution_count": 2,
   "metadata": {},
   "outputs": [
    {
     "name": "stdout",
     "output_type": "stream",
     "text": [
      " 李四\n"
     ]
    }
   ],
   "source": [
    "userList = {\n",
    "    'username':'张三',\n",
    "    'vipLevel':2,\n",
    "    'time':500,\n",
    "    'detail':'喜欢浏览体育新闻'\n",
    "},{\n",
    "    'username':'李四',\n",
    "    'vipLevel':4,\n",
    "    'time':3000,\n",
    "    'detail':'喜欢看娱乐头条'\n",
    "},{\n",
    "    'username':'王五',\n",
    "    'vipLevel':3,\n",
    "    'time':2500,\n",
    "    'detail':'喜欢看小说'\n",
    "},{\n",
    "    'username':'隔壁老王',\n",
    "    'vipLevel':5,\n",
    "    'time':5000,\n",
    "    'detail':'喜欢看小电影'\n",
    "}\n",
    "\n",
    "\n",
    "vipImg = [\n",
    "\n",
    "    'https://ss0.bdstatic.com/70cFuHSh_Q1YnxGkpoWK1HF6hhy/it/u=1110020727,2329798075&fm=200&gp=0.jpg',\n",
    "    'https://ss2.bdstatic.com/70cFvnSh_Q1YnxGkpoWK1HF6hhy/it/u=2451341887,1744270969&fm=200&gp=0.jpg',\n",
    "     'https://ss0.bdstatic.com/70cFuHSh_Q1YnxGkpoWK1HF6hhy/it/u=1110020727,2329798075&fm=200&gp=0.jpg',\n",
    "    'https://ss2.bdstatic.com/70cFvnSh_Q1YnxGkpoWK1HF6hhy/it/u=2451341887,1744270969&fm=200&gp=0.jpg',\n",
    "    'https://ss2.bdstatic.com/70cFvnSh_Q1YnxGkpoWK1HF6hhy/it/u=2451341887,1744270969&fm=200&gp=0.jpg',\n",
    "    \n",
    "]\n",
    "\n",
    "\n",
    "#做一个函数，根据输入用户的名称，返回用户的信息，并且显示相对应等级的图标\n",
    "\n",
    "def userpage(username):\n",
    "    global userList\n",
    "    global vipImg\n",
    "    a=0\n",
    "    vipLevel=' '\n",
    "    pass\n",
    "    for item in userList:\n",
    "        if item['username']==username:\n",
    "            print (item)\n",
    "            a=int(item['vipLevel'])\n",
    "        return item,vipImg[a]\n",
    "\n",
    "username=input()\n",
    "from flask import Flask\n",
    "app = Flask(__name__)\n",
    "\n",
    "# print(page)\n",
    "@app.route('/')\n",
    "def index():\n",
    "    return userpage('李四',vipImg)\n",
    "\n",
    "#输出的HTML:<H1>用户信息</H1><img src='相对应VIP的图片地址'>\n",
    "\n",
    "app.run()\n",
    "# print(userList[0]['username'])"
   ]
  },
  {
   "cell_type": "code",
   "execution_count": null,
   "metadata": {
    "collapsed": true
   },
   "outputs": [],
   "source": []
  }
 ],
 "metadata": {
  "kernelspec": {
   "display_name": "Python 3",
   "language": "python",
   "name": "python3"
  },
  "language_info": {
   "codemirror_mode": {
    "name": "ipython",
    "version": 3
   },
   "file_extension": ".py",
   "mimetype": "text/x-python",
   "name": "python",
   "nbconvert_exporter": "python",
   "pygments_lexer": "ipython3",
   "version": "3.6.1"
  }
 },
 "nbformat": 4,
 "nbformat_minor": 2
}
