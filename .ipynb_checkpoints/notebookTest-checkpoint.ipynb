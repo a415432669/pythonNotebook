{
 "cells": [
  {
   "cell_type": "code",
   "execution_count": 2,
   "metadata": {},
   "outputs": [
    {
     "data": {
      "text/plain": [
       "10"
      ]
     },
     "execution_count": 2,
     "metadata": {},
     "output_type": "execute_result"
    }
   ],
   "source": [
    "a = 3\n",
    "b= 7\n",
    "c=a+b\n",
    "c"
   ]
  },
  {
   "cell_type": "code",
   "execution_count": 3,
   "metadata": {},
   "outputs": [
    {
     "name": "stdout",
     "output_type": "stream",
     "text": [
      " 驱动器 E 中的卷是 文档\n",
      " 卷的序列号是 0001-FC59\n",
      "\n",
      " E:\\sxt\\python全栈\\notebook 的目录\n",
      "\n",
      "2018/04/26  15:32    <DIR>          .\n",
      "2018/04/26  15:32    <DIR>          ..\n",
      "2018/04/26  15:32    <DIR>          .ipynb_checkpoints\n",
      "2018/04/26  15:32               914 notebookTest.ipynb\n",
      "2018/04/26  12:32    <DIR>          Python基础\n",
      "               1 个文件            914 字节\n",
      "               4 个目录 22,289,784,832 可用字节\n"
     ]
    }
   ],
   "source": [
    "!dir"
   ]
  },
  {
   "cell_type": "markdown",
   "metadata": {},
   "source": [
    "### 启动\n",
    "* 命令行下输入：jupyter notebook\n",
    "* 在浏览器上输入，本机的IP地址和端口号\n",
    "\n",
    "### jupyter notebook使用\n",
    "* markdown记录笔记\n",
    "* python代码的调试和学习"
   ]
  },
  {
   "cell_type": "code",
   "execution_count": null,
   "metadata": {
    "collapsed": true
   },
   "outputs": [],
   "source": []
  }
 ],
 "metadata": {
  "kernelspec": {
   "display_name": "Python 3",
   "language": "python",
   "name": "python3"
  },
  "language_info": {
   "codemirror_mode": {
    "name": "ipython",
    "version": 3
   },
   "file_extension": ".py",
   "mimetype": "text/x-python",
   "name": "python",
   "nbconvert_exporter": "python",
   "pygments_lexer": "ipython3",
   "version": "3.6.1"
  }
 },
 "nbformat": 4,
 "nbformat_minor": 2
}
