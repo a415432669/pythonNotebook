{
 "cells": [
  {
   "cell_type": "code",
   "execution_count": 12,
   "metadata": {},
   "outputs": [
    {
     "name": "stdout",
     "output_type": "stream",
     "text": [
      "用户名：马云\n"
     ]
    },
    {
     "data": {
      "text/plain": [
       "('马云用户的信息：家庭，喜好，事迹，财产，名声，阶级，消费金额，消费时间，工作，影响力', 1000)"
      ]
     },
     "execution_count": 12,
     "metadata": {},
     "output_type": "execute_result"
    }
   ],
   "source": [
    "userList = [{\n",
    "    'username':'李总',\n",
    "    'vipLevel':5,\n",
    "    'time':100,\n",
    "    'detail':'李总用户的信息：家庭，喜好，事迹，财产，名声，阶级，消费金额，消费时间，工作，影响力'\n",
    "},{\n",
    "    'username':'小王',\n",
    "    'vipLevel':1,\n",
    "    'time':5,\n",
    "    'detail':'小王用户的信息：家庭，喜好，事迹，财产，名声，阶级，消费金额，消费时间，工作，影响力'\n",
    "},{\n",
    "    'username':'史玉柱',\n",
    "    'vipLevel':8,\n",
    "    'time':700,\n",
    "    'detail':'史玉柱用户的信息：家庭，喜好，事迹，财产，名声，阶级，消费金额，消费时间，工作，影响力'\n",
    "},{\n",
    "    'username':'马云',\n",
    "    'vipLevel':9,\n",
    "    'time':1000,\n",
    "    'detail':'马云用户的信息：家庭，喜好，事迹，财产，名声，阶级，消费金额，消费时间，工作，影响力'\n",
    "}]\n",
    "\n",
    "username=input('用户名：')\n",
    "\n",
    "def userpage(username):\n",
    "    \n",
    "    global userList\n",
    "    for item in userList:\n",
    "            if username == item['username']:\n",
    "                return(item['detail'],item['time'])\n",
    "userpage(username)\n",
    "\n",
    "# from flask import Flask\n",
    "# app = Flask(__name__)\n",
    "\n",
    "\n",
    "# @app.route('/')\n",
    "# def index():\n",
    "#     return userpage(username)\n",
    "# app.run()    "
   ]
  },
  {
   "cell_type": "code",
   "execution_count": null,
   "metadata": {},
   "outputs": [
    {
     "name": "stdout",
     "output_type": "stream",
     "text": [
      "用户名：yy\n"
     ]
    },
    {
     "name": "stderr",
     "output_type": "stream",
     "text": [
      " * Running on http://127.0.0.1:9999/ (Press CTRL+C to quit)\n",
      "127.0.0.1 - - [03/May/2018 09:27:49] \"GET / HTTP/1.1\" 200 -\n"
     ]
    }
   ],
   "source": [
    "userList = [{\n",
    "    'username':'李总',\n",
    "    'vipLevel':3,\n",
    "    'time':100,\n",
    "    'detail':'李总用户的信息：家庭，喜好，事迹，财产，名声，阶级，消费金额，消费时间，工作，影响力'\n",
    "},{\n",
    "    'username':'小王',\n",
    "    'vipLevel':1,\n",
    "    'time':5,\n",
    "    'detail':'小王用户的信息：家庭，喜好，事迹，财产，名声，阶级，消费金额，消费时间，工作，影响力'\n",
    "},{\n",
    "    'username':'史玉柱',\n",
    "    'vipLevel':4,\n",
    "    'time':700,\n",
    "    'detail':'史玉柱用户的信息：家庭，喜好，事迹，财产，名声，阶级，消费金额，消费时间，工作，影响力'\n",
    "},{\n",
    "    'username':'马云',\n",
    "    'vipLevel':5,\n",
    "    'time':1000,\n",
    "    'detail':'马云用户的信息：家庭，喜好，事迹，财产，名声，阶级，消费金额，消费时间，工作，影响力'\n",
    "}]\n",
    "\n",
    "\n",
    "vipImg = [\n",
    "    'https://timgsa.baidu.com/timg?image&quality=80&size=b9999_10000&sec=1525277303364&di=f9b2870acbb83456d391dcc7ebc80c61&imgtype=0&src=http%3A%2F%2Fpic.58pic.com%2F58pic%2F12%2F43%2F13%2F44X58PICx6v.jpg',\n",
    "    'https://timgsa.baidu.com/timg?image&quality=80&size=b9999_10000&sec=1525277303402&di=7ffdd19322a7a7a6dd00214a874db95a&imgtype=0&src=http%3A%2F%2Fpic.58pic.com%2F58pic%2F12%2F44%2F66%2F74q58PICQpc.jpg',\n",
    "    'https://timgsa.baidu.com/timg?image&quality=80&size=b9999_10000&sec=1525277303363&di=c479317d09e9d6f3280fabf3f82c5bcf&imgtype=0&src=http%3A%2F%2Fpic30.photophoto.cn%2F20140111%2F0007019982425631_b.jpg',\n",
    "    'https://timgsa.baidu.com/timg?image&quality=80&size=b9999_10000&sec=1525277303392&di=6d3a5d3686ce84c5439a1dacd6b1471c&imgtype=0&src=http%3A%2F%2Fpic.qiantucdn.com%2F58pic%2F17%2F92%2F70%2F54558PICNkv_1024.jpg',\n",
    "    'https://ss1.bdstatic.com/70cFvXSh_Q1YnxGkpoWK1HF6hhy/it/u=1350567285,1404587860&fm=27&gp=0.jpg'    \n",
    "]\n",
    "\n",
    "\n",
    "\n",
    "\n",
    "\n",
    "username=input('用户名：')\n",
    "\n",
    "def userpage(username):\n",
    "\n",
    "    global userList\n",
    "    global vipImg\n",
    "    isvip=0\n",
    "    for item in userList:\n",
    "            if username == item['username']:\n",
    "                a=item['vipLevel']\n",
    "                b=a-1\n",
    "                return '<h1>{}</h1><img src=\"{}\" />'.format(item['detail'],vipImg[b])\n",
    "            else:\n",
    "                isvip = isvip+ 1\n",
    "    if isvip>0:\n",
    "        return '<h1>注册</h1>'\n",
    "            \n",
    "\n",
    "            \n",
    "from flask import Flask\n",
    "app = Flask(__name__)\n",
    "\n",
    "\n",
    "@app.route('/')\n",
    "def index():\n",
    "    return userpage(username)\n",
    "app.run(port= 9999)    "
   ]
  },
  {
   "cell_type": "code",
   "execution_count": null,
   "metadata": {
    "collapsed": true
   },
   "outputs": [],
   "source": []
  },
  {
   "cell_type": "code",
   "execution_count": null,
   "metadata": {
    "collapsed": true
   },
   "outputs": [],
   "source": []
  }
 ],
 "metadata": {
  "kernelspec": {
   "display_name": "Python 3",
   "language": "python",
   "name": "python3"
  },
  "language_info": {
   "codemirror_mode": {
    "name": "ipython",
    "version": 3
   },
   "file_extension": ".py",
   "mimetype": "text/x-python",
   "name": "python",
   "nbconvert_exporter": "python",
   "pygments_lexer": "ipython3",
   "version": "3.6.1"
  }
 },
 "nbformat": 4,
 "nbformat_minor": 2
}
