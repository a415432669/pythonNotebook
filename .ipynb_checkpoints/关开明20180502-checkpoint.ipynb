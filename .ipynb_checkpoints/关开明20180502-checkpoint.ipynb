{
 "cells": [
  {
   "cell_type": "code",
   "execution_count": 3,
   "metadata": {},
   "outputs": [
    {
     "name": "stdout",
     "output_type": "stream",
     "text": [
      "它在第10次落地时，共经过299.609375米。第10次反弹高度是0.09765625米\n"
     ]
    }
   ],
   "source": [
    "j=0\n",
    "s=0\n",
    "for i in range(1,11):\n",
    "    j=100/2**i\n",
    "    s+=100/2**(i-1)+100/2**i\n",
    "print('它在第10次落地时，共经过%s米。第10次反弹高度是%s米'%((s-j),j))"
   ]
  },
  {
   "cell_type": "code",
   "execution_count": 1,
   "metadata": {
    "collapsed": true
   },
   "outputs": [],
   "source": [
    "contentList=[\n",
    "    {'selfservice':{\n",
    "    'applyforaftersale':['data:image/png;base64,iVBORw0KGgoAAAANSUhEUgAAAEIAAABCCAYAAADjVADoAAADBElEQVR4nO3ZP2jUYBQA8KilKFRQcFBBRSe16CIO0j+k5n2LHbUt6CCIi0uxi2gHzSqIRdrkPRdRpIvg4h9cCh3qIg4qtKVLLVJBaa29y3soVew5XE7qmZZ6l1xMfT/IlC8v7/vy7l3+WJZSSimllFJKKaX+B47HbYbkFRDfTjuXVLT0ze4A5EFDUjAkBSB5lnZONWW7w3Xgy0WDnDckBUD54lBwpdEdq087t5ppw6AJiD+WqsCQPDo+ML8n7bxqDpDdJYtQAGQGlKeA0gP9cijt/Gqm6frsZkM8F/aEd0Cy+PvCyAdDwX3HD86a/tmdaeebKOMH58NqmIRbn3c7KGcMyl1AeV+2KN8t112fdr7J6XiwwRCPhpPtWbrLIT7oIHeXFiOtFP8aEI8svYrlG3hBc9RxhvInimN4rtnPbf1z/1pbCJInKxw7ZEgKDgaXyvdlbiGWY98ItgEyA8mi48vhqDHg8QEgHnIGgmPl+9bMQliWZQFxX9gUBys4dsQgP08ir5pr9eZ2GZIFQPkOfm5f2vmkCkjuhFXhp51Lquz+YL9B+WFQfqzUVOPaAHmizc8dSXvekYD4YS0W4deG8iLtOUdyvPzR4l8pz9t981uSOIftTm0E5Mni3zF3J3GOWJTuGQCDy0nEN8RXw2p4bbvDdUmcIxbgC5Qeqo7dnN4UZ+zW/txeIPlavGcJWuKMnQggeRk2tAuxxkV5bEgK4Mu9OOMmBpBPlp464ypf8PPtYf/J2d7M9jhiJs911wPyRHj1TlcbznanNhqSt/98g4wCGJwLq+KNZVnrqovF1zLRIKM0umP1hmS6WBX59krjZK5BRgGUnvB3PVJFjGw1yCi2N9MAyJ+qvp3OVINcRvnb7Eq2zDVIpVYPkDvDN9oLhngUkDurGZdJDvGpZd4pdFYyLrNK3zaMH/Ta3kyD8YPe4iR5tJJxmVUscymUvoLb3kxDeLUXKhmXWVoRIeNzR+T9gcddlYzLNMfjLkAeB5JvgDy+3ORWO04ppZRSSimllFKZ8RPP35peAOmTzAAAAABJRU5ErkJggg==','https://service.order.mi.com/apply/front'],\n",
    "    'order':['data:image/png;base64,iVBORw0KGgoAAAANSUhEUgAAAEIAAABCCAYAAADjVADoAAABy0lEQVR4nO2Yy07CQBSGzwO4kURi416fBQP6JrjTF+AV3BEN7ZmNayAloWcWmuhaeQbcmsiGFS7KReRiKZ0Lyf8lk0DSzH/42jMzhQgAAAAAAAAAAAAAAHAwJFwhzUPSamJn8JASrrj+2atYlfBLhncsiutSHAXGcuIoIM3deZ53zAozKWFGHAWZRPRb5/R0f2S8niVs36Hs7fNO3YcTa3X5K0JNSNTAngxXIrbRC8skamBXho8iiBzI8EWEVs9u28QfERsE8JudJ8M3Eeuw0ia+iXC2m/gjYvsa8bdNNH8Ue+jyRURWemF5ISa68KcwF3lGaoYIk5MazoOIAuewM6nhPGsikrBGmoW0+k4HC/W5aiQvT5YVEQk3Nu7jCTcKzcubZVREHAXU5+r05DYmUXWKmyVqq2MSVSdR47TAsJY7q/N4Os/bJ8uoCFEd0vyafo9u1lx3Nz3RSa6cpHWWZszuOkvuLDMi1vyLHTdLK9fFzdJO7wNZx8a6/n3f+CpWhISXpPnz8ETwS7EilsK3PK7Ct3u1hsusnUnC2tIC1lbHhS6WrrLyFWh4+3SVlQtR16RZSHhEwqP0c3R18FkAAAAAAAAAAAAAADjhB87+AVrTSRO+AAAAAElFTkSuQmCC','https://static.mi.com/order/'],\n",
    "    'account':['data:image/png;base64,iVBORw0KGgoAAAANSUhEUgAAAEIAAABCCAYAAADjVADoAAACIElEQVR4nO3Zv0/bUBAH8IeEhBQLJPvdkKgr/0UZWGFDQurSGSbURGDfLS3/FLBm5U9oxVoIIhPUdwtSzJBn2oEUJ/Hzj3AfyZvv6d43ss+xjVFKKaWUUkoppdSqGiewKRh9E7RDRhgLQcYIY0E7lCTqjxPYrLtH7ySJDpngQQiyWQcTPEgSHdbdqzcpwamgnUw3a69TtF/TOOgaY0waB90/cfSFyV4LQSZoJynBad09l07IHgjaiaCdcBJ9N8aszTh1jTH6kZ8rZA+q7NOr+zMTMMJICDJOovMiNZxE5+7eMbo/M4HvHivBBEfu+v813DXrRWqGu2Zd0P5094wj3z1WghEu3K97PGfdsau78NVbpRjtrRBkj4Ot7XnqHgdb29Mg7K2v3iolZJ+FILs5MRvz1N2cmI3pJWWfffVWqfz5oOraxtEgHA3C+bBBMIZ7THD3v/8Tix5McMcY7tW9x0J8hfBvGHXvsZDXhhGuuN/plbEm9zs9Rrhq1aXyGkRJIeS43+m1Moi2rV06DcIp0uxbk6XIRFi9IGZMlvcmwsoFkZ/zhOGOMcY8YbgzT12Z/Xqz6IY0iCXrGkuDcDQIZ6GbZRx+/pBBzByfCKNl126MQkHE4X7+rePvM4T9zXG4v+zajaGP2I4G4WgQjq/3EWkcdNsZBMFl/tl/6TUH9hMTXLYqCO/vLN8ZsY3x1mgsLYQCI1YppZRSSimllFKN9wKCwBYE8PcvIQAAAABJRU5ErkJggg==','https://account.xiaomi.com/pass/auth/security/home'],\n",
    "    'point':['https://i1.mifile.cn/a4/cms_14895585907373_GNERP.jpg','https://www.mi.com/static/acceptance/'],\n",
    "    'accredit':['https://i1.mifile.cn/f/i/16/service/selfservice/service-icon-wangdian.png','https://www.mi.com/static/maintainlocation/'],\n",
    "    'paidservice':['https://i1.mifile.cn/f/i/16/service/selfservice/service-icon-anzhuang.png','https://list.mi.com/accessories/tag?id=tv_service'],\n",
    "    'aftersale':['https://i1.mifile.cn/f/i/16/service/selfservice/service-icon-shouhouzc.png','https://www.mi.com/service/exchange/#phone'],\n",
    "    'fact':['https://i1.mifile.cn/f/i/16/service/selfservice/service-icon-chaxun.png','http://chaxun.mi.com/']\n",
    "}},{'cpzc':{\n",
    "        'xiaomishouji':'https://i1.mifile.cn/a4/cms_14670157357414_putWy.jpg',\n",
    "        'hongmi':'https://i1.mifile.cn/a4/cms_14670157674386_XOJhN.jpg',\n",
    "        'pingban':'https://i1.mifile.cn/a4/cms_14670157981363_IFLNh.jpg',\n",
    "        'Intelligence':'https://i1.mifile.cn/a4/cms_14670157878726_pNeqZ.jpg',\n",
    "        'tv':'https://i1.mifile.cn/a4/cms_14670147822275_kgiNB.jpg',\n",
    "        'box':'https://i1.mifile.cn/a4/cms_14670147949246_EyuXz.jpg',\n",
    "        'Router':'https://i1.mifile.cn/a4/cms_1467014811346_KQdOm.jpg',\n",
    "        'notebook':'https://i1.mifile.cn/a4/cms_14696085838228_nXTxc.jpg'\n",
    "    }}]"
   ]
  },
  {
   "cell_type": "code",
   "execution_count": 2,
   "metadata": {
    "collapsed": true
   },
   "outputs": [],
   "source": [
    "page='''\n",
    "<div style=\"text-align:center\">\n",
    "<img src=\"{}\" />\n",
    "<img src=\"{}\" />\n",
    "<img src=\"{}\" />\n",
    "<img src=\"{}\" style=\"width:66px;height:66px\"/>\n",
    "<img src=\"{}\" />\n",
    "<img src=\"{}\" />\n",
    "<img src=\"{}\" />\n",
    "<img src=\"{}\" />\n",
    "</div>\n",
    "<img src=\"{}\" />\n",
    "<img src=\"{}\" />\n",
    "<img src=\"{}\" />\n",
    "<img src=\"{}\" />\n",
    "<img src=\"{}\" />\n",
    "<img src=\"{}\" />\n",
    "<img src=\"{}\" />\n",
    "'''.format(contentList[0]['selfservice']['applyforaftersale'][0],contentList[0]['selfservice']['order'][0]\n",
    "           ,contentList[0]['selfservice']['account'][0],contentList[0]['selfservice']['point'][0]\n",
    "            ,contentList[0]['selfservice']['accredit'][0],contentList[0]['selfservice']['paidservice'][0]\n",
    "           ,contentList[0]['selfservice']['aftersale'][0],contentList[0]['selfservice']['fact'][0]\n",
    "           ,contentList[1]['cpzc']['xiaomishouji'],contentList[1]['cpzc']['hongmi']\n",
    "           ,contentList[1]['cpzc']['pingban'],contentList[1]['cpzc']['Intelligence']\n",
    "           ,contentList[1]['cpzc']['tv'],contentList[1]['cpzc']['box']\n",
    "           ,contentList[1]['cpzc']['Router'],contentList[1]['cpzc']['notebook']\n",
    "          )"
   ]
  },
  {
   "cell_type": "code",
   "execution_count": 3,
   "metadata": {},
   "outputs": [
    {
     "name": "stderr",
     "output_type": "stream",
     "text": [
      " * Running on http://127.0.0.1:5000/ (Press CTRL+C to quit)\n"
     ]
    }
   ],
   "source": [
    "from flask import Flask\n",
    "app = Flask(__name__)\n",
    "\n",
    "#print(page)\n",
    "@app.route('/')\n",
    "def index():\n",
    "    return page\n",
    "\n",
    "app.run()"
   ]
  },
  {
   "cell_type": "code",
   "execution_count": null,
   "metadata": {
    "collapsed": true
   },
   "outputs": [],
   "source": []
  }
 ],
 "metadata": {
  "kernelspec": {
   "display_name": "Python 3",
   "language": "python",
   "name": "python3"
  },
  "language_info": {
   "codemirror_mode": {
    "name": "ipython",
    "version": 3
   },
   "file_extension": ".py",
   "mimetype": "text/x-python",
   "name": "python",
   "nbconvert_exporter": "python",
   "pygments_lexer": "ipython3",
   "version": "3.6.1"
  }
 },
 "nbformat": 4,
 "nbformat_minor": 2
}
