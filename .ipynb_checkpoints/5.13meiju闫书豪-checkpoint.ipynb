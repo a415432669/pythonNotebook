{
 "cells": [
  {
   "cell_type": "code",
   "execution_count": null,
   "metadata": {
    "collapsed": true
   },
   "outputs": [],
   "source": [
    "import logging\n",
    "class Meiju():\n",
    "    def __init__(self,ql):\n",
    "        self.ql=ql\n",
    "        self.password='haloha'\n",
    "        self.name='haha'\n",
    "        self.meijulist=[]\n",
    "    def showall(self):\n",
    "        print(self.meijulist)\n",
    "    def run(self):\n",
    "        name=input('用户名:')\n",
    "        password=input('密码：')\n",
    "        if name==self.name and self.password==password:\n",
    "            print('成功登录')\n",
    "            self.showall()\n",
    "            try:\n",
    "                while True :\n",
    "    #                 self.showall()\n",
    "                    aa=input('请输入要搜索的剧名：')\n",
    "                    p=meijulist.index(aa)\n",
    "                    with open('E:/spyder/pac/mju/%s.html'%p ,'r') as f:\n",
    "                        f.read()\n",
    "            except Exception as e:\n",
    "                print('输入有误')                \n",
    "                logging.exception(e)\n",
    "                    \n",
    "                \n",
    "        else:\n",
    "            print('输入有误，请重新输入：')\n",
    "            self.run()\n",
    "            \n",
    "app = Meiju('xx')\n",
    "app.run()"
   ]
  },
  {
   "cell_type": "code",
   "execution_count": null,
   "metadata": {
    "collapsed": true
   },
   "outputs": [],
   "source": [
    "with open('E:/spyder/pac/mju/2.html','r' ,encoding='utf-8') as f:\n",
    "    a=f.read()\n",
    "    print(a)\n",
    "a.__dir__()\n",
    "# a.decode()"
   ]
  },
  {
   "cell_type": "code",
   "execution_count": null,
   "metadata": {
    "collapsed": true
   },
   "outputs": [],
   "source": [
    "with open('E:/spyder/pac/mju/2.html','rb') as f:\n",
    "    a=f.read()\n",
    "    print(a)\n",
    "a.__dir__()\n",
    "a.decode()"
   ]
  },
  {
   "cell_type": "code",
   "execution_count": null,
   "metadata": {
    "collapsed": true
   },
   "outputs": [],
   "source": [
    "from flask import Flask\n",
    "app = Flask(__name__)\n",
    "\n",
    "\n",
    "@app.route('/')\n",
    "def index():\n",
    "    return System('admin','admin')\n",
    "app.run()    "
   ]
  },
  {
   "cell_type": "code",
   "execution_count": null,
   "metadata": {
    "collapsed": true
   },
   "outputs": [],
   "source": [
    "import requests \n",
    "res = requests.get('http://www.meijutt.com/1_3______commend.html')\n",
    "res.encoding = 'gbk'\n",
    "res.text\n",
    "\n",
    "import re\n",
    "pattern = re.compile('<div class=\"bor_img3_right\">.*?href=\"(/content/meiju.*?)\".*?alt=\"(.*?)\".*?年份.*?<font class=\"cor_move_li\">(.*?)</font>',re.S)\n",
    "result = re.findall(pattern,res.text)\n",
    "# print(result)\n",
    "meijulist=[]\n",
    "for item in result:\n",
    "    meijulist.append(item[1][:])\n",
    "# print(meijulist)\n",
    "\n",
    "def getDetail(url,index):\n",
    "    res = requests.get(url)\n",
    "    res.encoding = 'gb2312'\n",
    "    pattern = re.compile('<div class=\"o_list\">.*?(<div.*?迅雷无法下载？点我</a>)',re.S)\n",
    "    aa=re.findall(pattern,res.text)                          ###列表格式['.......']\n",
    "    path = 'E:/spyder/pac/mju/%s.html'%index\n",
    "    with open(path,'w',encoding='utf-8') as f:\n",
    "        f.write(aa[0])\n",
    "    page=aa[0]\n",
    "    return page                                              ###取字符串\n",
    "# getDetail('http://www.meijutt.com'+result[0][0],2)\n",
    "\n",
    "# for (index,value) in enumerate(result):\n",
    "#     getDetail('http://www.meijutt.com'+value[0],index)\n",
    "    \n",
    "    \n",
    "from flask import Flask\n",
    "app = Flask(__name__)\n",
    "@app.route('/')\n",
    "def index():\n",
    "    return getDetail('http://www.meijutt.com'+result[p][0],2)\n",
    "app.run()  \n",
    "\n",
    "\n",
    "import logging\n",
    "class Meiju():\n",
    "    def __init__(self,ql):\n",
    "        self.ql=ql\n",
    "        self.password='haloha'\n",
    "        self.name='haha'\n",
    "        self.meijulist=[]\n",
    "    def showall(self):\n",
    "        print(self.meijulist)\n",
    "    def run(self):\n",
    "        name=input('用户名:')\n",
    "        password=input('密码：')\n",
    "        if name==self.name and self.password==password:\n",
    "            print('成功登录')\n",
    "            self.showall(meijulist)\n",
    "            try:\n",
    "                while True :\n",
    "    #                 self.showall()\n",
    "                    aa=input('请输入要搜索的剧名：')\n",
    "                    p=meijulist.index(aa)\n",
    "#                     with open('E:/spyder/pac/mju/%s.html'%p ,'r') as f:\n",
    "#                         f.read()\n",
    "            except Exception as e:\n",
    "                print('输入有误')                \n",
    "                logging.exception(e)      \n",
    "        else:\n",
    "            print('输入有误，请重新输入：')\n",
    "            self.run()\n",
    "            "
   ]
  },
  {
   "cell_type": "code",
   "execution_count": null,
   "metadata": {},
   "outputs": [
    {
     "name": "stdout",
     "output_type": "stream",
     "text": [
      "成功登录\n",
      "['风云市长第二季', '丑闻第二季', '政坛野兽第一季', '风云市长第一季', '无耻之徒第二季', '糖衣陷阱第一季', '绝命毒师第五季', '实习医生格蕾第八季', '花花公子俱乐部第一季', '泛美航空第一季', '替身姐妹第一季', '美少女的谎言第三季', '谎言满屋第一季', '丑闻第一季', '名声大噪第一季', '皮囊第三季', '蛇蝎美人第二季', '千谎百计第二季', '皮囊第二季', '皮囊第一季']\n",
      "请输入要搜索的剧名：丑闻第一季\n"
     ]
    },
    {
     "name": "stderr",
     "output_type": "stream",
     "text": [
      " * Running on http://127.0.0.1:5000/ (Press CTRL+C to quit)\n",
      "127.0.0.1 - - [14/May/2018 09:25:07] \"GET / HTTP/1.1\" 200 -\n",
      "127.0.0.1 - - [14/May/2018 09:25:07] \"GET /js/ads/content_right.js HTTP/1.1\" 404 -\n",
      "127.0.0.1 - - [14/May/2018 09:25:07] \"GET /js/ads/content_960_2.js HTTP/1.1\" 404 -\n",
      "127.0.0.1 - - [14/May/2018 09:25:08] \"GET /favicon.ico HTTP/1.1\" 404 -\n"
     ]
    }
   ],
   "source": [
    "class Meiju():\n",
    "    import logging\n",
    "    def __init__(self,ql):\n",
    "        self.ql=ql\n",
    "        self.password='haloha'\n",
    "        self.name='haha'\n",
    "        self.meijulist=[]\n",
    "        self.result=[]\n",
    "#         self.p=0\n",
    "    \n",
    "    \n",
    "    def getmeiju(self):\n",
    "        import requests \n",
    "        res = requests.get('http://www.meijutt.com/1_3______commend.html')\n",
    "        res.encoding = 'gbk'\n",
    "        res.text\n",
    "\n",
    "        import re\n",
    "        pattern = re.compile('<div class=\"bor_img3_right\">.*?href=\"(/content/meiju.*?)\".*?alt=\"(.*?)\".*?年份.*?<font class=\"cor_move_li\">(.*?)</font>',re.S)\n",
    "        self.result = re.findall(pattern,res.text)\n",
    "#         meijulist=[]\n",
    "        for item in self.result:\n",
    "            self.meijulist.append(item[1][:])\n",
    "    def getpage(self,p):\n",
    "        import requests \n",
    "        import re       \n",
    "        def getDetail(url,index):\n",
    "            res = requests.get(url)\n",
    "            res.encoding = 'gb2312'\n",
    "            pattern = re.compile('<div class=\"o_list\">.*?(<div.*?迅雷无法下载？点我</a>)',re.S)\n",
    "            aa=re.findall(pattern,res.text)                          ###列表格式['.......']\n",
    "#             path = 'E:/spyder/pac/mju/%s.html'%index\n",
    "#             with open(path,'w',encoding='utf-8') as f:\n",
    "#                 f.write(aa[0])\n",
    "            page=aa[0]\n",
    "            return page                                              ###取字符串\n",
    "        \n",
    "        from flask import Flask\n",
    "        app = Flask(__name__)\n",
    "        @app.route('/')\n",
    "        def index():\n",
    "            return getDetail('http://www.meijutt.com'+self.result[p][0],2)\n",
    "        app.run()  \n",
    "    \n",
    "    \n",
    "    def showall(self):\n",
    "        print(self.meijulist)\n",
    "    def run(self):\n",
    "        import logging\n",
    "#         name=input('用户名:')\n",
    "#         password=input('密码：')\n",
    "#         if name==self.name and self.password==password:\n",
    "        if True:\n",
    "            print('成功登录')\n",
    "#             self.showall()\n",
    "            try:\n",
    "                self.getmeiju()\n",
    "#                 self.showall()\n",
    "                while True :\n",
    "#                     self.getmeiju()\n",
    "                    self.showall()\n",
    "                    mm=input('请输入要搜索的剧名：')\n",
    "                    p=self.meijulist.index(mm)\n",
    "                    self.getpage(p)\n",
    "            except Exception as e:\n",
    "                print('输入有误')                \n",
    "                logging.exception(e)      \n",
    "        else:\n",
    "            print('输入有误，请重新输入：')\n",
    "            self.run()\n",
    "\n",
    "            \n",
    "app = Meiju(888)\n",
    "app.run()\n",
    "        "
   ]
  },
  {
   "cell_type": "code",
   "execution_count": null,
   "metadata": {
    "collapsed": true
   },
   "outputs": [],
   "source": []
  }
 ],
 "metadata": {
  "kernelspec": {
   "display_name": "Python 3",
   "language": "python",
   "name": "python3"
  },
  "language_info": {
   "codemirror_mode": {
    "name": "ipython",
    "version": 3
   },
   "file_extension": ".py",
   "mimetype": "text/x-python",
   "name": "python",
   "nbconvert_exporter": "python",
   "pygments_lexer": "ipython3",
   "version": "3.6.1"
  }
 },
 "nbformat": 4,
 "nbformat_minor": 2
}
