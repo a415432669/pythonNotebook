{
 "cells": [
  {
   "cell_type": "markdown",
   "metadata": {},
   "source": [
    "## 学生管理系统\n",
    "### 系统是一个对象：\n",
    "* 属性：用户名，密码\n",
    "* 功能一： 首先登陆，输入用户名，输入密码，所有学生的列表（对象的列表）\n",
    "* 功能二： 设置用户名，密码\n",
    "* 功能三： 查看第x个学生的信息,根据输入进行\n",
    "\n",
    "### 学生是一个对象：\n",
    "* 属性：姓名、年龄、成绩\n",
    "* 功能：打印出当前学生的信息\n",
    "\n",
    "### 班长也是一个对象，继承来自于学生类\n",
    "* 属性：姓名、年龄、成绩、职务\n",
    "\n",
    "\n",
    "\n",
    "\n"
   ]
  },
  {
   "cell_type": "code",
   "execution_count": null,
   "metadata": {},
   "outputs": [
    {
     "name": "stdout",
     "output_type": "stream",
     "text": [
      "请输入你要进行的操作，查询学生信息请按1，编辑操作请按2，添加学生信息请按3，退出关闭系统请按4,删除请按5,求分数平均值按63\n",
      "请输入学生姓名xixi\n",
      "请输入学生年龄89\n",
      "请输入学生成绩19\n",
      "输入0为不是班长，输入1为班长0\n",
      "学号：1学生姓名：xixi;学生年龄：89;学生成绩：19\n",
      "请输入你要进行的操作，查询学生信息请按1，编辑操作请按2，添加学生信息请按3，退出关闭系统请按4,删除请按5,求分数平均值按66\n",
      "平均分为：19.0分\n",
      "学号：1学生姓名：xixi;学生年龄：89;学生成绩：19\n",
      "请输入你要进行的操作，查询学生信息请按1，编辑操作请按2，添加学生信息请按3，退出关闭系统请按4,删除请按5,求分数平均值按65\n",
      "请输入要删除的学生学号1\n"
     ]
    }
   ],
   "source": [
    "class Student():\n",
    "    def __init__(self,name,age,score,num):\n",
    "        \n",
    "        self.name = name\n",
    "        self.age = age\n",
    "        self.score =score\n",
    "        self.num=num\n",
    "    def show(self):\n",
    "        print('学号：%s学生姓名：%s;学生年龄：%s;学生成绩：%s'%(self.num,self.name,self.age,self.score))\n",
    "\n",
    "class Monitor(Student):\n",
    "    def __init__(self,name,age,score,num,work):\n",
    "        super().__init__(name,age,score,num)\n",
    "        self.work = work\n",
    "    \n",
    "    def show(self):\n",
    "        print('学号：%s学生姓名：%s;学生年龄：%s;学生成绩：%s;职位：%s'%(self.num,self.name,self.age,self.score,self.work))\n",
    "\n",
    "\n",
    "class System():\n",
    "    def __init__(self,username,password):\n",
    "        self.userInfo = {username:password}\n",
    "        self.studentList=[]\n",
    "        self.isCloseSystem = False\n",
    "        self.loginState = True\n",
    "        \n",
    "    def run(self):\n",
    "        while True:\n",
    "            if not self.loginState:\n",
    "                self.login()\n",
    "            else:\n",
    "                self.showStudents()\n",
    "                self.chooseMode()\n",
    "                \n",
    "                if self.isCloseSystem:\n",
    "                    break\n",
    "                \n",
    "    \n",
    "    def chooseMode(self):\n",
    "        def testInput():\n",
    "            a= input('请输入你要进行的操作，查询学生信息请按1，编辑操作请按2，添加学生信息请按3，退出关闭系统请按4,删除请按5,求分数平均值按6')\n",
    "            if '123456'.find(a) ==-1: \n",
    "                print('输入错误，没有输入1,2,3,4,5,6')\n",
    "                a = testInput()\n",
    "            return a\n",
    "        \n",
    "        userInput =int(testInput())\n",
    "        cooperateList = [self.searchStudent,self.editStudent,self.addStudent,self.exitSystem,self.delStudent,self.average]\n",
    "        cooperateList[(userInput-1)]()\n",
    "        \n",
    "    \n",
    "    def searchStudent(self):#查找功能\n",
    "        cha=input('请输入要查找的名字')\n",
    "        for item in self.studentList:\n",
    "            if item.name==cha:\n",
    "                item.show()\n",
    "    \n",
    "    def editStudent(self):#修改功能\n",
    "        xiu=int(input('请输入要修改学生的学号'))\n",
    "        for item in self.studentList:\n",
    "            if item.num==xiu:\n",
    "                item.show()\n",
    "                houname=input('输入修改的名字')\n",
    "                housex=input('输入修改的年龄')\n",
    "                houscore=input('输入修改的成绩')\n",
    "                item.name=houname\n",
    "                item.sex=housex\n",
    "                item.score=houscore\n",
    "                item.show()\n",
    "                \n",
    "    def average(self):\n",
    "        a=0\n",
    "        avg=0\n",
    "        for item in self.studentList:\n",
    "            a=a+int(item.score)\n",
    "        avg=a/len(self.studentList)\n",
    "        print('平均分为：%s分'%(avg))\n",
    "        \n",
    "                \n",
    "    \n",
    "    def addStudent(self):#添加学生\n",
    "        name = input('请输入学生姓名')\n",
    "        age = input('请输入学生年龄')\n",
    "        score = input('请输入学生成绩')\n",
    "        num=len(self.studentList)+1\n",
    "        isMoniter = int(input('输入0为不是班长，输入1为班长'))\n",
    "        if isMoniter:\n",
    "            newStudent = Monitor(name,age,score,num,'班长')\n",
    "        else:\n",
    "            newStudent = Student(name,age,score,num)\n",
    "        self.studentList.append(newStudent)\n",
    "\n",
    "    \n",
    "    def delStudent(self):#删除功能\n",
    "        shan=int(input('请输入要删除的学生学号'))\n",
    "        for item in self.studentList:\n",
    "            if item.num==shan:\n",
    "                self.studentList.remove(item)\n",
    "                \n",
    "    def exitSystem(self):\n",
    "        print('退出系统')\n",
    "        self.isCloseSystem = True\n",
    "        \n",
    "    def showStudents(self):\n",
    "        for item in self.studentList:\n",
    "            item.show()\n",
    "        \n",
    "                \n",
    "            \n",
    "app = System('admin','admin')\n",
    "app.run()\n",
    "        \n",
    "\n",
    "\n"
   ]
  },
  {
   "cell_type": "code",
   "execution_count": null,
   "metadata": {
    "collapsed": true
   },
   "outputs": [],
   "source": [
    "help(list)"
   ]
  },
  {
   "cell_type": "code",
   "execution_count": null,
   "metadata": {
    "collapsed": true
   },
   "outputs": [],
   "source": [
    "help(str)"
   ]
  },
  {
   "cell_type": "code",
   "execution_count": null,
   "metadata": {
    "collapsed": true
   },
   "outputs": [],
   "source": [
    "'123'.find('y')"
   ]
  },
  {
   "cell_type": "code",
   "execution_count": null,
   "metadata": {
    "collapsed": true
   },
   "outputs": [],
   "source": [
    "S=[123,4,5,5,5]\n",
    "print(S)"
   ]
  },
  {
   "cell_type": "code",
   "execution_count": null,
   "metadata": {
    "collapsed": true
   },
   "outputs": [],
   "source": [
    "help(str)"
   ]
  }
 ],
 "metadata": {
  "kernelspec": {
   "display_name": "Python 3",
   "language": "python",
   "name": "python3"
  },
  "language_info": {
   "codemirror_mode": {
    "name": "ipython",
    "version": 3
   },
   "file_extension": ".py",
   "mimetype": "text/x-python",
   "name": "python",
   "nbconvert_exporter": "python",
   "pygments_lexer": "ipython3",
   "version": "3.6.1"
  }
 },
 "nbformat": 4,
 "nbformat_minor": 2
}
