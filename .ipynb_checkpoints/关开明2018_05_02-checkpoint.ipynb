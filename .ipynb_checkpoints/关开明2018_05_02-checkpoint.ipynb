{
 "cells": [
  {
   "cell_type": "code",
   "execution_count": 1,
   "metadata": {
    "collapsed": true
   },
   "outputs": [],
   "source": [
    "userList=[\n",
    "    {\n",
    "        'userName':'zhangsan',\n",
    "        'vipLevel':'4',\n",
    "        'time':5000,\n",
    "        'detail':'zhangsan,vip4,最近登录时间5000s前'\n",
    "    },\n",
    "    {\n",
    "        'userName':'lisi',\n",
    "        'vipLevel':'2',\n",
    "        'time':3000,\n",
    "        'detail':'lisi,vip2,最近登录时间3000s前'\n",
    "    },\n",
    "    {\n",
    "        'userName':'wangwu',\n",
    "        'vipLevel':'3',\n",
    "        'time':6000,\n",
    "        'detail':'wangwu,vip3,最近登录时间6000s前'\n",
    "    },\n",
    "    {\n",
    "        'userName':'zhaoliu',\n",
    "        'vipLevel':'1',\n",
    "        'time':3500,\n",
    "        'detail':'zhaoliu,vip1,最近登录时间3500s前'\n",
    "    },\n",
    "    {\n",
    "        'userName':'zhouqi',\n",
    "        'vipLevel':'5',\n",
    "        'time':1000,\n",
    "        'detail':'zhouqi,vip5,最近登录时间1000s前'\n",
    "    }\n",
    "        ]\n",
    "vimImp=[\n",
    "    'http://f11.baidu.com/it/u=55494095,4272087145&fm=72',\n",
    "    'http://img1.imgtn.bdimg.com/it/u=447405695,3996371028&fm=200&gp=0.jpg',\n",
    "    'http://img0.imgtn.bdimg.com/it/u=3973194078,4208230162&fm=200&gp=0.jpg',\n",
    "    'http://img4.imgtn.bdimg.com/it/u=886778109,3752467955&fm=200&gp=0.jpg',\n",
    "    'http://img4.imgtn.bdimg.com/it/u=3483272102,2129287968&fm=200&gp=0.jpg'\n",
    "]"
   ]
  },
  {
   "cell_type": "code",
   "execution_count": 3,
   "metadata": {},
   "outputs": [
    {
     "name": "stdout",
     "output_type": "stream",
     "text": [
      "请输入姓名:lisi\n",
      "有此用户\n",
      "2 3000 lisi,vip2,最近登录时间3000s前 lisi http://img1.imgtn.bdimg.com/it/u=447405695,3996371028&fm=200&gp=0.jpg\n"
     ]
    },
    {
     "data": {
      "text/plain": [
       "\"<h1>lisi,vip2,最近登录时间3000s前</h1><img src='http://img1.imgtn.bdimg.com/it/u=447405695,3996371028&fm=200&gp=0.jpg'/>\""
      ]
     },
     "execution_count": 3,
     "metadata": {},
     "output_type": "execute_result"
    }
   ],
   "source": [
    "username=input(\"请输入姓名:\")\n",
    "def userpage(username,vimImp):\n",
    "    vipLevel=0\n",
    "    time=0\n",
    "    userid=0\n",
    "    detail=\"\"\n",
    "    imgurl=\"\"\n",
    "\n",
    "    for item in userList:\n",
    "        if item['userName'] == username:\n",
    "            userid += 1\n",
    "            vipLevel=int(item['vipLevel'])\n",
    "            time = item['time']\n",
    "            detail=item['detail']\n",
    "            imgurl=vimImp[vipLevel-1]\n",
    "        else:\n",
    "            pass\n",
    "    if userid >0:\n",
    "        print(\"有此用户\")\n",
    "        print(vipLevel,time,detail,username,imgurl)\n",
    "    else:\n",
    "        return (\"<h1>用户名不存在请注册</h1>\")\n",
    "\n",
    "    return  \"<h1>{}</h1><img src='{}'/>\".format(detail,imgurl)\n",
    "\n",
    "userpage(\"lisi\",vimImp)"
   ]
  },
  {
   "cell_type": "code",
   "execution_count": null,
   "metadata": {},
   "outputs": [
    {
     "name": "stderr",
     "output_type": "stream",
     "text": [
      " * Running on http://127.0.0.1:5000/ (Press CTRL+C to quit)\n",
      "127.0.0.1 - - [03/May/2018 09:19:50] \"GET / HTTP/1.1\" 200 -\n"
     ]
    },
    {
     "name": "stdout",
     "output_type": "stream",
     "text": [
      "有此用户\n",
      "2 3000 lisi,vip2,最近登录时间3000s前 lisi http://img1.imgtn.bdimg.com/it/u=447405695,3996371028&fm=200&gp=0.jpg\n"
     ]
    },
    {
     "name": "stderr",
     "output_type": "stream",
     "text": [
      "127.0.0.1 - - [03/May/2018 09:20:04] \"GET / HTTP/1.1\" 200 -\n"
     ]
    },
    {
     "name": "stdout",
     "output_type": "stream",
     "text": [
      "有此用户\n",
      "2 3000 lisi,vip2,最近登录时间3000s前 lisi http://img1.imgtn.bdimg.com/it/u=447405695,3996371028&fm=200&gp=0.jpg\n"
     ]
    },
    {
     "name": "stderr",
     "output_type": "stream",
     "text": [
      "127.0.0.1 - - [03/May/2018 09:20:04] \"GET /favicon.ico HTTP/1.1\" 404 -\n",
      "127.0.0.1 - - [03/May/2018 09:22:11] \"GET / HTTP/1.1\" 200 -\n"
     ]
    },
    {
     "name": "stdout",
     "output_type": "stream",
     "text": [
      "有此用户\n",
      "2 3000 lisi,vip2,最近登录时间3000s前 lisi http://img1.imgtn.bdimg.com/it/u=447405695,3996371028&fm=200&gp=0.jpg\n"
     ]
    }
   ],
   "source": [
    "from flask import Flask\n",
    "app = Flask(__name__)\n",
    "\n",
    "@app.route('/')\n",
    "def index():\n",
    "    return userpage(username,vimImp)\n",
    "\n",
    "#输出的HTML:<H1>用户信息</H1><img src='相对应VIP的图片地址'>\n",
    "\n",
    "app.run()"
   ]
  },
  {
   "cell_type": "code",
   "execution_count": 15,
   "metadata": {},
   "outputs": [
    {
     "data": {
      "text/plain": [
       "(1, 2, 32, 42)"
      ]
     },
     "execution_count": 15,
     "metadata": {},
     "output_type": "execute_result"
    }
   ],
   "source": []
  }
 ],
 "metadata": {
  "kernelspec": {
   "display_name": "Python 3",
   "language": "python",
   "name": "python3"
  },
  "language_info": {
   "codemirror_mode": {
    "name": "ipython",
    "version": 3
   },
   "file_extension": ".py",
   "mimetype": "text/x-python",
   "name": "python",
   "nbconvert_exporter": "python",
   "pygments_lexer": "ipython3",
   "version": "3.6.1"
  }
 },
 "nbformat": 4,
 "nbformat_minor": 2
}
