{
 "cells": [
  {
   "cell_type": "code",
   "execution_count": 1,
   "metadata": {},
   "outputs": [
    {
     "data": {
      "text/plain": [
       "[-11, -10, -8, 2, 3, 5, 7]"
      ]
     },
     "execution_count": 1,
     "metadata": {},
     "output_type": "execute_result"
    }
   ],
   "source": [
    "L=[-10,-8,-11,3,7,5,2]\n",
    "\n",
    "for x in range(0,len(L)-1):\n",
    "    m=1\n",
    "    for y in range(0,len(L)-m):\n",
    "        if L[y] >  L[y+1]:\n",
    "            L[y],L[y+1]=L[y+1],L[y]\n",
    "        m = m + 1\n",
    "    \n",
    "L"
   ]
  },
  {
   "cell_type": "code",
   "execution_count": 3,
   "metadata": {},
   "outputs": [
    {
     "name": "stdout",
     "output_type": "stream",
     "text": [
      "[2, 3, 5, 7, -8, -10, -11]\n"
     ]
    }
   ],
   "source": [
    "def aa(x):\n",
    "    if x>=0:\n",
    "        return x\n",
    "    else:\n",
    "        return -x\n",
    "L=[-10,-8,-11,3,7,5,2]\n",
    "def my_sorted(L,key=None,reverse=False):\n",
    "    if key==None and reverse==False:\n",
    "        for x in range(0,len(L)-1):\n",
    "            m=1\n",
    "            for y in range(0,len(L)-m):\n",
    "                if L[y] >  L[y+1]:\n",
    "                    L[y],L[y+1]=L[y+1],L[y]\n",
    "                m = m + 1\n",
    "    if key==None and reverse==True:\n",
    "        for x in range(0,len(L)-1):\n",
    "            m=1\n",
    "            for y in range(0,len(L)-m):\n",
    "                if L[y] <  L[y+1]:\n",
    "                    L[y],L[y+1]=L[y+1],L[y]\n",
    "                m = m + 1 \n",
    "    if key==aa and reverse==False:\n",
    "        for x in range(0,len(L)-1):\n",
    "            m=1\n",
    "            for y in range(0,len(L)-m):\n",
    "                if aa(L[y]) >  aa(L[y+1]):\n",
    "                    L[y],L[y+1]=L[y+1],L[y]\n",
    "                m = m + 1\n",
    "    if key==aa and reverse==True:\n",
    "        for x in range(0,len(L)-1):\n",
    "            m=1\n",
    "            for y in range(0,len(L)-m):\n",
    "                if aa(L[y]) <  aa(L[y+1]):\n",
    "                    L[y],L[y+1]=L[y+1],L[y]\n",
    "                m = m + 1\n",
    "my_sorted(L,key=aa)\n",
    "print(L)"
   ]
  },
  {
   "cell_type": "code",
   "execution_count": 1,
   "metadata": {},
   "outputs": [
    {
     "name": "stdout",
     "output_type": "stream",
     "text": [
      "Help on built-in function sorted in module builtins:\n",
      "\n",
      "sorted(iterable, /, *, key=None, reverse=False)\n",
      "    Return a new list containing all items from the iterable in ascending order.\n",
      "    \n",
      "    A custom key function can be supplied to customize the sort order, and the\n",
      "    reverse flag can be set to request the result in descending order.\n",
      "\n"
     ]
    }
   ],
   "source": [
    "help(sorted)"
   ]
  }
 ],
 "metadata": {
  "kernelspec": {
   "display_name": "Python 3",
   "language": "python",
   "name": "python3"
  },
  "language_info": {
   "codemirror_mode": {
    "name": "ipython",
    "version": 3
   },
   "file_extension": ".py",
   "mimetype": "text/x-python",
   "name": "python",
   "nbconvert_exporter": "python",
   "pygments_lexer": "ipython3",
   "version": "3.6.1"
  }
 },
 "nbformat": 4,
 "nbformat_minor": 2
}
