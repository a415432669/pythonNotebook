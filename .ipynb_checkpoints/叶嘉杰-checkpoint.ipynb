{
 "cells": [
  {
   "cell_type": "code",
   "execution_count": null,
   "metadata": {
    "collapsed": true
   },
   "outputs": [],
   "source": []
  },
  {
   "cell_type": "code",
   "execution_count": 41,
   "metadata": {
    "scrolled": true
   },
   "outputs": [
    {
     "name": "stdout",
     "output_type": "stream",
     "text": [
      "1x1=1\t\n",
      "1x2=2\t2x2=4\t\n",
      "1x3=3\t2x3=6\t3x3=9\t\n",
      "1x4=4\t2x4=8\t3x4=12\t4x4=16\t\n",
      "1x5=5\t2x5=10\t3x5=15\t4x5=20\t5x5=25\t\n",
      "1x6=6\t2x6=12\t3x6=18\t4x6=24\t5x6=30\t6x6=36\t\n",
      "1x7=7\t2x7=14\t3x7=21\t4x7=28\t5x7=35\t6x7=42\t7x7=49\t\n",
      "1x8=8\t2x8=16\t3x8=24\t4x8=32\t5x8=40\t6x8=48\t7x8=56\t8x8=64\t\n",
      "1x9=9\t2x9=18\t3x9=27\t4x9=36\t5x9=45\t6x9=54\t7x9=63\t8x9=72\t9x9=81\t\n"
     ]
    }
   ],
   "source": [
    "for i in range(1, 10):  \n",
    "    for j in range(1, i+1):  \n",
    "        print('{}x{}={}\\t'.format(j, i, i*j), end='')  \n",
    "    print()  \n",
    "    "
   ]
  },
  {
   "cell_type": "code",
   "execution_count": null,
   "metadata": {
    "collapsed": true
   },
   "outputs": [],
   "source": []
  },
  {
   "cell_type": "code",
   "execution_count": 7,
   "metadata": {},
   "outputs": [
    {
     "data": {
      "text/plain": [
       "[1, 2, 4, 3, 6, 9, 4, 8, 12, 16]"
      ]
     },
     "execution_count": 7,
     "metadata": {},
     "output_type": "execute_result"
    }
   ],
   "source": [
    "def jie(j):\n",
    "    a=1\n",
    "    b=1 \n",
    "    c=0\n",
    "    d=1\n",
    "    L = []\n",
    "    while d<=j:  \n",
    "        while b<=a:\n",
    "            c=b*a\n",
    "            L.append(c)\n",
    "            b=b+1 \n",
    "        b=1    \n",
    "        d=d+1    \n",
    "        a=a+1\n",
    "    return L        \n",
    "jie(4)\n"
   ]
  },
  {
   "cell_type": "code",
   "execution_count": 6,
   "metadata": {},
   "outputs": [
    {
     "name": "stdout",
     "output_type": "stream",
     "text": [
      "[1, 2, 3, 4, 6]\n"
     ]
    }
   ],
   "source": [
    "def f (data):\n",
    "    L=[]\n",
    "    for i in data:\n",
    "        if i>0:\n",
    "            L.append(i)\n",
    "    return L\n",
    "if __name__ == '__main__':\n",
    "        data=[1,2,3,4,6,-1,-2,-3,-9]\n",
    "        l=f(data) \n",
    "        print(l)\n"
   ]
  },
  {
   "cell_type": "code",
   "execution_count": 2,
   "metadata": {},
   "outputs": [
    {
     "data": {
      "text/plain": [
       "[3, 5, 7, 9, 11, 13]"
      ]
     },
     "execution_count": 2,
     "metadata": {},
     "output_type": "execute_result"
    }
   ],
   "source": [
    "def j(k):\n",
    "    def l():\n",
    "        L=[]\n",
    "        l= k()\n",
    "        for i in l:\n",
    "             if i>0:\n",
    "                i=2*i+1\n",
    "                L.append(i)\n",
    "        return L\n",
    "    return l\n",
    "@j\n",
    "def k():\n",
    "    return list(range(-10,7))\n",
    "k()"
   ]
  },
  {
   "cell_type": "code",
   "execution_count": 1,
   "metadata": {},
   "outputs": [
    {
     "name": "stdout",
     "output_type": "stream",
     "text": [
      "请输入你要进行的操作，查询学生信息请按1，编辑操作请按2，添加学生信息请按3，删除学生信息请按4，退出关闭系统请按5，求平均分请按63\n"
     ]
    },
    {
     "ename": "AttributeError",
     "evalue": "'System' object has no attribute 'average'",
     "output_type": "error",
     "traceback": [
      "\u001b[1;31m---------------------------------------------------------------------------\u001b[0m",
      "\u001b[1;31mAttributeError\u001b[0m                            Traceback (most recent call last)",
      "\u001b[1;32m<ipython-input-1-9f1dccecba54>\u001b[0m in \u001b[0;36m<module>\u001b[1;34m()\u001b[0m\n\u001b[0;32m    115\u001b[0m             \u001b[0mitem\u001b[0m\u001b[1;33m.\u001b[0m\u001b[0mshow\u001b[0m\u001b[1;33m(\u001b[0m\u001b[1;33m)\u001b[0m\u001b[1;33m\u001b[0m\u001b[0m\n\u001b[0;32m    116\u001b[0m \u001b[0mapp\u001b[0m \u001b[1;33m=\u001b[0m \u001b[0mSystem\u001b[0m\u001b[1;33m(\u001b[0m\u001b[1;34m'admin'\u001b[0m\u001b[1;33m,\u001b[0m\u001b[1;34m'admin'\u001b[0m\u001b[1;33m)\u001b[0m\u001b[1;33m\u001b[0m\u001b[0m\n\u001b[1;32m--> 117\u001b[1;33m \u001b[0mapp\u001b[0m\u001b[1;33m.\u001b[0m\u001b[0mrun\u001b[0m\u001b[1;33m(\u001b[0m\u001b[1;33m)\u001b[0m\u001b[1;33m\u001b[0m\u001b[0m\n\u001b[0m",
      "\u001b[1;32m<ipython-input-1-9f1dccecba54>\u001b[0m in \u001b[0;36mrun\u001b[1;34m(self)\u001b[0m\n\u001b[0;32m     29\u001b[0m             \u001b[1;32melse\u001b[0m\u001b[1;33m:\u001b[0m\u001b[1;33m\u001b[0m\u001b[0m\n\u001b[0;32m     30\u001b[0m                 \u001b[0mself\u001b[0m\u001b[1;33m.\u001b[0m\u001b[0mshowStudents\u001b[0m\u001b[1;33m(\u001b[0m\u001b[1;33m)\u001b[0m\u001b[1;33m\u001b[0m\u001b[0m\n\u001b[1;32m---> 31\u001b[1;33m                 \u001b[0mself\u001b[0m\u001b[1;33m.\u001b[0m\u001b[0mchooseMode\u001b[0m\u001b[1;33m(\u001b[0m\u001b[1;33m)\u001b[0m\u001b[1;33m\u001b[0m\u001b[0m\n\u001b[0m\u001b[0;32m     32\u001b[0m             \u001b[1;32mif\u001b[0m \u001b[0mself\u001b[0m\u001b[1;33m.\u001b[0m\u001b[0misCloseSystem\u001b[0m\u001b[1;33m:\u001b[0m\u001b[1;33m\u001b[0m\u001b[0m\n\u001b[0;32m     33\u001b[0m                 \u001b[1;32mbreak\u001b[0m\u001b[1;33m\u001b[0m\u001b[0m\n",
      "\u001b[1;32m<ipython-input-1-9f1dccecba54>\u001b[0m in \u001b[0;36mchooseMode\u001b[1;34m(self)\u001b[0m\n\u001b[0;32m     42\u001b[0m \u001b[1;33m\u001b[0m\u001b[0m\n\u001b[0;32m     43\u001b[0m         \u001b[0muserInput\u001b[0m \u001b[1;33m=\u001b[0m \u001b[0mint\u001b[0m\u001b[1;33m(\u001b[0m\u001b[0mtestInput\u001b[0m\u001b[1;33m(\u001b[0m\u001b[1;33m)\u001b[0m\u001b[1;33m)\u001b[0m\u001b[1;33m\u001b[0m\u001b[0m\n\u001b[1;32m---> 44\u001b[1;33m         \u001b[0mcooperateList\u001b[0m \u001b[1;33m=\u001b[0m \u001b[1;33m[\u001b[0m\u001b[0mself\u001b[0m\u001b[1;33m.\u001b[0m\u001b[0msearchStudent\u001b[0m\u001b[1;33m,\u001b[0m\u001b[0mself\u001b[0m\u001b[1;33m.\u001b[0m\u001b[0meditStudent\u001b[0m\u001b[1;33m,\u001b[0m\u001b[0mself\u001b[0m\u001b[1;33m.\u001b[0m\u001b[0maddStudent\u001b[0m\u001b[1;33m,\u001b[0m\u001b[0mself\u001b[0m\u001b[1;33m.\u001b[0m\u001b[0mdelStudent\u001b[0m\u001b[1;33m,\u001b[0m\u001b[0mself\u001b[0m\u001b[1;33m.\u001b[0m\u001b[0mexitSystem\u001b[0m\u001b[1;33m,\u001b[0m\u001b[0mself\u001b[0m\u001b[1;33m.\u001b[0m\u001b[0maverage\u001b[0m\u001b[1;33m]\u001b[0m\u001b[1;33m\u001b[0m\u001b[0m\n\u001b[0m\u001b[0;32m     45\u001b[0m         \u001b[0mcooperateList\u001b[0m\u001b[1;33m[\u001b[0m\u001b[1;33m(\u001b[0m\u001b[0muserInput\u001b[0m\u001b[1;33m-\u001b[0m\u001b[1;36m1\u001b[0m\u001b[1;33m)\u001b[0m\u001b[1;33m]\u001b[0m\u001b[1;33m(\u001b[0m\u001b[1;33m)\u001b[0m\u001b[1;33m\u001b[0m\u001b[0m\n\u001b[0;32m     46\u001b[0m     \u001b[1;32mdef\u001b[0m \u001b[0msearchStudent\u001b[0m\u001b[1;33m(\u001b[0m\u001b[0mself\u001b[0m\u001b[1;33m)\u001b[0m\u001b[1;33m:\u001b[0m\u001b[1;33m\u001b[0m\u001b[0m\n",
      "\u001b[1;31mAttributeError\u001b[0m: 'System' object has no attribute 'average'"
     ]
    }
   ],
   "source": [
    "class Student():\n",
    "    def __init__(self,name,age,score):\n",
    "        self.name = name\n",
    "        self.age = age\n",
    "        self.score = score\n",
    "    def show(self):\n",
    "        print('学生姓名：%s，学生年龄：%s，学生成绩%s'%(self.name,self.age,self.score))\n",
    "        \n",
    "class Monitor(Student):\n",
    "    def __init__(self,name,age,score,work):\n",
    "        super().__init__(name,age,score)\n",
    "        self.work = work\n",
    "    def show(self):\n",
    "        print('学生姓名：%s，学生年龄：%s，学生成绩%s，职位：%s'%(self.name,self.age,self.score,self.work))\n",
    "\n",
    "        \n",
    "class System():\n",
    "    def __init__(self,username,password):\n",
    "        self.userInfo = {username:password}\n",
    "        self.userList = []\n",
    "        self.studentList = []\n",
    "        self.isCloseSystem = False\n",
    "        self.loginState = True\n",
    "        \n",
    "    def run(self):\n",
    "        while True:\n",
    "            if not self.loginState:\n",
    "                self.login()\n",
    "            else:\n",
    "                self.showStudents()\n",
    "                self.chooseMode()\n",
    "            if self.isCloseSystem:\n",
    "                break\n",
    "    def chooseMode(self):\n",
    "        def testInput():\n",
    "            a= input('请输入你要进行的操作，查询学生信息请按1，编辑操作请按2，添加学生信息请按3，删除学生信息请按4，退出关闭系统请按5，求平均分请按6')\n",
    "            if '1234567'.find(a)==-1:\n",
    "                print('输入错误，请按提示输入')\n",
    "                a = testInput()\n",
    "            return a\n",
    "                \n",
    "                \n",
    "        userInput = int(testInput())\n",
    "        cooperateList = [self.searchStudent,self.editStudent,self.addStudent,self.delStudent,self.exitSystem,self.average]\n",
    "        cooperateList[(userInput-1)]()\n",
    "    def searchStudent(self):\n",
    "        def testInput():\n",
    "            num1 = input('请输入要查找的序号')\n",
    "            if not int(num1)<=len(self.studentList):\n",
    "                print('输入错误，请按提示输入')\n",
    "                num1 = testInput()\n",
    "            return num1\n",
    "        num1 = int(testInput())\n",
    "\n",
    "        print(self.studentList[num1-1].show())\n",
    "\n",
    "        pass\n",
    "    \n",
    "    def editStudent(self):\n",
    "        def testInput():\n",
    "            num1 = input('请输入要修改的学生序号')\n",
    "            if not int(num1)<=len(self.studentList):\n",
    "                print('输入错误，请按提示输入')\n",
    "                num1 = testInput()\n",
    "            return num1\n",
    "        num1 = int(testInput())\n",
    "        stu1 = self.studentList[int(num1)-1]\n",
    "        print('请输入要修改的信息，修改名字为1，修改年龄为2，修改分数为3')\n",
    "        def test1Input():\n",
    "            num2 = input('请输入要修改序号')\n",
    "            if '123'.find(num2)==-1:\n",
    "                print('输入错误，请按提示输入')\n",
    "                num2 = test1Input()\n",
    "            return num2\n",
    "        num2 = int(test1Input())\n",
    "        newInput = input('请输入要修改内容')\n",
    "        if num2 == 1:\n",
    "            stu1.name = newInput\n",
    "        if num2 == 2:\n",
    "            stu1.age = newInput\n",
    "        if num2 == 2:\n",
    "            stu1.score = newInput\n",
    "    def addStudent(self):\n",
    "        name = input('请输入学生姓名')\n",
    "        age = input('请输入学生年龄')\n",
    "        score = input('请输入学生成绩')\n",
    "        isMoniter = int(input('输入0为不是班长，输入1为班长'))\n",
    "        if isMoniter:\n",
    "            newStudent = Monitor(name,age,score,'班长')\n",
    "        else:\n",
    "            newStudent = Student(name,age,score)\n",
    "        self.studentList.append(newStudent)\n",
    "        print(self.studentList)\n",
    "        pass\n",
    "    \n",
    "    def delStudent(self):\n",
    "        def testInput():\n",
    "            num1 = input('请输入要删除的序号')\n",
    "            if not int(num1)<=len(self.studentList):\n",
    "                print('输入错误，请按提示输入')\n",
    "                num1 = testInput()\n",
    "            return num1\n",
    "        num1 = int(testInput())\n",
    "        return self.studentList.pop(num1-1)\n",
    "        pass\n",
    "    \n",
    "    def exitSystem(self):\n",
    "        print('退出系统')\n",
    "        self.isCloseSystem = True\n",
    "        pass\n",
    "    \n",
    "  \n",
    "    def showStudents(self):\n",
    "        for item in self.studentList:\n",
    "            item.show()\n",
    "app = System('admin','admin')\n",
    "app.run()"
   ]
  },
  {
   "cell_type": "code",
   "execution_count": null,
   "metadata": {
    "collapsed": true
   },
   "outputs": [],
   "source": []
  }
 ],
 "metadata": {
  "kernelspec": {
   "display_name": "Python 3",
   "language": "python",
   "name": "python3"
  },
  "language_info": {
   "codemirror_mode": {
    "name": "ipython",
    "version": 3
   },
   "file_extension": ".py",
   "mimetype": "text/x-python",
   "name": "python",
   "nbconvert_exporter": "python",
   "pygments_lexer": "ipython3",
   "version": "3.6.1"
  }
 },
 "nbformat": 4,
 "nbformat_minor": 2
}
