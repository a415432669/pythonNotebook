{
 "cells": [
  {
   "cell_type": "code",
   "execution_count": 56,
   "metadata": {},
   "outputs": [
    {
     "data": {
      "text/plain": [
       "[-55, -21, -12, 5, 6, 11, 92]"
      ]
     },
     "execution_count": 56,
     "metadata": {},
     "output_type": "execute_result"
    }
   ],
   "source": [
    "L=[6, 5, -12,11,-55, 92, -21]\n",
    "def px(L):\n",
    "    i=0\n",
    "    j=0\n",
    "    null=0\n",
    "    while i<len(L)-1:\n",
    "        while j<len(L)-1-i:\n",
    "            if L[j]>L[j+1]:\n",
    "                null=L[j]\n",
    "                L[j]=L[j+1]\n",
    "                L[j+1]=null\n",
    "                j=0\n",
    "            else:   \n",
    "                j=j+1\n",
    "        i=i+1\n",
    "    return L\n",
    "px(L)"
   ]
  },
  {
   "cell_type": "code",
   "execution_count": null,
   "metadata": {
    "collapsed": true
   },
   "outputs": [],
   "source": []
  }
 ],
 "metadata": {
  "kernelspec": {
   "display_name": "Python 3",
   "language": "python",
   "name": "python3"
  },
  "language_info": {
   "codemirror_mode": {
    "name": "ipython",
    "version": 3
   },
   "file_extension": ".py",
   "mimetype": "text/x-python",
   "name": "python",
   "nbconvert_exporter": "python",
   "pygments_lexer": "ipython3",
   "version": "3.6.1"
  }
 },
 "nbformat": 4,
 "nbformat_minor": 2
}
