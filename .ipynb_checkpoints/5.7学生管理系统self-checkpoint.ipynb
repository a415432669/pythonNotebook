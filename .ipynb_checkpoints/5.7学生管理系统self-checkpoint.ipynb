{
 "cells": [
  {
   "cell_type": "markdown",
   "metadata": {},
   "source": [
    "## 学生管理系统\n",
    "### 系统是一个对象：\n",
    "* 属性：用户名，密码\n",
    "* 功能一： 首先登陆，输入用户名，输入密码，所有学生的列表（对象的列表）\n",
    "* 功能二： 设置用户名，密码\n",
    "* 功能三： 查看第x个学生的信息,根据输入进行\n",
    "\n",
    "### 学生是一个对象：\n",
    "* 属性：姓名、年龄、成绩\n",
    "* 功能：打印出当前学生的信息\n",
    "\n",
    "### 班长也是一个对象，继承来自于学生类\n",
    "* 属性：姓名、年龄、成绩、职务"
   ]
  },
  {
   "cell_type": "markdown",
   "metadata": {},
   "source": [
    "#### "
   ]
  },
  {
   "cell_type": "code",
   "execution_count": 2,
   "metadata": {},
   "outputs": [
    {
     "name": "stdout",
     "output_type": "stream",
     "text": [
      "3\n",
      "4\n",
      "4\n"
     ]
    }
   ],
   "source": [
    "def bb():\n",
    "    global g\n",
    "    g=3\n",
    "    print(g)\n",
    "    return g\n",
    "#     print(g)\n",
    "def dd():\n",
    "    global g\n",
    "    g=g+1\n",
    "    print(g)\n",
    "    return g\n",
    "p=bb()\n",
    "p=dd()\n",
    "p\n",
    "print(g)                  ###函数调用后才能拿到里边变量的值\n"
   ]
  },
  {
   "cell_type": "code",
   "execution_count": null,
   "metadata": {
    "collapsed": true
   },
   "outputs": [],
   "source": []
  },
  {
   "cell_type": "code",
   "execution_count": null,
   "metadata": {
    "collapsed": true
   },
   "outputs": [],
   "source": []
  }
 ],
 "metadata": {
  "kernelspec": {
   "display_name": "Python 3",
   "language": "python",
   "name": "python3"
  },
  "language_info": {
   "codemirror_mode": {
    "name": "ipython",
    "version": 3
   },
   "file_extension": ".py",
   "mimetype": "text/x-python",
   "name": "python",
   "nbconvert_exporter": "python",
   "pygments_lexer": "ipython3",
   "version": "3.6.1"
  }
 },
 "nbformat": 4,
 "nbformat_minor": 2
}
