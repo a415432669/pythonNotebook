{
 "cells": [
  {
   "cell_type": "markdown",
   "metadata": {},
   "source": [
    "# 标题（#-######）\n",
    "## 标题\n",
    "### 标题\n",
    "文本"
   ]
  },
  {
   "cell_type": "markdown",
   "metadata": {},
   "source": [
    "### 代码\n",
    "```python\n",
    "def add():\n",
    "    return \"helloWorld\"\n",
    "\n",
    "add()\n",
    "```\n"
   ]
  },
  {
   "cell_type": "code",
   "execution_count": 1,
   "metadata": {},
   "outputs": [
    {
     "data": {
      "text/plain": [
       "'helloWorld'"
      ]
     },
     "execution_count": 1,
     "metadata": {},
     "output_type": "execute_result"
    }
   ],
   "source": [
    "def add():\n",
    "    return \"helloWorld\"\n",
    "\n",
    "add()"
   ]
  },
  {
   "cell_type": "markdown",
   "metadata": {},
   "source": [
    "<h1 style='color:skyblue;'>HelloWorld</h1>\n",
    "<img style='width:200px;' src='https://www.baidu.com/img/bd_logo1.png?where=super'>"
   ]
  },
  {
   "cell_type": "markdown",
   "metadata": {},
   "source": [
    "![](http://p1.img.cctvpic.com/photoworkspace/contentimg/2018/04/26/2018042607212163778.jpg)"
   ]
  },
  {
   "cell_type": "markdown",
   "metadata": {},
   "source": [
    ">>> 让学习成为一种习惯"
   ]
  },
  {
   "cell_type": "markdown",
   "metadata": {},
   "source": [
    "[百度](http://www.baidu.com)\n",
    "![](https://www.baidu.com/img/bd_logo1.png?where=super)"
   ]
  },
  {
   "cell_type": "markdown",
   "metadata": {},
   "source": [
    "**新华网**北京4月26日电 25日上午，习近平总书记驱车一个半小时，从宜昌前往荆州。在荆州港码头登上轮船，顺江而下，考察长江。船行4个小时，抵达石首港。随后，他又驱车一个多小时，深入到长江湖南岳阳段考察。"
   ]
  },
  {
   "cell_type": "markdown",
   "metadata": {},
   "source": [
    "长江经济带，覆盖11个省份，人口占到全国的40%、GDP也占全国的40%。*总书记强调，长江经济带发展事关重大，每一步都要稳扎稳打。*"
   ]
  },
  {
   "cell_type": "markdown",
   "metadata": {},
   "source": [
    "* 列表的形式（`*开头加空格`）\n",
    "* 列表的形式（`*开头加空格`）\n",
    "* 列表的形式（`*开头加空格`）"
   ]
  },
  {
   "cell_type": "markdown",
   "metadata": {},
   "source": [
    "1. 第一条规则\n",
    "2. 第二条规则\n",
    "3. 第三条规则（1+点+空格）"
   ]
  },
  {
   "cell_type": "code",
   "execution_count": null,
   "metadata": {
    "collapsed": true
   },
   "outputs": [],
   "source": []
  }
 ],
 "metadata": {
  "kernelspec": {
   "display_name": "Python 3",
   "language": "python",
   "name": "python3"
  },
  "language_info": {
   "codemirror_mode": {
    "name": "ipython",
    "version": 3
   },
   "file_extension": ".py",
   "mimetype": "text/x-python",
   "name": "python",
   "nbconvert_exporter": "python",
   "pygments_lexer": "ipython3",
   "version": "3.6.1"
  }
 },
 "nbformat": 4,
 "nbformat_minor": 2
}
