{
 "cells": [
  {
   "cell_type": "code",
   "execution_count": 10,
   "metadata": {},
   "outputs": [
    {
     "data": {
      "text/plain": [
       "{'cached': 0,\n",
       " 'error_code': 0,\n",
       " 'error_msg': 'SUCCESS',\n",
       " 'log_id': 3476881099,\n",
       " 'result': {'face_list': [{'face_token': '9b9b31cd7f51a186826671f67c30f496'},\n",
       "   {'face_token': '21f4ea68b2ee3ccb39643923218f9582'}],\n",
       "  'score': 98.53536224},\n",
       " 'timestamp': 1526637944}"
      ]
     },
     "execution_count": 10,
     "metadata": {},
     "output_type": "execute_result"
    }
   ],
   "source": [
    "from aip import AipFace\n",
    "import base64\n",
    "\n",
    "\"\"\" 你的 APPID AK SK \"\"\"\n",
    "APP_ID = '11262633'\n",
    "API_KEY = 'vMCwrMzFb6AkgTqwac0IbXyg'\n",
    "SECRET_KEY = '2vIr1XO9wviq0ma5KFKt0huC8fbhhwYo'\n",
    "\n",
    "client = AipFace(APP_ID, API_KEY, SECRET_KEY)\n",
    "jpg1 = base64.b64encode(open('./face/1.jpg', 'rb').read())\n",
    "jpg1 = bytes.decode(jpg1)\n",
    "jpg2 = base64.b64encode(open('./face/2.jpg', 'rb').read())\n",
    "jpg2 = bytes.decode(jpg2)\n",
    "# print(jpg1)\n",
    "result = client.match([\n",
    "    {\n",
    "        'image': jpg1,\n",
    "        'image_type': 'BASE64',\n",
    "    },\n",
    "    {\n",
    "        'image':str(jpg2),\n",
    "        'image_type': 'BASE64',\n",
    "    }\n",
    "])\n",
    "result"
   ]
  },
  {
   "cell_type": "code",
   "execution_count": 3,
   "metadata": {},
   "outputs": [
    {
     "data": {
      "text/plain": [
       "{'cached': 0,\n",
       " 'error_code': 0,\n",
       " 'error_msg': 'SUCCESS',\n",
       " 'log_id': 3439687130,\n",
       " 'result': {'face_list': [{'angle': {'pitch': 8.708130836,\n",
       "     'roll': -83.33369446,\n",
       "     'yaw': 16.52474403},\n",
       "    'face_probability': 1,\n",
       "    'face_token': '20fed7b388dabf752cbd17cbde699b85',\n",
       "    'location': {'height': 78,\n",
       "     'left': 367.6027527,\n",
       "     'rotation': -84,\n",
       "     'top': 481.6303406,\n",
       "     'width': 95}}],\n",
       "  'face_num': 1},\n",
       " 'timestamp': 1526981169}"
      ]
     },
     "execution_count": 3,
     "metadata": {},
     "output_type": "execute_result"
    }
   ],
   "source": [
    "from aip import AipFace\n",
    "import base64\n",
    "\n",
    "\"\"\" 你的 APPID AK SK \"\"\"\n",
    "APP_ID = '11262633'\n",
    "API_KEY = 'vMCwrMzFb6AkgTqwac0IbXyg'\n",
    "SECRET_KEY = '2vIr1XO9wviq0ma5KFKt0huC8fbhhwYo'\n",
    "imageType = \"BASE64\"\n",
    "\n",
    "client = AipFace(APP_ID, API_KEY, SECRET_KEY)\n",
    "jpg1 = base64.b64encode(open('./3.jpg', 'rb').read())\n",
    "jpg1 = bytes.decode(jpg1)\n",
    "client.detect(jpg1, imageType)\n",
    "\n",
    "# \"\"\" 如果有可选参数 \"\"\"\n",
    "# options = {}\n",
    "# options[\"face_field\"] = \"age\"\n",
    "# options[\"max_face_num\"] = 2\n",
    "# options[\"face_type\"] = \"LIVE\"\n",
    "\n",
    "# \"\"\" 带参数调用人脸检测 \"\"\"\n",
    "# client.detect(image, imageType, options)"
   ]
  },
  {
   "cell_type": "code",
   "execution_count": null,
   "metadata": {
    "collapsed": true
   },
   "outputs": [],
   "source": []
  }
 ],
 "metadata": {
  "kernelspec": {
   "display_name": "Python 3",
   "language": "python",
   "name": "python3"
  },
  "language_info": {
   "codemirror_mode": {
    "name": "ipython",
    "version": 3
   },
   "file_extension": ".py",
   "mimetype": "text/x-python",
   "name": "python",
   "nbconvert_exporter": "python",
   "pygments_lexer": "ipython3",
   "version": "3.6.1"
  }
 },
 "nbformat": 4,
 "nbformat_minor": 2
}
