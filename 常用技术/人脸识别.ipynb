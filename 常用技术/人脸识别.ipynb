{
 "cells": [
  {
   "cell_type": "code",
   "execution_count": 10,
   "metadata": {},
   "outputs": [
    {
     "data": {
      "text/plain": [
       "{'cached': 0,\n",
       " 'error_code': 0,\n",
       " 'error_msg': 'SUCCESS',\n",
       " 'log_id': 3476881099,\n",
       " 'result': {'face_list': [{'face_token': '9b9b31cd7f51a186826671f67c30f496'},\n",
       "   {'face_token': '21f4ea68b2ee3ccb39643923218f9582'}],\n",
       "  'score': 98.53536224},\n",
       " 'timestamp': 1526637944}"
      ]
     },
     "execution_count": 10,
     "metadata": {},
     "output_type": "execute_result"
    }
   ],
   "source": [
    "from aip import AipFace\n",
    "import base64\n",
    "\n",
    "\"\"\" 你的 APPID AK SK \"\"\"\n",
    "APP_ID = '11262633'\n",
    "API_KEY = 'vMCwrMzFb6AkgTqwac0IbXyg'\n",
    "SECRET_KEY = '2vIr1XO9wviq0ma5KFKt0huC8fbhhwYo'\n",
    "\n",
    "client = AipFace(APP_ID, API_KEY, SECRET_KEY)\n",
    "jpg1 = base64.b64encode(open('./face/1.jpg', 'rb').read())\n",
    "jpg1 = bytes.decode(jpg1)\n",
    "jpg2 = base64.b64encode(open('./face/2.jpg', 'rb').read())\n",
    "jpg2 = bytes.decode(jpg2)\n",
    "# print(jpg1)\n",
    "result = client.match([\n",
    "    {\n",
    "        'image': jpg1,\n",
    "        'image_type': 'BASE64',\n",
    "    },\n",
    "    {\n",
    "        'image':str(jpg2),\n",
    "        'image_type': 'BASE64',\n",
    "    }\n",
    "])\n",
    "result"
   ]
  },
  {
   "cell_type": "code",
   "execution_count": null,
   "metadata": {
    "collapsed": true
   },
   "outputs": [],
   "source": []
  }
 ],
 "metadata": {
  "kernelspec": {
   "display_name": "Python 3",
   "language": "python",
   "name": "python3"
  },
  "language_info": {
   "codemirror_mode": {
    "name": "ipython",
    "version": 3
   },
   "file_extension": ".py",
   "mimetype": "text/x-python",
   "name": "python",
   "nbconvert_exporter": "python",
   "pygments_lexer": "ipython3",
   "version": "3.6.1"
  }
 },
 "nbformat": 4,
 "nbformat_minor": 2
}
