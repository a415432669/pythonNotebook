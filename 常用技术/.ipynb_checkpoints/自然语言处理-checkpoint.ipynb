{
 "cells": [
  {
   "cell_type": "code",
   "execution_count": 5,
   "metadata": {},
   "outputs": [
    {
     "name": "stdout",
     "output_type": "stream",
     "text": [
      "https://aip.baidubce.com/rpc/2.0/nlp/v1/sentiment_classify?grant_type=client_credentials&client_id=hqriWHNLy0KM3Gi6AXwWGIDV&client_secret=pxvaWiZrhVSUEzAcsz8Q7Rq1vEKHxuuN\n"
     ]
    },
    {
     "data": {
      "text/plain": [
       "'{\"error_msg\":\"Invalid parameter\",\"error_code\":100}'"
      ]
     },
     "execution_count": 5,
     "metadata": {},
     "output_type": "execute_result"
    }
   ],
   "source": [
    "import requests\n",
    "API_Key = 'hqriWHNLy0KM3Gi6AXwWGIDV'\n",
    "Secret_Key = 'pxvaWiZrhVSUEzAcsz8Q7Rq1vEKHxuuN'\n",
    "url = 'https://aip.baidubce.com/rpc/2.0/nlp/v1/sentiment_classify'\n",
    "urlAll = '{}?grant_type=client_credentials&client_id={}&client_secret={}'.format(url,API_Key,Secret_Key)\n",
    "print(urlAll)\n",
    "data = {\n",
    "    \"text\": \"苹果是一家伟大的公司\" \n",
    "}\n",
    "res = requests.post(urlAll,data=data)\n",
    "res.text"
   ]
  },
  {
   "cell_type": "code",
   "execution_count": 13,
   "metadata": {},
   "outputs": [
    {
     "name": "stdout",
     "output_type": "stream",
     "text": [
      "https://aip.baidubce.com/rpc/2.0/nlp/v1/keyword?grant_type=client_credentials&client_id=hqriWHNLy0KM3Gi6AXwWGIDV&client_secret=pxvaWiZrhVSUEzAcsz8Q7Rq1vEKHxuuN\n"
     ]
    },
    {
     "data": {
      "text/plain": [
       "'{\"error_msg\":\"Invalid parameter\",\"error_code\":100}'"
      ]
     },
     "execution_count": 13,
     "metadata": {},
     "output_type": "execute_result"
    }
   ],
   "source": [
    "import requests\n",
    "API_Key = 'hqriWHNLy0KM3Gi6AXwWGIDV'\n",
    "Secret_Key = 'pxvaWiZrhVSUEzAcsz8Q7Rq1vEKHxuuN'\n",
    "url = 'https://aip.baidubce.com/rpc/2.0/nlp/v1/keyword'\n",
    "urlAll = '{}?grant_type=client_credentials&client_id={}&client_secret={}'.format(url,API_Key,Secret_Key)\n",
    "print(urlAll)\n",
    "# data = {\n",
    "#     \"text\": \"苹果是一家伟大的公司\" \n",
    "# }\n",
    "res = requests.post(urlAll,data=data)\n",
    "res.text"
   ]
  },
  {
   "cell_type": "code",
   "execution_count": 2,
   "metadata": {},
   "outputs": [
    {
     "data": {
      "text/plain": [
       "{'access_token': '24.46e9070a487637c8ac40b82a0faf3874.2592000.1529216734.282335-11245226',\n",
       " 'expires_in': 2592000,\n",
       " 'refresh_token': '25.5e43d1e17606256861a38194c6a86e8a.315360000.1841984734.282335-11245226',\n",
       " 'scope': 'public nlp_simnet nlp_wordemb nlp_comtag nlp_dnnlm_cn brain_nlp_lexer brain_all_scope brain_nlp_comment_tag brain_nlp_dnnlm_cn brain_nlp_word_emb_vec brain_nlp_word_emb_sim brain_nlp_sentiment_classify brain_nlp_simnet brain_nlp_depparser brain_nlp_wordembedding brain_nlp_dnnlm_cn_legacy brain_nlp_simnet_legacy brain_nlp_comment_tag_legacy brain_nlp_lexer_custom brain_nlp_keyword brain_nlp_topic wise_adapt lebo_resource_base lightservice_public hetu_basic lightcms_map_poi kaidian_kaidian ApsMisTest_Test权限 vis-classify_flower lpq_开放 cop_helloScope ApsMis_fangdi_permission smartapp_snsapi_base',\n",
       " 'session_key': '9mzdDxKagh//RWsE58HzSdVWB3NoHLN1NCMLDN/bZGtHPU6LNJdNlB6SzwTq3oQ0YooQktRjgfz/vsGAb06l31q0fEuabw==',\n",
       " 'session_secret': 'c583e5d7730020a8b8661bf8403f572d'}"
      ]
     },
     "execution_count": 2,
     "metadata": {},
     "output_type": "execute_result"
    }
   ],
   "source": [
    "import requests\n",
    "import json\n",
    "API_Key = 'hqriWHNLy0KM3Gi6AXwWGIDV'\n",
    "Secret_Key = 'pxvaWiZrhVSUEzAcsz8Q7Rq1vEKHxuuN'\n",
    "url = 'https://aip.baidubce.com/oauth/2.0/token'\n",
    "urlAll = '{}?grant_type=client_credentials&client_id={}&client_secret={}'.format(url,API_Key,Secret_Key)\n",
    "# print(urlAll)\n",
    "# data = {\n",
    "#     \"text\": \"苹果是一家伟大的公司\" \n",
    "# }\n",
    "res = requests.post(urlAll)\n",
    "obj = json.loads(res.text)\n",
    "obj"
   ]
  },
  {
   "cell_type": "code",
   "execution_count": 23,
   "metadata": {},
   "outputs": [
    {
     "name": "stdout",
     "output_type": "stream",
     "text": [
      "https://aip.baidubce.com/rpc/2.0/nlp/v1/sentiment_classify?charset=UTF-8&access_token=24.46e9070a487637c8ac40b82a0faf3874.2592000.1529216734.282335-11245226\n"
     ]
    },
    {
     "data": {
      "text/plain": [
       "'{\"log_id\": 1352572447321244688, \"error_code\": 282004, \"error_msg\": \"invalid parameter(s)\"}'"
      ]
     },
     "execution_count": 23,
     "metadata": {},
     "output_type": "execute_result"
    }
   ],
   "source": [
    "urlMotion = 'https://aip.baidubce.com/rpc/2.0/nlp/v1/sentiment_classify?charset=UTF-8&access_token={}'.format(obj['access_token'])\n",
    "data = {\n",
    "    'content':'你好广州'\n",
    "}\n",
    "\n",
    "print(urlMotion)\n",
    "test = requests.post(urlMotion,data=data)\n",
    "test.text"
   ]
  },
  {
   "cell_type": "code",
   "execution_count": null,
   "metadata": {
    "collapsed": true
   },
   "outputs": [],
   "source": [
    "from aip import AipNlp\n",
    "\n",
    "\"\"\" 你的 APPID AK SK \"\"\"\n",
    "APP_ID = '11245226'\n",
    "API_KEY = 'hqriWHNLy0KM3Gi6AXwWGIDV'\n",
    "SECRET_KEY = 'pxvaWiZrhVSUEzAcsz8Q7Rq1vEKHxuuN'\n",
    "\n",
    "client = AipNlp(APP_ID, API_KEY, SECRET_KEY)\n",
    "text = \"百度是一家高科技公司\"\n",
    "\n",
    "\"\"\" 调用词法分析 \"\"\"\n",
    "client.lexer(text);"
   ]
  }
 ],
 "metadata": {
  "kernelspec": {
   "display_name": "Python 3",
   "language": "python",
   "name": "python3"
  },
  "language_info": {
   "codemirror_mode": {
    "name": "ipython",
    "version": 3
   },
   "file_extension": ".py",
   "mimetype": "text/x-python",
   "name": "python",
   "nbconvert_exporter": "python",
   "pygments_lexer": "ipython3",
   "version": "3.6.1"
  }
 },
 "nbformat": 4,
 "nbformat_minor": 2
}
