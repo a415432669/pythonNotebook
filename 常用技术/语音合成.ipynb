{
 "cells": [
  {
   "cell_type": "code",
   "execution_count": null,
   "metadata": {},
   "outputs": [],
   "source": [
    "from aip import AipSpeech\n",
    "import os\n",
    "\"\"\" 你的 APPID AK SK \"\"\"\n",
    "APP_ID = '11281953'\n",
    "API_KEY = 'DXrAftkcRz82MNIMXC7zltuX'\n",
    "SECRET_KEY = 'nefvKfjv85wD5lz7Evlr6Zf4O9YN4VYS'\n",
    "\n",
    "client = AipSpeech(APP_ID, API_KEY, SECRET_KEY)\n",
    "\n",
    "result  = client.synthesis('陈子月宝宝不哭', 'zh', 1, {\n",
    "    'vol': 5,\n",
    "})\n",
    "\n",
    "# 识别正确返回语音二进制 错误则返回dict 参照下面错误码\n",
    "if not isinstance(result, dict):\n",
    "    with open('auido.mp3', 'wb') as f:\n",
    "        f.write(result)\n",
    "    os.system('auido.mp3')"
   ]
  },
  {
   "cell_type": "code",
   "execution_count": 3,
   "metadata": {
    "collapsed": true
   },
   "outputs": [],
   "source": [
    "from aip import AipSpeech\n",
    "import os\n",
    "\"\"\" 你的 APPID AK SK \"\"\"\n",
    "APP_ID = '11281953'\n",
    "API_KEY = 'DXrAftkcRz82MNIMXC7zltuX'\n",
    "SECRET_KEY = 'nefvKfjv85wD5lz7Evlr6Zf4O9YN4VYS'\n",
    "\n",
    "client = AipSpeech(APP_ID, API_KEY, SECRET_KEY)\n",
    "\n",
    "result  = client.synthesis('老爸你好', 'zh', 1, {\n",
    "    'vol': 5,\n",
    "})\n",
    "\n",
    "# 识别正确返回语音二进制 错误则返回dict 参照下面错误码\n",
    "if not isinstance(result, dict):\n",
    "    with open('auido.mp3', 'wb') as f:\n",
    "        f.write(result)\n",
    "    os.system('auido.mp3')"
   ]
  },
  {
   "cell_type": "code",
   "execution_count": null,
   "metadata": {
    "collapsed": true
   },
   "outputs": [],
   "source": []
  }
 ],
 "metadata": {
  "kernelspec": {
   "display_name": "Python 3",
   "language": "python",
   "name": "python3"
  },
  "language_info": {
   "codemirror_mode": {
    "name": "ipython",
    "version": 3
   },
   "file_extension": ".py",
   "mimetype": "text/x-python",
   "name": "python",
   "nbconvert_exporter": "python",
   "pygments_lexer": "ipython3",
   "version": "3.6.3"
  }
 },
 "nbformat": 4,
 "nbformat_minor": 2
}
