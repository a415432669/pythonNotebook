{
 "cells": [
  {
   "cell_type": "markdown",
   "metadata": {},
   "source": [
    "## Python 异常处理与文件操作"
   ]
  },
  {
   "cell_type": "raw",
   "metadata": {},
   "source": [
    "处理Python异常\n",
    "异常的引发\n",
    "Finally的使用\n",
    "文件的操作"
   ]
  },
  {
   "cell_type": "markdown",
   "metadata": {},
   "source": [
    "## 1、处理Python异常"
   ]
  },
  {
   "cell_type": "markdown",
   "metadata": {},
   "source": [
    "### 什么是Python的异常"
   ]
  },
  {
   "cell_type": "markdown",
   "metadata": {},
   "source": [
    "当Python程序出现某些异常状况的时候，我们将这种状态称为Python的异常。比如当我们没有正确缩进的时候，会出现异常错误，这种状态就是异常的一种情形。当发生的Python异常的时候，会把异常的类型和异常的位置打印出来，便于我们程序员去处理。下面我们举例来讲一下。\n"
   ]
  },
  {
   "cell_type": "code",
   "execution_count": 1,
   "metadata": {},
   "outputs": [
    {
     "ename": "NameError",
     "evalue": "name 'Print' is not defined",
     "output_type": "error",
     "traceback": [
      "\u001b[1;31m---------------------------------------------------------------------------\u001b[0m",
      "\u001b[1;31mNameError\u001b[0m                                 Traceback (most recent call last)",
      "\u001b[1;32m<ipython-input-1-5ffb929db7a5>\u001b[0m in \u001b[0;36m<module>\u001b[1;34m()\u001b[0m\n\u001b[1;32m----> 1\u001b[1;33m \u001b[0mPrint\u001b[0m \u001b[1;33m(\u001b[0m\u001b[1;34m\"错误的大写\"\u001b[0m\u001b[1;33m)\u001b[0m\u001b[1;33m\u001b[0m\u001b[0m\n\u001b[0m",
      "\u001b[1;31mNameError\u001b[0m: name 'Print' is not defined"
     ]
    }
   ],
   "source": [
    "Print (\"错误的大写\")"
   ]
  },
  {
   "cell_type": "markdown",
   "metadata": {},
   "source": [
    "### Python异常的处理"
   ]
  },
  {
   "cell_type": "markdown",
   "metadata": {},
   "source": [
    "假如我们在编程的时候，知道某些语句可能会导致某种错误的发生，而现在我们想在编程的时候就把发生的这种错误解决掉，这个时候，我们可以用except语句对可能出错的部分进行处理。下面我们通过实例进行讲解。\n"
   ]
  },
  {
   "cell_type": "code",
   "execution_count": 4,
   "metadata": {},
   "outputs": [
    {
     "name": "stdout",
     "output_type": "stream",
     "text": [
      "刚才i没定义，处理了异常之后，i的值为：19\n"
     ]
    }
   ],
   "source": [
    "#Python异常的处理\n",
    "#使用try…except语句，假如try出现了某种异常，则执行except下面的语句\n",
    "#i = 77\n",
    "#print(iii)\n",
    "try:\n",
    "    print (iiii)\n",
    "except :     #这里一定要指明异常类型\n",
    "    iiii = 9\n",
    "    iiii += 10\n",
    "    print (\"刚才i没定义，处理了异常之后，i的值为：\"+str(iiii))\n"
   ]
  },
  {
   "cell_type": "code",
   "execution_count": 8,
   "metadata": {
    "scrolled": true
   },
   "outputs": [
    {
     "name": "stdout",
     "output_type": "stream",
     "text": [
      "刚刚i与j类型对应不上，我们转换一下类型即可处理异常，处理后：结果是：10a\n"
     ]
    }
   ],
   "source": [
    "# 处理多种异常\n",
    "i = 10\n",
    "j = \"a\"\n",
    "#print (i + j)\n",
    "try:\n",
    "    print (i + j)\n",
    "except NameError:\n",
    "    i=j=0\n",
    "    print (\"刚刚i或j没有进行初始化数据，现在我们将其都初始化为0，结果是：\")\n",
    "    print (i + j)\n",
    "except TypeError:\n",
    "    print (\"刚刚i与j类型对应不上，我们转换一下类型即可处理异常，处理后：结果是：\"+str(i)+str(j))"
   ]
  },
  {
   "cell_type": "markdown",
   "metadata": {},
   "source": [
    "### 2、异常的引发"
   ]
  },
  {
   "cell_type": "markdown",
   "metadata": {},
   "source": [
    "### 什么是异常的引发"
   ]
  },
  {
   "cell_type": "markdown",
   "metadata": {},
   "source": [
    "上面我们已经初步提到，当某些程序出现某个异常的时候，执行时会自动将该异常类型和异常发生的位置打印出来。但是，这些错误的类型，是系统已经定义好的，比如系统规定，Python必须严格缩进，那么系统就会自己定义一个异常类型，当用户不按这个规定来的时候，就引发该异常。其实，除了系统自定义异常外，我们也是可以自己规定异常的，比如我们可以做一个字符串长度规定，当字符串长度不符合要求时就属于异常，然后再具体规定这种情况的时候的异常的名称，该异常怎么显示等等。那么，如要要自定义异常，就有一个关键的步骤：某种情况下才引发某种异常，比如字符串长度小于3，引发自定义的A异常。这个过程就叫做异常的引发。\n"
   ]
  },
  {
   "cell_type": "markdown",
   "metadata": {},
   "source": [
    "### Python中异常的引发的实现"
   ]
  },
  {
   "cell_type": "markdown",
   "metadata": {},
   "source": [
    "在Python中，要想实现让某种情况下引发某种自定义的异常这个功能，可以使用raise语句实现。下面我们通过实例进行讲解。\n"
   ]
  },
  {
   "cell_type": "code",
   "execution_count": 12,
   "metadata": {},
   "outputs": [
    {
     "name": "stdout",
     "output_type": "stream",
     "text": [
      "8\n",
      "9\n"
     ]
    },
    {
     "ename": "NameError",
     "evalue": "",
     "output_type": "error",
     "traceback": [
      "\u001b[1;31m---------------------------------------------------------------------------\u001b[0m",
      "\u001b[1;31mNameError\u001b[0m                                 Traceback (most recent call last)",
      "\u001b[1;32m<ipython-input-12-98db435184c8>\u001b[0m in \u001b[0;36m<module>\u001b[1;34m()\u001b[0m\n\u001b[0;32m      5\u001b[0m \u001b[1;32mif\u001b[0m \u001b[0mi\u001b[0m \u001b[1;33m>\u001b[0m \u001b[1;36m7\u001b[0m\u001b[1;33m:\u001b[0m\u001b[1;33m\u001b[0m\u001b[0m\n\u001b[0;32m      6\u001b[0m     \u001b[0mprint\u001b[0m \u001b[1;33m(\u001b[0m\u001b[1;36m9\u001b[0m\u001b[1;33m)\u001b[0m\u001b[1;33m\u001b[0m\u001b[0m\n\u001b[1;32m----> 7\u001b[1;33m     \u001b[1;32mraise\u001b[0m \u001b[0mNameError\u001b[0m\u001b[1;33m\u001b[0m\u001b[0m\n\u001b[0m\u001b[0;32m      8\u001b[0m     \u001b[0mprint\u001b[0m \u001b[1;33m(\u001b[0m\u001b[1;36m10\u001b[0m\u001b[1;33m)\u001b[0m\u001b[1;33m\u001b[0m\u001b[0m\n",
      "\u001b[1;31mNameError\u001b[0m: "
     ]
    }
   ],
   "source": [
    "#异常的引发\n",
    "#1/用raise引发一个系统的错误类\n",
    "i = 8\n",
    "print (i)\n",
    "if i > 7:\n",
    "    print (9)\n",
    "    raise NameError\n",
    "    print (10)"
   ]
  },
  {
   "cell_type": "code",
   "execution_count": 14,
   "metadata": {},
   "outputs": [
    {
     "name": "stdout",
     "output_type": "stream",
     "text": [
      "RhhError:错了就是错了\n"
     ]
    }
   ],
   "source": [
    "#2/自定义一个异常并用raise引发\n",
    "class RhhError(Exception):                 #按照命名规范，以Error结尾，并且自定义异常需要继承Exception类\n",
    "    def __init__(self):\n",
    "        Exception.__init__(self)\n",
    "try:\n",
    "    i = 8\n",
    "    if i > 7:\n",
    "        raise RhhError()\n",
    "except RhhError:\n",
    "    print (\"RhhError:错了就是错了\")"
   ]
  },
  {
   "cell_type": "markdown",
   "metadata": {},
   "source": [
    "### 3、Finally的使用"
   ]
  },
  {
   "cell_type": "markdown",
   "metadata": {},
   "source": [
    "### 什么是try…finally语句\n"
   ]
  },
  {
   "cell_type": "markdown",
   "metadata": {},
   "source": [
    "我们知道，当一段程序，出现异常的时候，就不会继续执行下去了。但是有时，我们希望，不管某段程序发没发生异常，都得执行某些操作的时候，我们就可以使用try…finally语句实现。\n"
   ]
  },
  {
   "cell_type": "markdown",
   "metadata": {},
   "source": [
    "### try…finally使用实例"
   ]
  },
  {
   "cell_type": "markdown",
   "metadata": {},
   "source": [
    "下面我们通过实例讲解一下try…finally语句的使用实例。\n"
   ]
  },
  {
   "cell_type": "code",
   "execution_count": 15,
   "metadata": {},
   "outputs": [
    {
     "name": "stdout",
     "output_type": "stream",
     "text": [
      "8\n",
      "不管上面是否异常，我必须输出！\n"
     ]
    }
   ],
   "source": [
    "#try…finally的使用\n",
    "#假如要实现不管中间是否发生异常，都要输出一串字符串\n",
    "try:\n",
    "    print (i)\n",
    "finally:\n",
    "    print (\"不管上面是否异常，我必须输出！\")"
   ]
  },
  {
   "cell_type": "code",
   "execution_count": 16,
   "metadata": {},
   "outputs": [
    {
     "name": "stdout",
     "output_type": "stream",
     "text": [
      "我要输出10次，现在正在输出中，也不知道现在是多少次了\n",
      "我要输出10次，现在正在输出中，也不知道现在是多少次了\n",
      "我要输出10次，现在正在输出中，也不知道现在是多少次了\n",
      "我要输出10次，现在正在输出中，也不知道现在是多少次了\n",
      "我要输出10次，现在正在输出中，也不知道现在是多少次了\n",
      "我要输出10次，现在正在输出中，也不知道现在是多少次了\n",
      "我要输出10次，现在正在输出中，也不知道现在是多少次了\n",
      "我要输出10次，现在正在输出中，也不知道现在是多少次了\n",
      "我要输出10次，现在正在输出中，也不知道现在是多少次了\n",
      "我要输出10次，现在正在输出中，也不知道现在是多少次了\n",
      "此时i的值是：9--并未完成全部输出\n"
     ]
    }
   ],
   "source": [
    "#第二个例子：要实现将一串字符串输出10次，假如异常发生，需要判断前面已经输出了多少次。\n",
    "try:\n",
    "    for i in range(10):\n",
    "        print (\"我要输出10次，现在正在输出中，也不知道现在是多少次了\")\n",
    "finally:\n",
    "    print (\"此时i的值是：\"+str(i)+\"--并未完成全部输出\")"
   ]
  },
  {
   "cell_type": "markdown",
   "metadata": {},
   "source": [
    "### 4、文件的操作"
   ]
  },
  {
   "cell_type": "markdown",
   "metadata": {},
   "source": [
    "### 什么是文件的操作"
   ]
  },
  {
   "cell_type": "markdown",
   "metadata": {},
   "source": [
    "假如我们想操作一个文件，我们可以直接在操作系统中对这个文件进行操作，但是除此之外，我们还有另一种方法对该文件进行操作--使用Python程序直接自动操作某文件。我们在这里，主要会给大家讲解后一种情况，即研究如何使用Python程序对文件进行相关操作。使用Python程序对文件进行操作的类型主要有：创建文件、打开文件、关闭文件、将指定内容写入文件、读取文件、关闭文件等等。\n"
   ]
  },
  {
   "cell_type": "markdown",
   "metadata": {},
   "source": [
    "### Python中文件操作实例"
   ]
  },
  {
   "cell_type": "markdown",
   "metadata": {},
   "source": [
    "下面我们通过实例讲解一下Python中文件的操作。\n"
   ]
  },
  {
   "cell_type": "code",
   "execution_count": 9,
   "metadata": {
    "collapsed": true
   },
   "outputs": [],
   "source": [
    "#创建某个文件\n",
    "import os\n",
    "os.mkdir(r\"E:\\newdir\")"
   ]
  },
  {
   "cell_type": "markdown",
   "metadata": {},
   "source": [
    "写入和关闭文件---写入文件四步曲：先做好内容，然后建立文件，然后再写入，然后再关闭"
   ]
  },
  {
   "cell_type": "code",
   "execution_count": 10,
   "metadata": {},
   "outputs": [
    {
     "name": "stdout",
     "output_type": "stream",
     "text": [
      "面朝大海春暖花开\n"
     ]
    }
   ],
   "source": [
    "content=input()"
   ]
  },
  {
   "cell_type": "code",
   "execution_count": 11,
   "metadata": {
    "collapsed": true
   },
   "outputs": [],
   "source": [
    "#创建txt文件，我们用open的w模式，文件不存在，就会自动创建。\n",
    "file = open(r\"E:\\newdir\\py1.txt\",'w')"
   ]
  },
  {
   "cell_type": "code",
   "execution_count": 12,
   "metadata": {
    "collapsed": true
   },
   "outputs": [],
   "source": [
    "#写入内容。\n",
    "file.write(content)\n",
    "file.close()"
   ]
  },
  {
   "cell_type": "code",
   "execution_count": 13,
   "metadata": {},
   "outputs": [
    {
     "name": "stdout",
     "output_type": "stream",
     "text": [
      "面朝大海春暖花开\n"
     ]
    }
   ],
   "source": [
    "#读取文件,关键点：先打开文件，在进入while循环依次读取每行\n",
    "fr = open(r\"E:\\newdir\\py1.txt\")\n",
    "while True:\n",
    "    line = fr.readline()\n",
    "    if len(line) == 0:\n",
    "        break\n",
    "    print (line)\n",
    "    fr.close"
   ]
  },
  {
   "cell_type": "code",
   "execution_count": 14,
   "metadata": {},
   "outputs": [
    {
     "name": "stdout",
     "output_type": "stream",
     "text": [
      "面朝大海春暖花开,\n"
     ]
    }
   ],
   "source": [
    "fr = open(r\"E:\\newdir\\py1.txt\",'r')\n",
    "for u in fr:\n",
    "    print (u+\",\")\n",
    "fr.close()"
   ]
  },
  {
   "cell_type": "code",
   "execution_count": 20,
   "metadata": {},
   "outputs": [
    {
     "name": "stdout",
     "output_type": "stream",
     "text": [
      "('31', 'http://p0.meituan.net/movie/e3285cf6ed5395777433e8be5fd0078087787.jpg@160w_220h_1e_1c', '指环王2：双塔奇兵', '\\n                主演：伊利亚·伍德,伊恩·麦克莱恩,丽芙·泰勒\\n        ', '上映时间：2003-04-25', '9.', '1')\n",
      "('32', 'http://p0.meituan.net/movie/53/930936.jpg@160w_220h_1e_1c', '机器人总动员', '\\n                主演：本·贝尔特,艾丽莎·奈特,杰夫·格尔林\\n        ', '上映时间：2008-06-27(美国)', '9.', '3')\n",
      "('33', 'http://p0.meituan.net/movie/11/295014.jpg@160w_220h_1e_1c', '天堂电影院', '\\n                主演：菲利浦·诺瓦雷,塞吉·卡斯特里图,蒂兹亚娜·罗达托\\n        ', '上映时间：1988-11-17(意大利)', '9.', '2')\n",
      "('34', 'http://p0.meituan.net/movie/32/595031.jpg@160w_220h_1e_1c', '拯救大兵瑞恩', '\\n                主演：汤姆·汉克斯,马特·达蒙,汤姆·塞兹摩尔\\n        ', '上映时间：1998-07-24(美国)', '8.', '9')\n",
      "('35', 'http://p0.meituan.net/movie/53/1819401.jpg@160w_220h_1e_1c', '活着', '\\n                主演：葛优,巩俐,牛犇\\n        ', '上映时间：1994-05-18(法国)', '9.', '0')\n",
      "('36', 'http://p1.meituan.net/movie/6b2dd1a9094b76e5f6d905d3687c0dce27162.jpg@160w_220h_1e_1c', '忠犬八公的故事', '\\n                主演：Forest,理查·基尔,琼·艾伦\\n        ', '上映时间：2010-03-12(英国)', '9.', '3')\n",
      "('37', 'http://p1.meituan.net/movie/0dcbfdac2178043fa1a701269c10535738603.jpg@160w_220h_1e_1c', '哈尔的移动城堡', '\\n                主演：倍赏千惠子,木村拓哉,美轮明宏\\n        ', '上映时间：2004-11-20(日本)', '9.', '0')\n",
      "('38', 'http://p1.meituan.net/movie/4faf9749d2014b7cc94331a38d848f99132123.jpg@160w_220h_1e_1c', '盗梦空间', '\\n                主演：莱昂纳多·迪卡普里奥,渡边谦,约瑟夫·高登-莱维特\\n        ', '上映时间：2010-09-01', '9.', '2')\n",
      "('39', 'http://p1.meituan.net/movie/c5e76795bf7a78b12a2ffabb4a0c5c11112921.jpg@160w_220h_1e_1c', '搏击俱乐部', '\\n                主演：爱德华·诺顿,布拉德·皮特,海伦娜·伯翰·卡特\\n        ', '上映时间：1999-10-15(美国)', '8.', '8')\n",
      "('40', 'http://p0.meituan.net/movie/d08f5d2b7ba006a6e4058e62f916736725217.jpg@160w_220h_1e_1c', '东邪西毒', '\\n                主演：张国荣,林青霞,梁朝伟\\n        ', '上映时间：1994-09-17', '8.', '9')\n"
     ]
    }
   ],
   "source": [
    "import re\n",
    "import requests\n",
    "headers = {\n",
    "    'User-Agent':'Mozilla/5.0 (Windows NT 6.1; WOW64) AppleWebKit/537.36 (KHTML, like Gecko) Chrome/64.0.3282.119 Safari/537.36'\n",
    "}\n",
    "res = requests.get('http://maoyan.com/board/4?offset=30',headers=headers)\n",
    "res.text\n",
    "pattern = re.compile('<dd>.*?board-index.*?>(\\d+)</i>.*?data-src=\"(.*?)\".*?name\"><a'\n",
    "                         +'.*?>(.*?)</a>.*?star\">(.*?)</p>.*?releasetime\">(.*?)</p>'\n",
    "                         +'.*?integer\">(.*?)</i>.*?fraction\">(.*?)</i>.*?</dd>', re.S)\n",
    "items = re.findall(pattern, res.text)\n",
    "for item in items:\n",
    "    print(item)"
   ]
  },
  {
   "cell_type": "code",
   "execution_count": null,
   "metadata": {
    "collapsed": true
   },
   "outputs": [],
   "source": []
  }
 ],
 "metadata": {
  "kernelspec": {
   "display_name": "Python 3",
   "language": "python",
   "name": "python3"
  },
  "language_info": {
   "codemirror_mode": {
    "name": "ipython",
    "version": 3
   },
   "file_extension": ".py",
   "mimetype": "text/x-python",
   "name": "python",
   "nbconvert_exporter": "python",
   "pygments_lexer": "ipython3",
   "version": "3.6.1"
  }
 },
 "nbformat": 4,
 "nbformat_minor": 1
}
