{
 "cells": [
  {
   "cell_type": "markdown",
   "metadata": {},
   "source": [
    "### filter\n",
    "Python内建的filter()函数用于过滤序列。\n",
    "\n",
    "和map()类似，filter()也接收一个函数和一个序列。和map()不同的是，filter()把传入的函数依次作用于每个元素，然后根据返回值是True还是False决定保留还是丢弃该元素。\n",
    "\n",
    "例如，在一个list中，删掉偶数，只保留奇数"
   ]
  },
  {
   "cell_type": "code",
   "execution_count": 1,
   "metadata": {},
   "outputs": [
    {
     "data": {
      "text/plain": [
       "[1, 5, 9, 15]"
      ]
     },
     "execution_count": 1,
     "metadata": {},
     "output_type": "execute_result"
    }
   ],
   "source": [
    "def is_odd(n):\n",
    "    return n % 2 == 1\n",
    "\n",
    "list(filter(is_odd, [1, 2, 4, 5, 6, 9, 10, 15]))"
   ]
  },
  {
   "cell_type": "code",
   "execution_count": 2,
   "metadata": {},
   "outputs": [
    {
     "data": {
      "text/plain": [
       "['A', 'B', 'C']"
      ]
     },
     "execution_count": 2,
     "metadata": {},
     "output_type": "execute_result"
    }
   ],
   "source": [
    "#一个序列中的空字符串删掉，可以这么写：\n",
    "\n",
    "def not_empty(s):\n",
    "    return s and s.strip()\n",
    "\n",
    "list(filter(not_empty, ['A', '', 'B', None, 'C', '  ']))"
   ]
  },
  {
   "cell_type": "code",
   "execution_count": 6,
   "metadata": {},
   "outputs": [
    {
     "name": "stdout",
     "output_type": "stream",
     "text": [
      "[{'name': '小红', 'sex': 'girl'}, {'name': '小qi', 'sex': 'girl'}]\n",
      "[{'name': '小红', 'sex': 'girl'}, {'name': '小qi', 'sex': 'girl'}]\n"
     ]
    }
   ],
   "source": [
    "students = [\n",
    "    {\n",
    "        'name':\"小红\",\n",
    "        'sex':'girl'\n",
    "    },\n",
    "    {\n",
    "        'name':\"小白\",\n",
    "        'sex':'boy'\n",
    "    },{\n",
    "        'name':\"小hei\",\n",
    "        'sex':'boy'\n",
    "    },{\n",
    "        'name':\"小qi\",\n",
    "        'sex':'girl'\n",
    "    }\n",
    "]\n",
    "\n",
    "def fn(item):\n",
    "    if item['sex']=='girl':\n",
    "        return item\n",
    "    else:\n",
    "        return False\n",
    "\n",
    "\n",
    "list(filter(fn,students)) \n",
    "\n",
    "#map\n",
    "#reduce\n",
    "\n",
    "#一堆旧书，擦洗的工作   [一堆需要被操作的列表] ---》自定义\n",
    "#把每一本书都拿起来，都用抹布擦干净  流程--》函数--->自定义\n",
    "#一堆新书 [被操作后的列表]\n",
    "\n",
    "#map('自定义清洗流程'，'自定义的一堆书')===》（得到一堆你想要的书）\n",
    "\n",
    "#filter('')\n",
    "#一堆旧书\n",
    "#每一本书，拿起来看，审查新不新，烂掉了就不要，这个程度，这个依据，自定义一个流程和依据\n",
    "#留下一堆你想要留下的书\n",
    "\n",
    "#filter('自定义的过滤依据'，[一堆书传入进来])\n",
    "\n",
    "def filter1(fn,L):\n",
    "    nList = []\n",
    "    for item in L:\n",
    "        if fn(item):\n",
    "            nList.append(item)\n",
    "    \n",
    "    return nList\n",
    "\n",
    "\n",
    "def filter2(fn,L):\n",
    "    for item in L:\n",
    "        yield fn(item)\n",
    "            \n",
    "\n",
    "print(filter1(fn,students))\n",
    "print(list(filter2(fn,students)))\n",
    "        \n",
    "            \n",
    "    \n",
    "\n",
    "\n"
   ]
  },
  {
   "cell_type": "markdown",
   "metadata": {},
   "source": [
    "可见用filter()这个高阶函数，关键在于正确实现一个“筛选”函数。\n",
    "\n",
    "注意到filter()函数返回的是一个Iterator，也就是一个惰性序列，所以要强迫filter()完成计算结果，需要用list()函数获得所有结果并返回list。"
   ]
  }
 ],
 "metadata": {
  "kernelspec": {
   "display_name": "Python 3",
   "language": "python",
   "name": "python3"
  },
  "language_info": {
   "codemirror_mode": {
    "name": "ipython",
    "version": 3
   },
   "file_extension": ".py",
   "mimetype": "text/x-python",
   "name": "python",
   "nbconvert_exporter": "python",
   "pygments_lexer": "ipython3",
   "version": "3.6.1"
  }
 },
 "nbformat": 4,
 "nbformat_minor": 2
}
