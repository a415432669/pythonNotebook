{
 "cells": [
  {
   "cell_type": "markdown",
   "metadata": {},
   "source": [
    "### 实例属性和类属性\n",
    "\n",
    "由于Python是动态语言，根据类创建的实例可以任意绑定属性。\n",
    "\n",
    "给实例绑定属性的方法是通过实例变量，或者通过self变量"
   ]
  },
  {
   "cell_type": "code",
   "execution_count": 7,
   "metadata": {},
   "outputs": [
    {
     "ename": "AttributeError",
     "evalue": "'str' object has no attribute 'bb'",
     "output_type": "error",
     "traceback": [
      "\u001b[1;31m---------------------------------------------------------------------------\u001b[0m",
      "\u001b[1;31mAttributeError\u001b[0m                            Traceback (most recent call last)",
      "\u001b[1;32m<ipython-input-7-1a40cab3e74a>\u001b[0m in \u001b[0;36m<module>\u001b[1;34m()\u001b[0m\n\u001b[0;32m     40\u001b[0m \u001b[1;33m\u001b[0m\u001b[0m\n\u001b[0;32m     41\u001b[0m \u001b[1;33m\u001b[0m\u001b[0m\n\u001b[1;32m---> 42\u001b[1;33m \u001b[1;34m'123'\u001b[0m\u001b[1;33m.\u001b[0m\u001b[0mbb\u001b[0m \u001b[1;33m=\u001b[0m \u001b[1;34m'666'\u001b[0m\u001b[1;33m\u001b[0m\u001b[0m\n\u001b[0m",
      "\u001b[1;31mAttributeError\u001b[0m: 'str' object has no attribute 'bb'"
     ]
    }
   ],
   "source": [
    "class Student(object):\n",
    "#     Student_num = 0\n",
    "    def __init__(self, name):\n",
    "        self.name = name\n",
    "#         self.num = 2\n",
    "#         Student.num = Student.num + 1\n",
    "        \n",
    "    def getNum(self):\n",
    "        print(Student.num)\n",
    "        print(self.num)\n",
    "    \n",
    "    def add(self):\n",
    "        self.bb = '123'\n",
    "\n",
    "# s = Student('Bob')\n",
    "# Student.num = 1\n",
    "# Student.count = 100\n",
    "# print(Student.num)\n",
    "# # print(Student.name)\n",
    "# print(s.num)\n",
    "# print(s.__dict__)\n",
    "# print(s.__dir__())\n",
    "# s.getNum()\n",
    "# Student.num = 2\n",
    "# s.getNum()\n",
    "s = Student('Bob')\n",
    "# a = Student('xiaohei')\n",
    "# b = Student('xiaobai')\n",
    "\n",
    "# b.getNum()\n",
    "# b = Student('xiaobai')\n",
    "# a.getNum()\n",
    "# s.add()\n",
    "# s.__dir__()\n",
    "# s.__delattr__('bb')\n",
    "# s.__dir__()\n",
    "# s.bb = '123'\n",
    "# s.item = '666'\n",
    "# s.__dir__()\n",
    "\n",
    "\n",
    "'123'.bb = '666'"
   ]
  },
  {
   "cell_type": "markdown",
   "metadata": {},
   "source": [
    "## 类属性的运用\n",
    "* 当所有实例化都要统一用数据，那么就可以用类属性来做\n",
    "* 减少内存的消耗"
   ]
  },
  {
   "cell_type": "code",
   "execution_count": 2,
   "metadata": {},
   "outputs": [
    {
     "name": "stdout",
     "output_type": "stream",
     "text": [
      "Student\n"
     ]
    }
   ],
   "source": [
    "#Student类本身需要绑定一个属性呢？可以直接在class中定义属性，这种属性是类属性，归Student类所有：\n",
    "class Student(object):\n",
    "    name = 'Student'\n",
    "    \n",
    "s = Student() # 创建实例s\n",
    "print(s.name) # 打印name属性，因为实例并没有name属性，所以会继续查找class的name属性"
   ]
  },
  {
   "cell_type": "code",
   "execution_count": 3,
   "metadata": {},
   "outputs": [
    {
     "name": "stdout",
     "output_type": "stream",
     "text": [
      "Student\n",
      "Michael\n",
      "Student\n",
      "Student\n"
     ]
    }
   ],
   "source": [
    "print(Student.name) # 打印类的name属性\n",
    "s.name = 'Michael' # 给实例绑定name属性\n",
    "print(s.name) # 由于实例属性优先级比类属性高，因此，它会屏蔽掉类的name属性\n",
    "print(Student.name) # 但是类属性并未消失，用Student.name仍然可以访问\n",
    "del s.name # 如果删除实例的name属性\n",
    "print(s.name) # 再次调用s.name，由于实例的name属性没有找到，类的name属性就显示出来了"
   ]
  },
  {
   "cell_type": "markdown",
   "metadata": {},
   "source": [
    "### 注意：\n",
    "在编写程序的时候，**千万不要对实例属性和类属性使用相同的名字**，因为相同名称的实例属性将屏蔽掉类属性，但是当你删除实例属性后，再使用相同的名称，访问到的将是类属性。"
   ]
  },
  {
   "cell_type": "markdown",
   "metadata": {
    "collapsed": true
   },
   "source": [
    "## 学生管理系统\n",
    "### 系统是一个对象：\n",
    "* 属性：用户名，密码\n",
    "* 功能一： 首先登陆，输入用户名，输入密码，所有学生的列表（对象的列表）\n",
    "* 功能二： 设置用户名，密码\n",
    "* 功能三： 查看第x个学生的信息,根据输入进行\n",
    "\n",
    "### 学生是一个对象：\n",
    "* 属性：姓名、年龄、成绩\n",
    "* 功能：打印出当前学生的信息\n",
    "\n",
    "### 班长也是一个对象，继承来自于学生类\n",
    "* 属性：姓名、年龄、成绩、职务\n",
    "\n",
    "\n",
    "\n",
    "\n"
   ]
  },
  {
   "cell_type": "code",
   "execution_count": null,
   "metadata": {
    "collapsed": true
   },
   "outputs": [],
   "source": []
  }
 ],
 "metadata": {
  "kernelspec": {
   "display_name": "Python 3",
   "language": "python",
   "name": "python3"
  },
  "language_info": {
   "codemirror_mode": {
    "name": "ipython",
    "version": 3
   },
   "file_extension": ".py",
   "mimetype": "text/x-python",
   "name": "python",
   "nbconvert_exporter": "python",
   "pygments_lexer": "ipython3",
   "version": "3.6.1"
  }
 },
 "nbformat": 4,
 "nbformat_minor": 2
}
