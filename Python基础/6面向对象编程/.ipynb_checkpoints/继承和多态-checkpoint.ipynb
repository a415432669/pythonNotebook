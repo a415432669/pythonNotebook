{
 "cells": [
  {
   "cell_type": "markdown",
   "metadata": {},
   "source": [
    "### 继承和多态\n",
    "在OOP程序设计中，当我们定义一个class的时候，可以从某个现有的class继承，新的class称为子类（Subclass），而被继承的class称为基类、父类或超类（Base class、Super class）。\n",
    "\n",
    "比如，我们已经编写了一个名为Animal的class，有一个run()方法可以直接打印"
   ]
  },
  {
   "cell_type": "code",
   "execution_count": 2,
   "metadata": {
    "collapsed": true
   },
   "outputs": [],
   "source": [
    "class Animal(object):\n",
    "    def run(self):\n",
    "        print('Animal is running...')"
   ]
  },
  {
   "cell_type": "code",
   "execution_count": 3,
   "metadata": {
    "collapsed": true
   },
   "outputs": [],
   "source": [
    "#编写Dog和Cat类时，就可以直接从Animal类继承：\n",
    "class Dog(Animal):\n",
    "    pass\n",
    "\n",
    "class Cat(Animal):\n",
    "    pass"
   ]
  },
  {
   "cell_type": "code",
   "execution_count": 31,
   "metadata": {},
   "outputs": [
    {
     "name": "stdout",
     "output_type": "stream",
     "text": [
      "animal\n"
     ]
    }
   ],
   "source": [
    "class Animal():\n",
    "    def __init__(self):\n",
    "        self.type='animal'\n",
    "        self.footer = '四条腿'\n",
    "        \n",
    "    def run(self):\n",
    "        print('会跑')\n",
    "# a = Animal()\n",
    "# a.run()\n",
    "\n",
    "class Cat(Animal):\n",
    "    def __init__(self,name):\n",
    "        super().__init__()\n",
    "        self.name = name\n",
    "        self.typee = '动画猫'\n",
    "        \n",
    "        \n",
    "        \n",
    "    def run(self):\n",
    "        print('猫会跑')\n",
    "        \n",
    "    \n",
    "    def sound(self):\n",
    "        print('喵喵喵')\n",
    "    def animalRun(self):\n",
    "        super().run()\n",
    "    def getParentType(self):\n",
    "        print(self.type)\n",
    "        \n",
    "hellokitty  = Cat('helloKitty')\n",
    "hellokitty.__dict__\n",
    "# hellokitty.run()\n",
    "\n",
    "# isinstance(hellokitty,Animal)\n",
    "# hellokitty.animalRun()\n",
    "hellokitty.type\n",
    "hellokitty.getParentType()\n",
    "\n",
    "\n",
    "\n",
    "\n",
    "\n",
    "# hellokitty  = Cat()\n",
    "# hellokitty.run()\n",
    "# hellokitty.sound()\n",
    "# # a.sound()\n",
    "\n",
    "# isinstance(hellokitty,Cat)\n",
    "# #isinstance('123',int)\n",
    "# isinstance(hellokitty,Animal)\n",
    "#多态，python是一门动态语言，没有所谓真正意义上的多态，多态是来自于静态语言"
   ]
  },
  {
   "cell_type": "code",
   "execution_count": 45,
   "metadata": {},
   "outputs": [
    {
     "name": "stdout",
     "output_type": "stream",
     "text": [
      "<class '__main__.Animal'>\n",
      "四条腿的动物会跑\n",
      "123\n",
      "四条腿的动物会跑\n",
      "四条腿的动物会跑\n"
     ]
    },
    {
     "ename": "AttributeError",
     "evalue": "type object 'Math' has no attribute 'sorte'",
     "output_type": "error",
     "traceback": [
      "\u001b[1;31m---------------------------------------------------------------------------\u001b[0m",
      "\u001b[1;31mAttributeError\u001b[0m                            Traceback (most recent call last)",
      "\u001b[1;32m<ipython-input-45-c511d0574ad2>\u001b[0m in \u001b[0;36m<module>\u001b[1;34m()\u001b[0m\n\u001b[0;32m     34\u001b[0m         \u001b[1;32mreturn\u001b[0m \u001b[0msorte\u001b[0m\u001b[1;33m(\u001b[0m\u001b[0mL\u001b[0m\u001b[1;33m)\u001b[0m\u001b[1;33m\u001b[0m\u001b[0m\n\u001b[0;32m     35\u001b[0m \u001b[1;33m\u001b[0m\u001b[0m\n\u001b[1;32m---> 36\u001b[1;33m \u001b[0mMath\u001b[0m\u001b[1;33m.\u001b[0m\u001b[0msorte\u001b[0m\u001b[1;33m(\u001b[0m\u001b[1;33m[\u001b[0m\u001b[1;36m1\u001b[0m\u001b[1;33m,\u001b[0m\u001b[1;36m2\u001b[0m\u001b[1;33m,\u001b[0m\u001b[1;36m3\u001b[0m\u001b[1;33m,\u001b[0m\u001b[1;36m7\u001b[0m\u001b[1;33m,\u001b[0m\u001b[1;36m5\u001b[0m\u001b[1;33m,\u001b[0m\u001b[1;36m6\u001b[0m\u001b[1;33m]\u001b[0m\u001b[1;33m)\u001b[0m\u001b[1;33m\u001b[0m\u001b[0m\n\u001b[0m",
      "\u001b[1;31mAttributeError\u001b[0m: type object 'Math' has no attribute 'sorte'"
     ]
    }
   ],
   "source": [
    "class Animal():\n",
    "    def __init__(self):\n",
    "        self.type='animal'\n",
    "        self.footer = '四条腿'\n",
    "        \n",
    "    def run(self):\n",
    "        print(self.footer+'的动物会跑')\n",
    "        \n",
    "    def abc():\n",
    "        print(123)\n",
    "\n",
    "print(Animal)\n",
    "class abc():\n",
    "    pass\n",
    "\n",
    "#灵活方便地方\n",
    "a = Animal()\n",
    "\n",
    "\n",
    "b = abc()\n",
    "b.footer = '四条腿'\n",
    "Animal.run(a)\n",
    "Animal.abc()\n",
    "\n",
    "a = Animal()\n",
    "\n",
    "a.run()\n",
    "Animal.run(b)\n",
    "\n",
    "\n",
    "\n",
    "class Math():\n",
    "    def sort(L):\n",
    "        return sorted(L)\n",
    "    \n",
    "Math.sorted([1,2,3,7,5,6])"
   ]
  },
  {
   "cell_type": "code",
   "execution_count": null,
   "metadata": {
    "collapsed": true
   },
   "outputs": [],
   "source": []
  },
  {
   "cell_type": "markdown",
   "metadata": {},
   "source": [
    "### 继承有什么好处？\n",
    "**最大的好处是子类获得了父类的全部功能。**\n",
    "由于Animial实现了run()方法，因此，Dog和Cat作为它的子类，什么事也没干，就自动拥有了run()方法"
   ]
  },
  {
   "cell_type": "code",
   "execution_count": 4,
   "metadata": {},
   "outputs": [
    {
     "name": "stdout",
     "output_type": "stream",
     "text": [
      "Animal is running...\n",
      "Animal is running...\n"
     ]
    }
   ],
   "source": [
    "dog = Dog()\n",
    "dog.run()\n",
    "cat = Cat()\n",
    "cat.run()"
   ]
  },
  {
   "cell_type": "code",
   "execution_count": 8,
   "metadata": {
    "collapsed": true
   },
   "outputs": [],
   "source": [
    "#可以对子类增加一些方法，比如Dog类：\n",
    "class Dog(Animal):\n",
    "    def run(self):\n",
    "        print('Dog is running...')\n",
    "\n",
    "    def eat(self):\n",
    "        print('Eating meat...')"
   ]
  },
  {
   "cell_type": "code",
   "execution_count": 7,
   "metadata": {
    "collapsed": true
   },
   "outputs": [],
   "source": [
    "#Dog和Cat类改进如下：\n",
    "class Dog(Animal):\n",
    "    def run(self):\n",
    "        print('Dog is running...')\n",
    "\n",
    "class Cat(Animal):\n",
    "    def run(self):\n",
    "        print('Cat is running...')"
   ]
  },
  {
   "cell_type": "markdown",
   "metadata": {},
   "source": [
    "### 继承的另一个好处：多态。"
   ]
  },
  {
   "cell_type": "code",
   "execution_count": 10,
   "metadata": {},
   "outputs": [
    {
     "data": {
      "text/plain": [
       "True"
      ]
     },
     "execution_count": 10,
     "metadata": {},
     "output_type": "execute_result"
    }
   ],
   "source": [
    "#判断一个变量是否是某个类型可以用isinstance()判断：\n",
    "a = list() # a是list类型\n",
    "b = Animal() # b是Animal类型\n",
    "c = Dog() # c是Dog类型\n",
    "isinstance(a, list)\n",
    "isinstance(b, Animal)\n",
    "isinstance(c, Dog)"
   ]
  },
  {
   "cell_type": "code",
   "execution_count": null,
   "metadata": {
    "collapsed": true
   },
   "outputs": [],
   "source": []
  }
 ],
 "metadata": {
  "kernelspec": {
   "display_name": "Python 3",
   "language": "python",
   "name": "python3"
  },
  "language_info": {
   "codemirror_mode": {
    "name": "ipython",
    "version": 3
   },
   "file_extension": ".py",
   "mimetype": "text/x-python",
   "name": "python",
   "nbconvert_exporter": "python",
   "pygments_lexer": "ipython3",
   "version": "3.6.1"
  }
 },
 "nbformat": 4,
 "nbformat_minor": 2
}
