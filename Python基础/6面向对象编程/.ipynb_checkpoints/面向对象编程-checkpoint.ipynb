{
 "cells": [
  {
   "cell_type": "markdown",
   "metadata": {},
   "source": [
    "### 面向对象编程\n",
    "\n",
    "**面向对象编程——Object Oriented Programming，简称OOP**，是一种程序设计思想。OOP把对象作为程序的基本单元，一个对象包含了数据和操作数据的函数。\n",
    "\n",
    "面向过程的程序设计把计算机程序视为一系列的命令集合，即一组函数的顺序执行。为了简化程序设计，面向过程把函数继续切分为子函数，即把大块函数通过切割成小块函数来降低系统的复杂度。\n",
    "\n",
    "而面向对象的程序设计把计算机程序视为一组对象的集合，而每个对象都可以接收其他对象发过来的消息，并处理这些消息，计算机程序的执行就是一系列消息在各个对象之间传递。\n",
    "\n",
    "在Python中，所有数据类型都可以视为对象，当然也可以自定义对象。自定义的对象数据类型就是面向对象中的类（Class）的概念。\n"
   ]
  },
  {
   "cell_type": "markdown",
   "metadata": {},
   "source": [
    "### 手摇风扇\n",
    "* 宽高\n",
    "* 大小\n",
    "* 重量\n",
    "* 颜色\n",
    "* 适用与谁。。\n",
    "* 手摇柄 旋钮。。。\n",
    "\n",
    "* 手摇吹出风来\n",
    "\n",
    "\n",
    "\n",
    "\n",
    "### 红米note5手机\n",
    "* cpu:骁龙636八核处理器\n",
    "* 内存：6GB 大内存\n",
    "* 前置相机：1300万前置柔光自拍\n",
    "* 描述性的东西都叫做属性\n",
    "\n",
    "* 开机按钮：一按就开机\n",
    "* miui:系统相对应的功能\n",
    "* 功能性。。。方法\n",
    "\n",
    "\n",
    "### 红米note5手机：类\n",
    "一个红米note5手机：实例化对象\n",
    "\n",
    "\n",
    "### 工厂：\n",
    " 类：红米note5手机的模板\n",
    " 实例化对象：真正生产出来的每一部手机"
   ]
  },
  {
   "cell_type": "markdown",
   "metadata": {},
   "source": [
    "### 案例\n",
    "处理学生的成绩表，为了表示一个学生的成绩，面向过程的程序可以用一个dict表示："
   ]
  },
  {
   "cell_type": "code",
   "execution_count": 1,
   "metadata": {
    "collapsed": true
   },
   "outputs": [],
   "source": [
    "std1 = { 'name': 'Michael', 'score': 98 }\n",
    "std2 = { 'name': 'Bob', 'score': 81 }"
   ]
  },
  {
   "cell_type": "code",
   "execution_count": 3,
   "metadata": {},
   "outputs": [
    {
     "name": "stdout",
     "output_type": "stream",
     "text": [
      "下一次很有可能得到比较优秀的成绩\n"
     ]
    }
   ],
   "source": [
    "#处理学生成绩可以通过函数实现，比如打印学生的成绩：\n",
    "def print_score(std):\n",
    "    print('%s: %s' % (std['name'], std['score']))\n",
    "    \n",
    "def predictScore(std):\n",
    "    if std['score']<60:\n",
    "        print('下一次很有可能不及格')\n",
    "    else:\n",
    "        print('下一次很有可能得到比较优秀的成绩')\n",
    "    \n",
    "\n",
    "predictScore(std1)"
   ]
  },
  {
   "cell_type": "markdown",
   "metadata": {},
   "source": [
    "### 网页\n",
    "* 标题\n",
    "* 编码\n",
    "* 页面内容\n",
    "\n",
    "* 功能：输出一个页面\n",
    "\n",
    "\n",
    "```python\n",
    "class Page():\n",
    "   pass\n",
    "   \n",
    "\n",
    "page1 = Page('百度一下','<h1>helloWorld</h1>','utf-8')\n",
    "\n",
    "page1.showpage()\n",
    "\n",
    "```\n",
    "\n",
    "\n",
    "#### 返回生成的字符串\n",
    "\n",
    "```html\n",
    "<!DOCTYPE html>\n",
    "<html>\n",
    "\t<head>\n",
    "\t\t<meta charset=\"UTF-8\">\n",
    "\t\t<title>百度一下</title>\n",
    "\t</head>\n",
    "\t<body>\n",
    "    <h1>helloWorld</h1\n",
    "\t</body>\n",
    "</html>\n",
    "```"
   ]
  },
  {
   "cell_type": "markdown",
   "metadata": {},
   "source": [
    "#### 面向对象的程序设计思想\n",
    "我们首选思考的不是程序的执行流程，而是Student这种数据类型应该被视为一个对象，这个对象拥有name和score这两个属性（Property）。如果要打印一个学生的成绩，首先必须创建出这个学生对应的对象，然后，给对象发一个print_score消息，让对象自己把自己的数据打印出来。"
   ]
  },
  {
   "cell_type": "markdown",
   "metadata": {},
   "source": [
    "### 类（Class）和实例（Instance）\n",
    "类（Class）和实例（Instance）的概念是很自然的。Class是一种抽象概念，比如我们定义的Class——Student，是指学生这个概念，而实例（Instance）则是一个个具体的Student，比如，Bart Simpson和Lisa Simpson是两个具体的Student。\n",
    "\n",
    "所以，面向对象的设计思想是抽象出Class，根据Class创建Instance。\n",
    "\n",
    "面向对象的抽象程度又比函数要高，因为一个Class既包含数据，又包含操作数据的方法。"
   ]
  },
  {
   "cell_type": "code",
   "execution_count": null,
   "metadata": {
    "collapsed": true
   },
   "outputs": [],
   "source": []
  }
 ],
 "metadata": {
  "kernelspec": {
   "display_name": "Python 3",
   "language": "python",
   "name": "python3"
  },
  "language_info": {
   "codemirror_mode": {
    "name": "ipython",
    "version": 3
   },
   "file_extension": ".py",
   "mimetype": "text/x-python",
   "name": "python",
   "nbconvert_exporter": "python",
   "pygments_lexer": "ipython3",
   "version": "3.6.1"
  }
 },
 "nbformat": 4,
 "nbformat_minor": 2
}
