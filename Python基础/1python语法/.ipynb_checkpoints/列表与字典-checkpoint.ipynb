{
 "cells": [
  {
   "cell_type": "code",
   "execution_count": 2,
   "metadata": {},
   "outputs": [
    {
     "data": {
      "text/plain": [
       "['广州将建养老机构补贴制度 最高补贴每人两万元',\n",
       " '唐山一采石场发生山体垮塌致3人死亡 5名责任人',\n",
       " '下月起长沙全面实行申办护照等出入境证件“只跑一',\n",
       " '港交所李小加：港交所上市新规值得依赖']"
      ]
     },
     "execution_count": 2,
     "metadata": {},
     "output_type": "execute_result"
    }
   ],
   "source": [
    "titleList = ['广州将建养老机构补贴制度 最高补贴每人两万元','唐山一采石场发生山体垮塌致3人死亡 5名责任人','下月起长沙全面实行申办护照等出入境证件“只跑一','港交所李小加：港交所上市新规值得依赖']\n",
    "titleList"
   ]
  },
  {
   "cell_type": "code",
   "execution_count": 18,
   "metadata": {},
   "outputs": [
    {
     "data": {
      "text/plain": [
       "{'dierhang': '唐山一采石场发生山体垮塌致3人死亡 5名责任人',\n",
       " 'disanhang': '下月起长沙全面实行申办护照等出入境证件“只跑一',\n",
       " 'disihang': '港交所李小加：港交所上市新规值得依赖',\n",
       " 'diyihang': '广州将建养老机构补贴制度 最高补贴每人两万元'}"
      ]
     },
     "execution_count": 18,
     "metadata": {},
     "output_type": "execute_result"
    }
   ],
   "source": [
    "titleDict = {\n",
    "   'diyihang': '广州将建养老机构补贴制度 最高补贴每人两万元',\n",
    "    'dierhang':'唐山一采石场发生山体垮塌致3人死亡 5名责任人',\n",
    "    'disanhang':'下月起长沙全面实行申办护照等出入境证件“只跑一',\n",
    "    'disihang':'港交所李小加：港交所上市新规值得依赖'\n",
    "}\n",
    "titleDict"
   ]
  },
  {
   "cell_type": "code",
   "execution_count": 4,
   "metadata": {},
   "outputs": [
    {
     "data": {
      "text/plain": [
       "'广州将建养老机构补贴制度 最高补贴每人两万元'"
      ]
     },
     "execution_count": 4,
     "metadata": {},
     "output_type": "execute_result"
    }
   ],
   "source": [
    "titleList[0]"
   ]
  },
  {
   "cell_type": "code",
   "execution_count": 7,
   "metadata": {},
   "outputs": [
    {
     "data": {
      "text/plain": [
       "'广州将建养老机构补贴制度 最高补贴每人两万元'"
      ]
     },
     "execution_count": 7,
     "metadata": {},
     "output_type": "execute_result"
    }
   ],
   "source": [
    "titleDict['diyihang']"
   ]
  },
  {
   "cell_type": "code",
   "execution_count": 8,
   "metadata": {},
   "outputs": [
    {
     "name": "stdout",
     "output_type": "stream",
     "text": [
      "广州将建养老机构补贴制度 最高补贴每人两万元\n",
      "唐山一采石场发生山体垮塌致3人死亡 5名责任人\n",
      "下月起长沙全面实行申办护照等出入境证件“只跑一\n",
      "港交所李小加：港交所上市新规值得依赖\n"
     ]
    }
   ],
   "source": [
    "for item in titleList:\n",
    "    print(item)"
   ]
  },
  {
   "cell_type": "code",
   "execution_count": 10,
   "metadata": {},
   "outputs": [
    {
     "name": "stdout",
     "output_type": "stream",
     "text": [
      "广州将建养老机构补贴制度 最高补贴每人两万元\n",
      "唐山一采石场发生山体垮塌致3人死亡 5名责任人\n",
      "下月起长沙全面实行申办护照等出入境证件“只跑一\n",
      "港交所李小加：港交所上市新规值得依赖\n"
     ]
    }
   ],
   "source": [
    "for item in titleDict:\n",
    "    print(titleDict[item])\n",
    "\n",
    "    \n",
    "student1 = {\n",
    "    'name':'小明'，\n",
    "    'age':17,\n",
    "    'name':'man',\n",
    "    'number':78889999,\n",
    "}\n",
    "student2 = {\n",
    "    'name':'小明'，\n",
    "    'age':17,\n",
    "    'name':'man',\n",
    "    'number':78889999,\n",
    "}\n",
    "student3 = {\n",
    "    'name':'小明'，\n",
    "    'age':17,\n",
    "    'name':'man',\n",
    "    'number':78889999,\n",
    "}\n",
    "\n",
    "studentList = [student1,student2,studnet3]\n",
    "\n",
    "studentList = [{\n",
    "    'name':'小明'，\n",
    "    'age':17,\n",
    "    'name':'man',\n",
    "    'number':78889999,\n",
    "},{\n",
    "    'name':'小红'，\n",
    "    'age':18,\n",
    "    'name':'women',\n",
    "    'number':78889999,\n",
    "},{\n",
    "    'name':'小黑'，\n",
    "    'age':17,\n",
    "    'name':'women',\n",
    "    'number':78889999,\n",
    "}]\n",
    "\n",
    "student['name']"
   ]
  },
  {
   "cell_type": "markdown",
   "metadata": {},
   "source": [
    "### 如果你存放的数据是有顺序，那么请用列表\n",
    "### 如果你对for循环打印出来的顺序是没有要求的话，那么你就可以用字典"
   ]
  },
  {
   "cell_type": "code",
   "execution_count": 21,
   "metadata": {},
   "outputs": [
    {
     "name": "stdout",
     "output_type": "stream",
     "text": [
      "小明  你好   你好 17 man\n",
      "小红   你好 18 women\n",
      "小黑   你好 17 women\n",
      "{'name': '小明  你好', 'age': 17, 'sex': 'man', 'number': 78889999}\n",
      "{'name': '小红', 'age': 18, 'sex': 'women', 'number': 78889999}\n",
      "{'name': '小黑', 'age': 17, 'sex': 'women', 'number': 78889999}\n"
     ]
    }
   ],
   "source": [
    "studentList = [{\n",
    "    'name':'小明  你好',\n",
    "    'age':17,\n",
    "    'sex':'man',\n",
    "    'number':78889999,\n",
    "},{\n",
    "    'name':'小红',\n",
    "    'age':18,\n",
    "    'sex':'women',\n",
    "    'number':78889999,\n",
    "},{\n",
    "    'name':'小黑',\n",
    "    'age':17,\n",
    "    'sex':'women',\n",
    "    'number':78889999,\n",
    "}]\n",
    "\n",
    "\n",
    "\n",
    "for item in studentList:\n",
    "    print(item['name']+'   你好',item['age'],item['sex'])\n",
    "    \n",
    "for item in studentList:\n",
    "    print(item)\n",
    "    \n",
    "    \n",
    "[['小明',18,'women'],['小红',17,'man'],['小黑',19,'man']]"
   ]
  },
  {
   "cell_type": "code",
   "execution_count": null,
   "metadata": {
    "collapsed": true
   },
   "outputs": [],
   "source": []
  }
 ],
 "metadata": {
  "kernelspec": {
   "display_name": "Python 3",
   "language": "python",
   "name": "python3"
  },
  "language_info": {
   "codemirror_mode": {
    "name": "ipython",
    "version": 3
   },
   "file_extension": ".py",
   "mimetype": "text/x-python",
   "name": "python",
   "nbconvert_exporter": "python",
   "pygments_lexer": "ipython3",
   "version": "3.6.1"
  }
 },
 "nbformat": 4,
 "nbformat_minor": 2
}
