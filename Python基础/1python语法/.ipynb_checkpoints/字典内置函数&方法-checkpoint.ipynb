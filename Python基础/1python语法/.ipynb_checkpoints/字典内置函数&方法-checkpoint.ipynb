{
 "cells": [
  {
   "cell_type": "markdown",
   "metadata": {},
   "source": [
    "### 字典内置函数&方法\n",
    "Python字典包含了以下内置函数：\n",
    "\n",
    "序号\t函数及描述\n",
    "2. len(dict)\n",
    "计算字典元素个数，即键的总数。\n",
    "3. str(dict)\n",
    "输出字典可打印的字符串表示。\n",
    "4. type(variable)\n",
    "返回输入的变量类型，如果变量是字典就返回字典类型。\n",
    "\n",
    "Python字典包含了以下内置方法：\n",
    "\n",
    "序号\t函数及描述\n",
    "1. dict.clear()\n",
    "删除字典内所有元素\n",
    "2. dict.copy()\n",
    "返回一个字典的浅复制\n",
    "4. dict.get(key, default=None)\n",
    "返回指定键的值，如果值不在字典中返回default值\n",
    "5. dict.has_key(key)\n",
    "如果键在字典dict里返回true，否则返回false\n",
    "6. dict.items()\n",
    "以列表返回可遍历的(键, 值) 元组数组\n",
    "7. dict.keys()\n",
    "以列表返回一个字典所有的键\n",
    "8. dict.setdefault(key, default=None)\n",
    "和get()类似, 但如果键不存在于字典中，将会添加键并将值设为default\n",
    "9. dict.update(dict2)\n",
    "把字典dict2的键/值对更新到dict里\n",
    "10. dict.values()\n",
    "以列表返回字典中的所有值\n",
    "11. pop(key[,default])\n",
    "删除字典给定键 key 所对应的值，返回值为被删除的值。key值必须给出。 否则，返回default值。\n",
    "12. popitem()\n",
    "随机返回并删除字典中的一对键和值。"
   ]
  },
  {
   "cell_type": "code",
   "execution_count": 1,
   "metadata": {},
   "outputs": [
    {
     "data": {
      "text/plain": [
       "3"
      ]
     },
     "execution_count": 1,
     "metadata": {},
     "output_type": "execute_result"
    }
   ],
   "source": [
    "list1 = ['蓝色','红色','黄色']\n",
    "len(list1)"
   ]
  },
  {
   "cell_type": "code",
   "execution_count": 2,
   "metadata": {},
   "outputs": [
    {
     "data": {
      "text/plain": [
       "4"
      ]
     },
     "execution_count": 2,
     "metadata": {},
     "output_type": "execute_result"
    }
   ],
   "source": [
    "student = {\n",
    "    'name':'老李',\n",
    "    'class':'三年二班',\n",
    "    'studentNum':40,\n",
    "    'parentName':'李四'\n",
    "}\n",
    "len(student)"
   ]
  },
  {
   "cell_type": "code",
   "execution_count": 3,
   "metadata": {},
   "outputs": [
    {
     "name": "stdout",
     "output_type": "stream",
     "text": [
      "{'name': '老李', 'class': '三年二班', 'studentNum': 40, 'parentName': '李四'}\n"
     ]
    }
   ],
   "source": [
    "print(student)"
   ]
  },
  {
   "cell_type": "code",
   "execution_count": 5,
   "metadata": {},
   "outputs": [
    {
     "name": "stdout",
     "output_type": "stream",
     "text": [
      "student:{'name': '老李', 'class': '三年二班', 'studentNum': 40, 'parentName': '李四'}\n"
     ]
    }
   ],
   "source": [
    "str1 = 'student:'\n",
    "print(str1+ str(student))"
   ]
  },
  {
   "cell_type": "code",
   "execution_count": 6,
   "metadata": {},
   "outputs": [
    {
     "data": {
      "text/plain": [
       "dict"
      ]
     },
     "execution_count": 6,
     "metadata": {},
     "output_type": "execute_result"
    }
   ],
   "source": [
    "type(student)"
   ]
  },
  {
   "cell_type": "code",
   "execution_count": 7,
   "metadata": {},
   "outputs": [
    {
     "data": {
      "text/plain": [
       "list"
      ]
     },
     "execution_count": 7,
     "metadata": {},
     "output_type": "execute_result"
    }
   ],
   "source": [
    "type(list1)"
   ]
  },
  {
   "cell_type": "code",
   "execution_count": null,
   "metadata": {
    "collapsed": true
   },
   "outputs": [],
   "source": [
    "dict2 = {\n",
    "    'name':'老王'\n",
    "}"
   ]
  },
  {
   "cell_type": "code",
   "execution_count": 8,
   "metadata": {
    "collapsed": true
   },
   "outputs": [],
   "source": [
    "if type(student)==type(dict2):\n",
    "    print('这是一个字典')"
   ]
  },
  {
   "cell_type": "code",
   "execution_count": null,
   "metadata": {
    "collapsed": true
   },
   "outputs": [],
   "source": []
  }
 ],
 "metadata": {
  "kernelspec": {
   "display_name": "Python 3",
   "language": "python",
   "name": "python3"
  },
  "language_info": {
   "codemirror_mode": {
    "name": "ipython",
    "version": 3
   },
   "file_extension": ".py",
   "mimetype": "text/x-python",
   "name": "python",
   "nbconvert_exporter": "python",
   "pygments_lexer": "ipython3",
   "version": "3.6.1"
  }
 },
 "nbformat": 4,
 "nbformat_minor": 2
}
