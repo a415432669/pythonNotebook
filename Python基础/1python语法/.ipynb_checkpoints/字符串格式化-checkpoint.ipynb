{
 "cells": [
  {
   "cell_type": "code",
   "execution_count": 2,
   "metadata": {},
   "outputs": [
    {
     "name": "stdout",
     "output_type": "stream",
     "text": [
      "My name is Alfred.Xue\n",
      "I am 25 years old.\n",
      "His height is 1.700000 m\n",
      "His height is 1.70 m\n",
      "Name:    Alfred Age:      25 Height:    1.70\n",
      "Name:Alfred     Age:25       Height:1.70    \n",
      "Name:Alfred     Age:00000025 Height:00001.70\n"
     ]
    },
    {
     "data": {
      "text/plain": [
       "'2.60e-03'"
      ]
     },
     "execution_count": 2,
     "metadata": {},
     "output_type": "execute_result"
    }
   ],
   "source": [
    "#1.打印字符串\n",
    "print(\"My name is %s\" %(\"Alfred.Xue\"))\n",
    "\n",
    "#2.打印整数\n",
    "print(\"I am %d years old.\" %(25))\n",
    "\n",
    "#3.打印浮点数\n",
    "print (\"His height is %f m\"%(1.70))\n",
    "\n",
    "#4.打印浮点数（指定保留两位小数）\n",
    "print (\"His height is %.2f m\"%(1.70))\n",
    "\n",
    "#5.指定占位符宽度\n",
    "print (\"Name:%10s Age:%8d Height:%8.2f\"%(\"Alfred\",25,1.70))\n",
    "\n",
    "#6.指定占位符宽度（左对齐）\n",
    "print (\"Name:%-10s Age:%-8d Height:%-8.2f\"%(\"Alfred\",25,1.70))\n",
    "\n",
    "#7.指定占位符（只能用0当占位符？）\n",
    "print (\"Name:%-10s Age:%08d Height:%08.2f\"%(\"Alfred\",25,1.70))\n",
    "\n",
    "#8.科学计数法\n",
    "format(0.0026,'.2e')\n",
    " "
   ]
  },
  {
   "cell_type": "code",
   "execution_count": 3,
   "metadata": {},
   "outputs": [
    {
     "name": "stdout",
     "output_type": "stream",
     "text": [
      "zhangk,32\n",
      "zhangk,boy,32\n",
      "zhangk,male,32\n",
      "   zhang\n",
      "000zhang\n",
      "zhangaaa\n",
      "ppzhangppp\n",
      "31.31\n",
      "1111\n",
      "15\n",
      "17\n",
      "f\n",
      "123,456,789\n"
     ]
    }
   ],
   "source": [
    "print('{0},{1}'.format('zhangk', 32))\n",
    " \n",
    "print('{},{},{}'.format('zhangk','boy',32))\n",
    " \n",
    "print('{name},{sex},{age}'.format(age=32,sex='male',name='zhangk'))\n",
    " \n",
    "# 格式限定符\n",
    "# 它有着丰富的的“格式限定符”（语法是{}中带:号），比如：\n",
    " \n",
    "# 填充与对齐\n",
    "# 填充常跟对齐一起使用\n",
    "# ^、<、>分别是居中、左对齐、右对齐，后面带宽度\n",
    "# :号后面带填充的字符，只能是一个字符，不指定的话默认是用空格填充\n",
    " \n",
    "print('{:>8}'.format('zhang'))\n",
    "print('{:0>8}'.format('zhang'))\n",
    "print('{:a<8}'.format('zhang'))\n",
    "print('{:p^10}'.format('zhang'))\n",
    " \n",
    "# 精度与类型f\n",
    "# 精度常跟类型f一起使用\n",
    "print('{:.2f}'.format(31.31412))\n",
    " \n",
    "# 其他类型\n",
    "# 主要就是进制了，b、d、o、x分别是二进制、十进制、八进制、十六进制\n",
    "print('{:b}'.format(15))\n",
    " \n",
    "print('{:d}'.format(15))\n",
    " \n",
    "print('{:o}'.format(15))\n",
    " \n",
    "print('{:x}'.format(15))\n",
    " \n",
    "# 用逗号还能用来做金额的千位分隔符\n",
    "print('{:,}'.format(123456789))"
   ]
  },
  {
   "cell_type": "code",
   "execution_count": null,
   "metadata": {
    "collapsed": true
   },
   "outputs": [],
   "source": []
  }
 ],
 "metadata": {
  "kernelspec": {
   "display_name": "Python 3",
   "language": "python",
   "name": "python3"
  },
  "language_info": {
   "codemirror_mode": {
    "name": "ipython",
    "version": 3
   },
   "file_extension": ".py",
   "mimetype": "text/x-python",
   "name": "python",
   "nbconvert_exporter": "python",
   "pygments_lexer": "ipython3",
   "version": "3.6.1"
  }
 },
 "nbformat": 4,
 "nbformat_minor": 2
}
