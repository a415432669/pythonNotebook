{
 "cells": [
  {
   "cell_type": "code",
   "execution_count": 2,
   "metadata": {},
   "outputs": [
    {
     "name": "stdout",
     "output_type": "stream",
     "text": [
      "My name is Alfred.Xue\n",
      "I am 25 years old.\n",
      "His height is 1.700000 m\n",
      "His height is 1.70 m\n",
      "Name:    Alfred Age:      25 Height:    1.70\n",
      "Name:Alfred     Age:25       Height:1.70    \n",
      "Name:Alfred     Age:00000025 Height:00001.70\n"
     ]
    },
    {
     "data": {
      "text/plain": [
       "'2.60e-03'"
      ]
     },
     "execution_count": 2,
     "metadata": {},
     "output_type": "execute_result"
    }
   ],
   "source": [
    "#1.打印字符串\n",
    "print(\"My name is %s\" %(\"Alfred.Xue\"))\n",
    "\n",
    "#2.打印整数\n",
    "print(\"I am %d years old.\" %(25))\n",
    "\n",
    "#3.打印浮点数\n",
    "print (\"His height is %f m\"%(1.70))\n",
    "\n",
    "#4.打印浮点数（指定保留两位小数）\n",
    "print (\"His height is %.2f m\"%(1.70))\n",
    "\n",
    "#5.指定占位符宽度\n",
    "print (\"Name:%10s Age:%8d Height:%8.2f\"%(\"Alfred\",25,1.70))\n",
    "\n",
    "#6.指定占位符宽度（左对齐）\n",
    "print (\"Name:%-10s Age:%-8d Height:%-8.2f\"%(\"Alfred\",25,1.70))\n",
    "\n",
    "#7.指定占位符（只能用0当占位符？）\n",
    "print (\"Name:%-10s Age:%08d Height:%08.2f\"%(\"Alfred\",25,1.70))\n",
    "\n",
    "#8.科学计数法\n",
    "format(0.0026,'.2e')\n",
    " "
   ]
  },
  {
   "cell_type": "code",
   "execution_count": null,
   "metadata": {
    "collapsed": true
   },
   "outputs": [],
   "source": []
  }
 ],
 "metadata": {
  "kernelspec": {
   "display_name": "Python 3",
   "language": "python",
   "name": "python3"
  },
  "language_info": {
   "codemirror_mode": {
    "name": "ipython",
    "version": 3
   },
   "file_extension": ".py",
   "mimetype": "text/x-python",
   "name": "python",
   "nbconvert_exporter": "python",
   "pygments_lexer": "ipython3",
   "version": "3.6.1"
  }
 },
 "nbformat": 4,
 "nbformat_minor": 2
}
