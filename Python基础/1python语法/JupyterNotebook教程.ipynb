{
 "cells": [
  {
   "cell_type": "markdown",
   "metadata": {},
   "source": [
    "## Jupyter Notebook\n",
    "Jupyther notebook ,也就是一般说的 Ipython notebook，是一个可以把代码、图像、注释、公式和作图集于一处，从而实现可读性分析的一种灵活的工具。 \n",
    "Jupyter延伸性很好，支持多种编程语言，可以很轻松地安装在个人电脑或者任何服务器上——只要有ssh或者http接入就可以啦。最棒的一点是，它完全免费哦。\n",
    "\n",
    "默认情况下，Jupyter Notebook 使用Python内核，这就是为什么它原名 IPython Notebook。Jupyter notebook是Jupyter项目的产物——Jupyter这个名字是它要服务的三种语言的缩写：Julia，PYThon和R，这个名字与“木星（jupiter）”谐音。\n",
    "\n",
    "### 1、快捷键\n",
    "高手们都知道，快捷键可以节省很多时间。Jupyter在顶部菜单提供了一个快捷键列表：Help > Keyboard Shortcuts 。每次更新Jupyter的时候，一定要看看这个列表，因为不断地有新的快捷键加进来。另外一个方法是使用Cmd + Shift + P (  Linux 和 Windows下 Ctrl + Shift + P亦可)调出命令面板。这个对话框可以让你通过名称来运行任何命令——当你不知道某个操作的快捷键，或者那个操作没有快捷键的时候尤其有用。这个功能与苹果电脑上的Spotlight搜索很像，一旦开始使用，你会欲罢不能。\n",
    "\n",
    "#### 常用快捷键\n",
    "* Esc + F 在代码中查找、替换，忽略输出。\n",
    "* Esc + O 在cell和输出结果间切换。\n",
    "* 选择多个cell: \n",
    "* Shift + J 或 Shift + Down 选择下一个cell。\n",
    "* Shift + K 或 Shift + Up 选择上一个cell。\n",
    "* 一旦选定cell，可以批量删除/拷贝/剪切/粘贴/运行。当你需要移动notebook的一部分时这个很有用。\n",
    "* Shift + M 合并cell. "
   ]
  },
  {
   "cell_type": "markdown",
   "metadata": {},
   "source": [
    "### 2、轻松链接到文档\n",
    "在Help 菜单下，你可以找到常见库的在线文档链接，包括Numpy，Pandas，Scipy和Matplotlib等。 \n",
    "另外，在库、方法或变量的前面打上?，即可打开相关语法的帮助文档。"
   ]
  },
  {
   "cell_type": "code",
   "execution_count": 4,
   "metadata": {
    "collapsed": true
   },
   "outputs": [],
   "source": [
    "?str.replace"
   ]
  },
  {
   "cell_type": "code",
   "execution_count": 5,
   "metadata": {},
   "outputs": [
    {
     "name": "stdout",
     "output_type": "stream",
     "text": [
      "Help on method_descriptor:\n",
      "\n",
      "replace(...)\n",
      "    S.replace(old, new[, count]) -> str\n",
      "    \n",
      "    Return a copy of S with all occurrences of substring\n",
      "    old replaced by new.  If the optional argument count is\n",
      "    given, only the first count occurrences are replaced.\n",
      "\n"
     ]
    }
   ],
   "source": [
    "help(str.replace)"
   ]
  },
  {
   "cell_type": "markdown",
   "metadata": {},
   "source": [
    "### 3、Jupyter Magic - %run: 运行python代码\n",
    "\n",
    "%run 可以运行.py格式的python代码——这是众所周知的。不那么为人知晓的事实是它也可以运行其它的jupyter notebook文件，这一点很有用。 \n",
    "注意：使用%run 与导入一个python模块是不同的。"
   ]
  },
  {
   "cell_type": "code",
   "execution_count": 6,
   "metadata": {},
   "outputs": [
    {
     "name": "stdout",
     "output_type": "stream",
     "text": [
      "It's main !\n"
     ]
    }
   ],
   "source": [
    "%run haha.py"
   ]
  },
  {
   "cell_type": "markdown",
   "metadata": {},
   "source": [
    "### 4、Jupyter Magic -%load：从外部脚本中插入代码\n",
    "\n",
    "该操作用外部脚本替换当前cell。可以使用你的电脑中的一个文件作为来源，也可以使用URL。"
   ]
  },
  {
   "cell_type": "code",
   "execution_count": null,
   "metadata": {
    "collapsed": true
   },
   "outputs": [],
   "source": [
    "# %load haha.py\n",
    "#其次我们看一下__name__属性的常用情况\n",
    "\n",
    "\n",
    "def abc():\n",
    "    if __name__==\"__main__\":\n",
    "        print (\"It's main !\")\n",
    "    else:\n",
    "        print (\"It's not main !\")\n",
    "\n",
    "\n",
    "abc()"
   ]
  },
  {
   "cell_type": "markdown",
   "metadata": {},
   "source": [
    "### 5、Jupyter Magic - %store: 在notebook文件之间传递变量\n",
    "\n",
    "%store 命令可以在两个notebook文件之间传递变量。\n",
    "\n",
    "In [62]:    data = 'this is the string I want to pass to different notebook'\n",
    "            \n",
    "            %store data\n",
    "            del data # This has deleted the variable\n",
    "            Stored 'data' (str)\n",
    "现在，在一个新的notebook文档里……\n",
    "\n",
    "In [1]: %store -r data\n",
    "        \n",
    "        print(data)"
   ]
  },
  {
   "cell_type": "markdown",
   "metadata": {},
   "source": [
    "### 6、Jupyter Magic - %who: 列出所有的全局变量\n",
    "\n",
    "不加任何参数， %who 命令可以列出所有的全局变量。加上参数 str 将只列出字符串型的全局变量。"
   ]
  },
  {
   "cell_type": "code",
   "execution_count": 9,
   "metadata": {},
   "outputs": [
    {
     "name": "stdout",
     "output_type": "stream",
     "text": [
      "one\t three\t two\t \n"
     ]
    }
   ],
   "source": [
    "one = \"for the money\"\n",
    "two = \"for the show\"\n",
    "three = \"to get ready now go cat go\" \n",
    "%who str"
   ]
  },
  {
   "cell_type": "markdown",
   "metadata": {},
   "source": [
    "### 7、Jupyter Magic – 计时\n",
    "\n",
    "有两种用于计时的jupyter magic命令： %%time 和 %timeit.当你有一些很耗时的代码，想要查清楚问题出在哪时，这两个命令非常给力。 \n",
    "仔细体会下我的描述哦。 \n",
    "%%time 会告诉你cell内代码的单次运行时间信息。\n",
    "\n",
    "In [4]: %%time\n",
    "        import time\n",
    "        for _ in range(1000):\n",
    "            time.sleep(0.01)# sleep for 0.01 seconds"
   ]
  },
  {
   "cell_type": "code",
   "execution_count": 10,
   "metadata": {},
   "outputs": [
    {
     "name": "stdout",
     "output_type": "stream",
     "text": [
      "Wall time: 10.1 s\n"
     ]
    }
   ],
   "source": [
    "%%time\n",
    "import time\n",
    "for _ in range(1000):\n",
    "    time.sleep(0.01)# sleep for 0.01 seconds"
   ]
  },
  {
   "cell_type": "code",
   "execution_count": 11,
   "metadata": {},
   "outputs": [
    {
     "name": "stdout",
     "output_type": "stream",
     "text": [
      "The slowest run took 21.42 times longer than the fastest. This could mean that an intermediate result is being cached.\n",
      "10000 loops, best of 3: 61.3 µs per loop\n"
     ]
    }
   ],
   "source": [
    "import numpy\n",
    "%timeit numpy.random.normal(size=100)"
   ]
  },
  {
   "cell_type": "markdown",
   "metadata": {},
   "source": [
    "### 8、Jupyter Magic - %%writefile and %pycat:导出cell内容/显示外部脚本的内容\n",
    "\n",
    "使用%%writefile magic可以保存cell的内容到外部文件。 而%pycat功能相反，把外部文件语法高亮显示（以弹出窗方式）。"
   ]
  },
  {
   "cell_type": "code",
   "execution_count": 16,
   "metadata": {},
   "outputs": [
    {
     "name": "stdout",
     "output_type": "stream",
     "text": [
      "Overwriting pythoncode.py\n"
     ]
    }
   ],
   "source": [
    " %%writefile pythoncode.py\n",
    "\n",
    "import numpy\n",
    "def append_if_not_exists(arr, x):\n",
    "    if x not in arr:\n",
    "    arr.append(x)\n",
    "\n",
    "def some_useless_slow_function():\n",
    "    arr = list()\n",
    "    for i in range(10000):\n",
    "        x = numpy.random.randint(0, 10000)\n",
    "        append_if_not_exists(arr, x)"
   ]
  },
  {
   "cell_type": "code",
   "execution_count": 14,
   "metadata": {
    "collapsed": true
   },
   "outputs": [],
   "source": [
    "%pycat pythoncode.py"
   ]
  },
  {
   "cell_type": "markdown",
   "metadata": {},
   "source": [
    "### 9、Jupyter Magic - %prun: 告诉你程序中每个函数消耗的时间\n",
    "\n",
    "使用%prun+函数声明会给你一个按顺序排列的表格，显示每个内部函数的耗时情况，每次调用函数的耗时情况，以及累计耗时。"
   ]
  },
  {
   "cell_type": "code",
   "execution_count": 18,
   "metadata": {},
   "outputs": [
    {
     "name": "stdout",
     "output_type": "stream",
     "text": [
      "It's not main !\n",
      " "
     ]
    }
   ],
   "source": [
    "%prun abc()"
   ]
  },
  {
   "cell_type": "markdown",
   "metadata": {},
   "source": [
    "### 10、末句函数不输出\n",
    "\n",
    "有时候不让末句的函数输出结果比较方便，比如在作图的时候，此时，只需在该函数末尾加上一个分号即可。"
   ]
  },
  {
   "cell_type": "code",
   "execution_count": 20,
   "metadata": {},
   "outputs": [],
   "source": [
    "3+4;"
   ]
  },
  {
   "cell_type": "markdown",
   "metadata": {},
   "source": [
    "### 11、运行Shell命令\n",
    "\n",
    "在notebook内部运行shell命令很简单，这样你就可以看到你的工作文件夹里有哪些数据集。\n",
    "\n",
    "In [7]: !ls *.csv"
   ]
  },
  {
   "cell_type": "code",
   "execution_count": 23,
   "metadata": {},
   "outputs": [
    {
     "name": "stdout",
     "output_type": "stream",
     "text": [
      " 驱动器 E 中的卷是 文档\n",
      " 卷的序列号是 0001-FC59\n",
      "\n",
      " E:\\sxt\\python全栈\\notebook\\Python基础 的目录\n",
      "\n",
      "2018/04/17  10:51    <DIR>          .\n",
      "2018/04/17  10:51    <DIR>          ..\n",
      "2018/04/17  10:09    <DIR>          .ipynb_checkpoints\n",
      "2018/04/04  10:17         5,324,859 1Python语法基础.ipynb\n",
      "2018/04/04  10:48            25,938 2Python的运算符与表达式.ipynb\n",
      "2018/04/04  11:22            24,569 3Python 控制流、列表生成式.ipynb\n",
      "2018/04/04  15:39            20,581 4Python函数.ipynb\n",
      "2018/04/04  16:19           291,284 5Python 模块.ipynb\n",
      "2018/04/04  16:14               185 haha.py\n",
      "2018/04/17  10:51             9,721 JupyterNotebook教程.ipynb\n",
      "2018/04/04  17:00            17,611 Python 异常处理与文件操作含猫眼电影.ipynb\n",
      "2018/04/17  10:49               249 pythoncode.py\n",
      "2018/04/04  16:10               116 test20180404.py\n",
      "2018/04/17  09:14    <DIR>          __pycache__\n",
      "2018/04/17  09:56             9,558 函数式编程.ipynb\n",
      "2018/04/04  09:32                 0 新建文本文档.txt\n",
      "2018/04/04  09:21             1,262 语法基础.ipynb\n",
      "              13 个文件      5,725,933 字节\n",
      "               4 个目录 22,679,281,664 可用字节\n"
     ]
    }
   ],
   "source": [
    "!dir"
   ]
  },
  {
   "cell_type": "code",
   "execution_count": 24,
   "metadata": {},
   "outputs": [
    {
     "name": "stdout",
     "output_type": "stream",
     "text": [
      "卷 文档 的文件夹 PATH 列表\n",
      "卷序列号为 0001-FC59\n",
      "E:.\n",
      "├─.ipynb_checkpoints\n",
      "└─__pycache__\n"
     ]
    }
   ],
   "source": [
    "!tree"
   ]
  },
  {
   "cell_type": "code",
   "execution_count": null,
   "metadata": {
    "collapsed": true
   },
   "outputs": [],
   "source": []
  }
 ],
 "metadata": {
  "kernelspec": {
   "display_name": "Python 3",
   "language": "python",
   "name": "python3"
  },
  "language_info": {
   "codemirror_mode": {
    "name": "ipython",
    "version": 3
   },
   "file_extension": ".py",
   "mimetype": "text/x-python",
   "name": "python",
   "nbconvert_exporter": "python",
   "pygments_lexer": "ipython3",
   "version": "3.6.1"
  }
 },
 "nbformat": 4,
 "nbformat_minor": 2
}
