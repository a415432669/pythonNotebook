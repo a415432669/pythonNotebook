{
 "cells": [
  {
   "cell_type": "markdown",
   "metadata": {},
   "source": [
    "### 第一步： 给自己的py文件写配置文件（setup.py）\n",
    "\n",
    "\n",
    "```python\n",
    "from distutils.core import setup #如果没有需要先安装  \n",
    "setup(name='Myblog',  #打包后的包文件名   \n",
    "      version='1.0',  #版本  \n",
    "     description='description',     \n",
    "      author=' ',     \n",
    "      author_email=' ',     \n",
    "      url=' ',     \n",
    "      py_modules=['test'],  #与前面的新建文件名一致   \n",
    ")   \n",
    "```\n",
    "注意： setup.py 里面包含多个参数，这里只是罗列了一部分，如果想知道详细的内容，可以去官网查看。"
   ]
  },
  {
   "cell_type": "markdown",
   "metadata": {},
   "source": [
    "### 第二步：正式打包上传：\n",
    "\n",
    "**如果你还没有Pypi官网的账号，是没有上传资格的，所以赶快去注册一个吧 https://pypi.python.org/pypi ，密码要求比较多，提前看清楚哦。**\n",
    "\n",
    "在上传的文件所在根目录下打开cmd,\n",
    "\n",
    "* 检测配置文件：Python setup.py check\n",
    "\n",
    "如果出现running check则表示正常\n",
    "\n",
    "* 做dist 目录：Python setup.py sdist\n",
    "\n",
    "会在文件目录下出现一个 dist文件夹\n",
    "\n",
    "* 上传打包文件：python setup.py register sdist upload\n",
    "\n",
    "选择1，输入自己刚刚注册的账号和密码"
   ]
  },
  {
   "cell_type": "code",
   "execution_count": null,
   "metadata": {
    "collapsed": true
   },
   "outputs": [],
   "source": []
  }
 ],
 "metadata": {
  "kernelspec": {
   "display_name": "Python 3",
   "language": "python",
   "name": "python3"
  },
  "language_info": {
   "codemirror_mode": {
    "name": "ipython",
    "version": 3
   },
   "file_extension": ".py",
   "mimetype": "text/x-python",
   "name": "python",
   "nbconvert_exporter": "python",
   "pygments_lexer": "ipython3",
   "version": "3.6.3"
  }
 },
 "nbformat": 4,
 "nbformat_minor": 2
}
