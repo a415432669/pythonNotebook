{
 "cells": [
  {
   "cell_type": "markdown",
   "metadata": {},
   "source": [
    "### python logging 日志使用\n",
    "\n",
    "#### 1、日志级别\n",
    "日志一共分成5个等级，从低到高分别是：DEBUG INFO WARNING ERROR CRITICAL。\n",
    "\n",
    "DEBUG：详细的信息,通常只出现在诊断问题上\n",
    "INFO：确认一切按预期运行\n",
    "WARNING：一个迹象表明,一些意想不到的事情发生了,或表明一些问题在不久的将来(例如。磁盘空间低”)。这个软件还能按预期工作。\n",
    "ERROR：更严重的问题,软件没能执行一些功能\n",
    "CRITICAL：一个严重的错误,这表明程序本身可能无法继续运行\n",
    "\n",
    "这5个等级，也分别对应5种打日志的方法： debug 、info 、warning 、error 、critical。默认的是WARNING，当在WARNING或之上时才被跟踪。\n",
    "#### 2、日志输出\n",
    "有两种方式记录跟踪，一种输出控制台，另一种是记录到文件中，如日志文件。\n",
    "\n",
    "#### 2.1、将日志输出到控制台\n",
    "比如，编写一个叫做log.py的文件，如下："
   ]
  },
  {
   "cell_type": "code",
   "execution_count": 8,
   "metadata": {},
   "outputs": [
    {
     "name": "stderr",
     "output_type": "stream",
     "text": [
      "WARNING:root:这是一个警告\n"
     ]
    },
    {
     "data": {
      "text/plain": [
       "10"
      ]
     },
     "execution_count": 8,
     "metadata": {},
     "output_type": "execute_result"
    }
   ],
   "source": [
    "import logging\n",
    "logging.basicConfig(level=10)\n",
    "logging.warning('这是一个警告')\n",
    "logging.info('一切正常运行')\n",
    "logging.INFO\n",
    "logging.WARNING\n",
    "logging.DEBUG"
   ]
  },
  {
   "cell_type": "code",
   "execution_count": 24,
   "metadata": {},
   "outputs": [
    {
     "name": "stderr",
     "output_type": "stream",
     "text": [
      "INFO:root:this is a loggging info message\n",
      "WARNING:root:this is loggging a warning message\n",
      "2018-05-11 14:32:15,621 - <ipython-input-24-226a501c1942>[line:9] - WARNING: this is loggging a warning message\n",
      "2018-05-11 14:32:15,621 - <ipython-input-24-226a501c1942>[line:9] - WARNING: this is loggging a warning message\n",
      "2018-05-11 14:32:15,621 - <ipython-input-24-226a501c1942>[line:9] - WARNING: this is loggging a warning message\n",
      "2018-05-11 14:32:15,621 - <ipython-input-24-226a501c1942>[line:9] - WARNING: this is loggging a warning message\n",
      "ERROR:root:this is an loggging error message\n",
      "2018-05-11 14:32:15,643 - <ipython-input-24-226a501c1942>[line:10] - ERROR: this is an loggging error message\n",
      "2018-05-11 14:32:15,643 - <ipython-input-24-226a501c1942>[line:10] - ERROR: this is an loggging error message\n",
      "2018-05-11 14:32:15,643 - <ipython-input-24-226a501c1942>[line:10] - ERROR: this is an loggging error message\n",
      "2018-05-11 14:32:15,643 - <ipython-input-24-226a501c1942>[line:10] - ERROR: this is an loggging error message\n",
      "CRITICAL:root:this is a loggging critical message\n",
      "2018-05-11 14:32:15,656 - <ipython-input-24-226a501c1942>[line:11] - CRITICAL: this is a loggging critical message\n",
      "2018-05-11 14:32:15,656 - <ipython-input-24-226a501c1942>[line:11] - CRITICAL: this is a loggging critical message\n",
      "2018-05-11 14:32:15,656 - <ipython-input-24-226a501c1942>[line:11] - CRITICAL: this is a loggging critical message\n",
      "2018-05-11 14:32:15,656 - <ipython-input-24-226a501c1942>[line:11] - CRITICAL: this is a loggging critical message\n"
     ]
    }
   ],
   "source": [
    "# coding=utf-8 \n",
    "import logging \n",
    "   \n",
    "logging.basicConfig(level=logging.WARNING, \n",
    "                    format='%(asctime)s - %(filename)s[line:%(lineno)d] - %(levelname)s: %(message)s') \n",
    "# use logging \n",
    "logging.info('this is a loggging info message') \n",
    "logging.debug('this is a loggging debug message') \n",
    "logging.warning('this is loggging a warning message') \n",
    "logging.error('this is an loggging error message') \n",
    "logging.critical('this is a loggging critical message') "
   ]
  },
  {
   "cell_type": "markdown",
   "metadata": {},
   "source": [
    "#### 【解析】\n",
    "\n",
    "通过logging.basicConfig函数对日志的输出格式及方式做相关配置，上面代码设置日志的输出等级是WARNING级别，意思是WARNING级别以上的日志才会输出。另外还制定了日志输出的格式。"
   ]
  },
  {
   "cell_type": "markdown",
   "metadata": {},
   "source": [
    "#### 2.2、将日志输出到文件\n",
    " \n",
    "我们还可以将日志输出到文件，只需要在logging.basicConfig函数中设置好输出文件的文件名和写文件的模式。"
   ]
  },
  {
   "cell_type": "code",
   "execution_count": 23,
   "metadata": {},
   "outputs": [
    {
     "name": "stderr",
     "output_type": "stream",
     "text": [
      "INFO:root:this is a loggging info message\n",
      "WARNING:root:this is loggging a warning message\n",
      "2018-05-11 14:32:07,782 - <ipython-input-23-6068c22f275f>[line:11] - WARNING: this is loggging a warning message\n",
      "2018-05-11 14:32:07,782 - <ipython-input-23-6068c22f275f>[line:11] - WARNING: this is loggging a warning message\n",
      "2018-05-11 14:32:07,782 - <ipython-input-23-6068c22f275f>[line:11] - WARNING: this is loggging a warning message\n",
      "2018-05-11 14:32:07,782 - <ipython-input-23-6068c22f275f>[line:11] - WARNING: this is loggging a warning message\n",
      "ERROR:root:this is an loggging error message\n",
      "2018-05-11 14:32:07,799 - <ipython-input-23-6068c22f275f>[line:12] - ERROR: this is an loggging error message\n",
      "2018-05-11 14:32:07,799 - <ipython-input-23-6068c22f275f>[line:12] - ERROR: this is an loggging error message\n",
      "2018-05-11 14:32:07,799 - <ipython-input-23-6068c22f275f>[line:12] - ERROR: this is an loggging error message\n",
      "2018-05-11 14:32:07,799 - <ipython-input-23-6068c22f275f>[line:12] - ERROR: this is an loggging error message\n",
      "CRITICAL:root:this is a loggging critical message\n",
      "2018-05-11 14:32:07,813 - <ipython-input-23-6068c22f275f>[line:13] - CRITICAL: this is a loggging critical message\n",
      "2018-05-11 14:32:07,813 - <ipython-input-23-6068c22f275f>[line:13] - CRITICAL: this is a loggging critical message\n",
      "2018-05-11 14:32:07,813 - <ipython-input-23-6068c22f275f>[line:13] - CRITICAL: this is a loggging critical message\n",
      "2018-05-11 14:32:07,813 - <ipython-input-23-6068c22f275f>[line:13] - CRITICAL: this is a loggging critical message\n"
     ]
    }
   ],
   "source": [
    "# coding=utf-8  \n",
    "import logging \n",
    "   \n",
    "logging.basicConfig(level=logging.WARNING, \n",
    "                    filename='./log/log.txt', \n",
    "                    filemode='w', \n",
    "                    format='%(asctime)s - %(filename)s[line:%(lineno)d] - %(levelname)s: %(message)s') \n",
    "# use logging \n",
    "logging.info('this is a loggging info message') \n",
    "logging.debug('this is a loggging debug message') \n",
    "logging.warning('this is loggging a warning message') \n",
    "logging.error('this is an loggging error message') \n",
    "logging.critical('this is a loggging critical message') "
   ]
  },
  {
   "cell_type": "markdown",
   "metadata": {},
   "source": [
    "#### 2.3、既要把日志输出到控制台， 还要写入日志文件\n",
    "这就需要一个叫作Logger 的对象来帮忙，下面将对他进行详细介绍，现在这里先学习怎么实现把日志既要输出到控制台又要输出到文件的功能。"
   ]
  },
  {
   "cell_type": "code",
   "execution_count": 22,
   "metadata": {},
   "outputs": [
    {
     "name": "stderr",
     "output_type": "stream",
     "text": [
      "INFO:root:this is a logger info message\n",
      "WARNING:root:this is a logger warning message\n",
      "2018-05-11 14:31:30,796 - <ipython-input-22-b4db4249a949>[line:29] - WARNING: this is a logger warning message\n",
      "2018-05-11 14:31:30,796 - <ipython-input-22-b4db4249a949>[line:29] - WARNING: this is a logger warning message\n",
      "2018-05-11 14:31:30,796 - <ipython-input-22-b4db4249a949>[line:29] - WARNING: this is a logger warning message\n",
      "2018-05-11 14:31:30,796 - <ipython-input-22-b4db4249a949>[line:29] - WARNING: this is a logger warning message\n",
      "ERROR:root:this is a logger error message\n",
      "2018-05-11 14:31:30,817 - <ipython-input-22-b4db4249a949>[line:30] - ERROR: this is a logger error message\n",
      "2018-05-11 14:31:30,817 - <ipython-input-22-b4db4249a949>[line:30] - ERROR: this is a logger error message\n",
      "2018-05-11 14:31:30,817 - <ipython-input-22-b4db4249a949>[line:30] - ERROR: this is a logger error message\n",
      "2018-05-11 14:31:30,817 - <ipython-input-22-b4db4249a949>[line:30] - ERROR: this is a logger error message\n",
      "CRITICAL:root:this is a logger critical message\n",
      "2018-05-11 14:31:30,829 - <ipython-input-22-b4db4249a949>[line:31] - CRITICAL: this is a logger critical message\n",
      "2018-05-11 14:31:30,829 - <ipython-input-22-b4db4249a949>[line:31] - CRITICAL: this is a logger critical message\n",
      "2018-05-11 14:31:30,829 - <ipython-input-22-b4db4249a949>[line:31] - CRITICAL: this is a logger critical message\n",
      "2018-05-11 14:31:30,829 - <ipython-input-22-b4db4249a949>[line:31] - CRITICAL: this is a logger critical message\n"
     ]
    }
   ],
   "source": [
    "# coding=utf-8  \n",
    "import logging  \n",
    "  \n",
    "# 第一步，创建一个logger  \n",
    "logger = logging.getLogger()  \n",
    "logger.setLevel(logging.INFO)    # Log等级总开关  \n",
    "  \n",
    "# 第二步，创建一个handler，用于写入日志文件  \n",
    "logfile = './log/logger.txt'  \n",
    "fh = logging.FileHandler(logfile, mode='w')  \n",
    "fh.setLevel(logging.DEBUG)   # 输出到file的log等级的开关  \n",
    "  \n",
    "# 第三步，再创建一个handler，用于输出到控制台  \n",
    "ch = logging.StreamHandler()  \n",
    "ch.setLevel(logging.WARNING)   # 输出到console的log等级的开关  \n",
    "  \n",
    "# 第四步，定义handler的输出格式  \n",
    "formatter = logging.Formatter(\"%(asctime)s - %(filename)s[line:%(lineno)d] - %(levelname)s: %(message)s\")  \n",
    "fh.setFormatter(formatter)  \n",
    "ch.setFormatter(formatter)  \n",
    "  \n",
    "# 第五步，将logger添加到handler里面  \n",
    "logger.addHandler(fh)  \n",
    "logger.addHandler(ch)  \n",
    "  \n",
    "# 日志  \n",
    "\n",
    "\n",
    "#代码逻辑进行书写\n",
    "logger.debug('this is a logger debug message')  \n",
    "logger.info('this is a logger info message')  \n",
    "logger.warning('this is a logger warning message')  \n",
    "logger.error('this is a logger error message')  \n",
    "logger.critical('this is a logger critical message')  "
   ]
  },
  {
   "cell_type": "markdown",
   "metadata": {},
   "source": [
    "#### 【解析】\n",
    "\n",
    "可以发现，实现这个功能一共分5步：\n",
    "\n",
    "* 第一步，创建一个logger；\n",
    "* 第二步，创建一个handler，用于写入日志文件；\n",
    "* 第三步，再创建一个handler，用于输出到控制台；\n",
    "* 第四步，定义handler的输出格式；\n",
    "* 第五步，将logger添加到handler里面。这段代码里面提到了好多概念，包括：Logger，Handler，Formatter。后面讲对这些概念进行讲解。"
   ]
  },
  {
   "cell_type": "markdown",
   "metadata": {},
   "source": [
    "### 3、日志格式说明\n",
    "logging.basicConfig函数中，可以指定日志的输出格式format，这个参数可以输出很多有用的信息，如上例所示：\n",
    "\n",
    "* %(levelno)s: 打印日志级别的数值\n",
    "* %(levelname)s: 打印日志级别名称\n",
    "* %(pathname)s: 打印当前执行程序的路径，其实就是sys.argv[0]\n",
    "* %(filename)s: 打印当前执行程序名\n",
    "* %(funcName)s: 打印日志的当前函数\n",
    "* %(lineno)d: 打印日志的当前行号\n",
    "* %(asctime)s: 打印日志的时间\n",
    "* %(thread)d: 打印线程ID\n",
    "* %(threadName)s: 打印线程名称\n",
    "* %(process)d: 打印进程ID\n",
    "* %(message)s: 打印日志信息\n",
    "\n",
    "我在工作中给的常用格式在前面已经看到了。就是：\n",
    "\n",
    "> format='%(asctime)s - %(filename)s[line:%(lineno)d] - %(levelname)s: %(message)s'\n",
    "\n",
    "这个格式可以输出日志的打印时间，是哪个模块输出的，输出的日志级别是什么，以及输入的日志内容。\n",
    "\n"
   ]
  },
  {
   "cell_type": "code",
   "execution_count": null,
   "metadata": {
    "collapsed": true
   },
   "outputs": [],
   "source": []
  }
 ],
 "metadata": {
  "kernelspec": {
   "display_name": "Python 3",
   "language": "python",
   "name": "python3"
  },
  "language_info": {
   "codemirror_mode": {
    "name": "ipython",
    "version": 3
   },
   "file_extension": ".py",
   "mimetype": "text/x-python",
   "name": "python",
   "nbconvert_exporter": "python",
   "pygments_lexer": "ipython3",
   "version": "3.6.1"
  }
 },
 "nbformat": 4,
 "nbformat_minor": 2
}
