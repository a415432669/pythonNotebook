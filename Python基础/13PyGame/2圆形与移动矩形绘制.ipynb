{
 "cells": [
  {
   "cell_type": "code",
   "execution_count": 1,
   "metadata": {},
   "outputs": [
    {
     "ename": "SystemExit",
     "evalue": "",
     "output_type": "error",
     "traceback": [
      "An exception has occurred, use %tb to see the full traceback.\n",
      "\u001b[1;31mSystemExit\u001b[0m\n"
     ]
    },
    {
     "name": "stderr",
     "output_type": "stream",
     "text": [
      "C:\\ProgramData\\Anaconda3\\lib\\site-packages\\IPython\\core\\interactiveshell.py:2889: UserWarning: To exit: use 'exit', 'quit', or Ctrl-D.\n",
      "  warn(\"To exit: use 'exit', 'quit', or Ctrl-D.\", stacklevel=1)\n"
     ]
    }
   ],
   "source": [
    "#要使用必先导入\n",
    "import pygame\n",
    "#导入pygame中的所有常量\n",
    "from pygame.locals import *\n",
    "import sys\n",
    "\n",
    "#初始化PyGame\n",
    "pygame.init()\n",
    "#创建一个600*500的窗口\n",
    "screen = pygame.display.set_mode((600,500))\n",
    "\n",
    "#设置颜色、位置、圆的半径、宽度\n",
    "color = (255,255,0)\n",
    "position = (300,250)\n",
    "radius = 100\n",
    "width = 10\n",
    "\n",
    "blue = (0,0,255)\n",
    "\n",
    "while True:\n",
    "    for event in pygame.event.get():\n",
    "        if event.type in (QUIT,KEYDOWN):\n",
    "            sys.exit()\n",
    "    # 清理屏幕，绘制，然后刷新\n",
    "    screen.fill(blue)\n",
    "    pygame.draw.circle(screen, color, position, radius, width)\n",
    "    pygame.display.update()\n",
    "\n",
    "\n",
    "\n",
    "\n",
    "\n",
    "\n"
   ]
  },
  {
   "cell_type": "code",
   "execution_count": null,
   "metadata": {
    "collapsed": true
   },
   "outputs": [],
   "source": [
    "import  pygame\n",
    "from pygame.locals import *\n",
    "import sys\n",
    "\n",
    "pygame.init()\n",
    "screen = pygame.display.set_mode((600,500))\n",
    "#设置一下标题\n",
    "pygame.display.set_caption('Drawing Rectangles')\n",
    "\n",
    "#设置矩形的位置和速度大小\n",
    "pos_x = 300\n",
    "pos_y = 250\n",
    "vel_x = 2\n",
    "vel_y = 1\n",
    "color = (0,0,200)\n",
    "\n",
    "while True:\n",
    "    for event in pygame.event.get():\n",
    "        if event.type in (QUIT,KEYDOWN):\n",
    "            pygame.quit()\n",
    "            sys.exit()\n",
    "\n",
    "    screen.fill(color)\n",
    "    pos_x += vel_x\n",
    "    pos_y = pos_y + vel_y\n",
    "\n",
    "    if pos_x > 500 or pos_x < 0:\n",
    "        vel_x = - vel_x\n",
    "    if pos_y > 400 or pos_y < 0:\n",
    "        vel_y = - vel_y\n",
    "\n",
    "\n",
    "    #绘制矩形\n",
    "    color1  = 255,255,0\n",
    "    width = 0\n",
    "    pos = pos_x,pos_y,100,100\n",
    "    pygame.draw.rect(screen,color1,pos,width)\n",
    "    pygame.display.update()\n",
    "\n",
    "\n",
    "\n"
   ]
  }
 ],
 "metadata": {
  "kernelspec": {
   "display_name": "Python 3",
   "language": "python",
   "name": "python3"
  },
  "language_info": {
   "codemirror_mode": {
    "name": "ipython",
    "version": 3
   },
   "file_extension": ".py",
   "mimetype": "text/x-python",
   "name": "python",
   "nbconvert_exporter": "python",
   "pygments_lexer": "ipython3",
   "version": "3.6.1"
  }
 },
 "nbformat": 4,
 "nbformat_minor": 2
}
