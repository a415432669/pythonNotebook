{
 "cells": [
  {
   "cell_type": "code",
   "execution_count": 1,
   "metadata": {},
   "outputs": [
    {
     "ename": "SystemExit",
     "evalue": "",
     "output_type": "error",
     "traceback": [
      "An exception has occurred, use %tb to see the full traceback.\n",
      "\u001b[1;31mSystemExit\u001b[0m\n"
     ]
    },
    {
     "name": "stderr",
     "output_type": "stream",
     "text": [
      "C:\\ProgramData\\Anaconda3\\lib\\site-packages\\IPython\\core\\interactiveshell.py:2889: UserWarning: To exit: use 'exit', 'quit', or Ctrl-D.\n",
      "  warn(\"To exit: use 'exit', 'quit', or Ctrl-D.\", stacklevel=1)\n"
     ]
    }
   ],
   "source": [
    "#要使用必先导入\n",
    "import pygame\n",
    "#导入pygame中的所有常量\n",
    "from pygame.locals import *\n",
    "import sys\n",
    "\n",
    "\n",
    "#初始化PyGame\n",
    "pygame.init()\n",
    "#创建一个600*500的窗口\n",
    "screen = pygame.display.set_mode((600,500))\n",
    "\n",
    "#打印文字到窗口\n",
    "myfont = pygame.font.Font(None,60)\n",
    "#RGB,R红色，G绿色，B蓝色\n",
    "white = (255,255,255)\n",
    "blue = (0,0,255)\n",
    "textImage = myfont.render('Hello PyGame',True,white)\n",
    "\n",
    "while True:\n",
    "    for event in pygame.event.get():\n",
    "        if event.type in (QUIT,KEYDOWN):\n",
    "            sys.exit()\n",
    "    # 清理屏幕，绘制，然后刷新\n",
    "    screen.fill(blue)\n",
    "    screen.blit(textImage, (100, 100))\n",
    "    pygame.display.update()\n",
    "\n",
    "\n",
    "\n",
    "\n",
    "\n",
    "\n",
    "\n",
    "\n",
    "\n",
    "\n",
    "\n",
    "\n"
   ]
  },
  {
   "cell_type": "code",
   "execution_count": null,
   "metadata": {
    "collapsed": true
   },
   "outputs": [],
   "source": []
  }
 ],
 "metadata": {
  "kernelspec": {
   "display_name": "Python 3",
   "language": "python",
   "name": "python3"
  },
  "language_info": {
   "codemirror_mode": {
    "name": "ipython",
    "version": 3
   },
   "file_extension": ".py",
   "mimetype": "text/x-python",
   "name": "python",
   "nbconvert_exporter": "python",
   "pygments_lexer": "ipython3",
   "version": "3.6.1"
  }
 },
 "nbformat": 4,
 "nbformat_minor": 2
}
