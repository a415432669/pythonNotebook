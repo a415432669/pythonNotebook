{
 "cells": [
  {
   "cell_type": "markdown",
   "metadata": {},
   "source": [
    "# 正则表达式"
   ]
  },
  {
   "cell_type": "markdown",
   "metadata": {},
   "source": [
    "## 常见匹配模式"
   ]
  },
  {
   "cell_type": "markdown",
   "metadata": {},
   "source": [
    "| 模式| 描述|\n",
    "|----|----|\n",
    "| \\w\t| 匹配字母数字及下划线 |\n",
    "| \\W\t| 匹配非字母数字下划线 |\n",
    "| \\s\t| 匹配任意空白字符，等价于 [\\t\\n\\r\\f]. |\n",
    "| \\S\t| 匹配任意非空字符 |\n",
    "| \\d\t| 匹配任意数字，等价于 [0-9] |\n",
    "| \\D\t| 匹配任意非数字 |\n",
    "| \\A\t| 匹配字符串开始 |\n",
    "| \\Z\t| 匹配字符串结束，如果是存在换行，只匹配到换行前的结束字符串 |\n",
    "| \\z\t| 匹配字符串结束 |\n",
    "| \\G\t| 匹配最后匹配完成的位置 |\n",
    "| \\n | 匹配一个换行符 |\n",
    "| \\t | 匹配一个制表符 |\n",
    "| ^\t| 匹配字符串的开头 |\n",
    "| $\t| 匹配字符串的末尾。|\n",
    "| .\t| 匹配任意字符，除了换行符，当re.DOTALL标记被指定时，则可以匹配包括换行符的任意字符。|\n",
    "| [...]\t| 用来表示一组字符,单独列出：[amk] 匹配 'a'，'m'或'k' |\n",
    "| [^...]\t| 不在[]中的字符：[^abc] 匹配除了a,b,c之外的字符。| \n",
    "| *\t| 匹配0个或多个的表达式。|\n",
    "| +\t| 匹配1个或多个的表达式。|\n",
    "| ?\t| 匹配0个或1个由前面的正则表达式定义的片段，非贪婪方式| \n",
    "| {n}\t| 精确匹配n个前面表达式。|\n",
    "| {n, m} | 匹配 n 到 m 次由前面的正则表达式定义的片段，贪婪方式| \n",
    "| a&#124;b | 匹配a或b |\n",
    "| ( )\t| 匹配括号内的表达式，也表示一个组 |"
   ]
  },
  {
   "cell_type": "markdown",
   "metadata": {},
   "source": [
    "## re.match\n",
    "re.match 尝试从字符串的起始位置匹配一个模式，如果不是起始位置匹配成功的话，match()就返回none。"
   ]
  },
  {
   "cell_type": "raw",
   "metadata": {
    "collapsed": true
   },
   "source": [
    "re.match(pattern, string, flags=0)"
   ]
  },
  {
   "cell_type": "markdown",
   "metadata": {},
   "source": [
    "### 最常规的匹配"
   ]
  },
  {
   "cell_type": "code",
   "execution_count": 17,
   "metadata": {},
   "outputs": [
    {
     "name": "stdout",
     "output_type": "stream",
     "text": [
      "41\n",
      "<_sre.SRE_Match object; span=(0, 41), match='Hello 123 4567 World_This is a Regex Demo'>\n",
      "Hello 123 4567 World_This is a Regex Demo\n",
      "(0, 41)\n"
     ]
    }
   ],
   "source": [
    "import re\n",
    "\n",
    "content = 'Hello 123 4567 World_This is a Regex Demo'\n",
    "print(len(content))\n",
    "result = re.match('^Hello\\s\\d\\d\\d\\s\\d{4}\\s\\w{10}.*Demo$', content)\n",
    "print(result)\n",
    "print(result.group())\n",
    "print(result.span())"
   ]
  },
  {
   "cell_type": "markdown",
   "metadata": {},
   "source": [
    "### 泛匹配"
   ]
  },
  {
   "cell_type": "code",
   "execution_count": 18,
   "metadata": {},
   "outputs": [
    {
     "name": "stdout",
     "output_type": "stream",
     "text": [
      "<_sre.SRE_Match object; span=(0, 41), match='Hello 123 4567 World_This is a Regex Demo'>\n",
      "Hello 123 4567 World_This is a Regex Demo\n",
      "(0, 41)\n"
     ]
    }
   ],
   "source": [
    "import re\n",
    "\n",
    "content = 'Hello 123 4567 World_This is a Regex Demo'\n",
    "result = re.match('^Hello.*Demo$', content)\n",
    "print(result)\n",
    "print(result.group())\n",
    "print(result.span())"
   ]
  },
  {
   "cell_type": "markdown",
   "metadata": {},
   "source": [
    "### 匹配目标"
   ]
  },
  {
   "cell_type": "code",
   "execution_count": 20,
   "metadata": {
    "scrolled": true
   },
   "outputs": [
    {
     "name": "stdout",
     "output_type": "stream",
     "text": [
      "<_sre.SRE_Match object; span=(0, 40), match='Hello 1234567 World_This is a Regex Demo'>\n",
      "1234567\n",
      "(0, 40)\n"
     ]
    }
   ],
   "source": [
    "import re\n",
    "\n",
    "content = 'Hello 1234567 World_This is a Regex Demo'\n",
    "result = re.match('^Hello\\s(\\d+)\\sWorld.*Demo$', content)\n",
    "print(result)\n",
    "print(result.group(1))\n",
    "print(result.span())"
   ]
  },
  {
   "cell_type": "markdown",
   "metadata": {},
   "source": [
    "### 贪婪匹配"
   ]
  },
  {
   "cell_type": "code",
   "execution_count": 21,
   "metadata": {},
   "outputs": [
    {
     "name": "stdout",
     "output_type": "stream",
     "text": [
      "<_sre.SRE_Match object; span=(0, 40), match='Hello 1234567 World_This is a Regex Demo'>\n",
      "7\n"
     ]
    }
   ],
   "source": [
    "import re\n",
    "\n",
    "content = 'Hello 1234567 World_This is a Regex Demo'\n",
    "result = re.match('^He.*(\\d+).*Demo$', content)\n",
    "print(result)\n",
    "print(result.group(1))"
   ]
  },
  {
   "cell_type": "markdown",
   "metadata": {},
   "source": [
    "### 非贪婪匹配"
   ]
  },
  {
   "cell_type": "code",
   "execution_count": 22,
   "metadata": {},
   "outputs": [
    {
     "name": "stdout",
     "output_type": "stream",
     "text": [
      "<_sre.SRE_Match object; span=(0, 40), match='Hello 1234567 World_This is a Regex Demo'>\n",
      "1234567\n"
     ]
    }
   ],
   "source": [
    "import re\n",
    "\n",
    "content = 'Hello 1234567 World_This is a Regex Demo'\n",
    "result = re.match('^He.*?(\\d+).*Demo$', content)\n",
    "print(result)\n",
    "print(result.group(1))"
   ]
  },
  {
   "cell_type": "markdown",
   "metadata": {},
   "source": [
    "### 匹配模式"
   ]
  },
  {
   "cell_type": "code",
   "execution_count": 26,
   "metadata": {},
   "outputs": [
    {
     "name": "stdout",
     "output_type": "stream",
     "text": [
      "1234567\n"
     ]
    }
   ],
   "source": [
    "import re\n",
    "\n",
    "content = '''Hello 1234567 World_This\n",
    "is a Regex Demo\n",
    "'''\n",
    "result = re.match('^He.*?(\\d+).*?Demo$', content, re.S)\n",
    "print(result.group(1))"
   ]
  },
  {
   "cell_type": "markdown",
   "metadata": {},
   "source": [
    "### 转义"
   ]
  },
  {
   "cell_type": "code",
   "execution_count": 28,
   "metadata": {},
   "outputs": [
    {
     "name": "stdout",
     "output_type": "stream",
     "text": [
      "None\n"
     ]
    }
   ],
   "source": [
    "import re\n",
    "\n",
    "content = 'price is $5.00'\n",
    "result = re.match('price is $5.00', content)\n",
    "print(result)"
   ]
  },
  {
   "cell_type": "code",
   "execution_count": 31,
   "metadata": {},
   "outputs": [
    {
     "name": "stdout",
     "output_type": "stream",
     "text": [
      "<_sre.SRE_Match object; span=(0, 14), match='price is $5.00'>\n"
     ]
    }
   ],
   "source": [
    "import re\n",
    "\n",
    "content = 'price is $5.00'\n",
    "result = re.match('price is \\$5\\.00', content)\n",
    "print(result)"
   ]
  },
  {
   "cell_type": "markdown",
   "metadata": {},
   "source": [
    "总结：尽量使用泛匹配、使用括号得到匹配目标、尽量使用非贪婪模式、有换行符就用re.S"
   ]
  },
  {
   "cell_type": "markdown",
   "metadata": {},
   "source": [
    "## re.search\n",
    "re.search 扫描整个字符串并返回第一个成功的匹配。"
   ]
  },
  {
   "cell_type": "code",
   "execution_count": 32,
   "metadata": {},
   "outputs": [
    {
     "name": "stdout",
     "output_type": "stream",
     "text": [
      "None\n"
     ]
    }
   ],
   "source": [
    "import re\n",
    "\n",
    "\n",
    "content = 'Extra stings Hello 1234567 World_This is a Regex Demo Extra stings'\n",
    "result = re.match('Hello.*?(\\d+).*?Demo', content)\n",
    "print(result)"
   ]
  },
  {
   "cell_type": "code",
   "execution_count": 35,
   "metadata": {},
   "outputs": [
    {
     "name": "stdout",
     "output_type": "stream",
     "text": [
      "<_sre.SRE_Match object; span=(13, 53), match='Hello 1234567 World_This is a Regex Demo'>\n",
      "1234567\n"
     ]
    }
   ],
   "source": [
    "import re\n",
    "\n",
    "content = 'Extra stings Hello 1234567 World_This is a Regex Demo Extra stings'\n",
    "result = re.search('Hello.*?(\\d+).*?Demo', content)\n",
    "print(result)\n",
    "print(result.group(1))"
   ]
  },
  {
   "cell_type": "markdown",
   "metadata": {},
   "source": [
    "总结：为匹配方便，能用search就不用match"
   ]
  },
  {
   "cell_type": "markdown",
   "metadata": {},
   "source": [
    "### 匹配演练"
   ]
  },
  {
   "cell_type": "code",
   "execution_count": 36,
   "metadata": {},
   "outputs": [
    {
     "name": "stdout",
     "output_type": "stream",
     "text": [
      "齐秦 往事随风\n"
     ]
    }
   ],
   "source": [
    "import re\n",
    "\n",
    "html = '''<div id=\"songs-list\">\n",
    "    <h2 class=\"title\">经典老歌</h2>\n",
    "    <p class=\"introduction\">\n",
    "        经典老歌列表\n",
    "    </p>\n",
    "    <ul id=\"list\" class=\"list-group\">\n",
    "        <li data-view=\"2\">一路上有你</li>\n",
    "        <li data-view=\"7\">\n",
    "            <a href=\"/2.mp3\" singer=\"任贤齐\">沧海一声笑</a>\n",
    "        </li>\n",
    "        <li data-view=\"4\" class=\"active\">\n",
    "            <a href=\"/3.mp3\" singer=\"齐秦\">往事随风</a>\n",
    "        </li>\n",
    "        <li data-view=\"6\"><a href=\"/4.mp3\" singer=\"beyond\">光辉岁月</a></li>\n",
    "        <li data-view=\"5\"><a href=\"/5.mp3\" singer=\"陈慧琳\">记事本</a></li>\n",
    "        <li data-view=\"5\">\n",
    "            <a href=\"/6.mp3\" singer=\"邓丽君\"><i class=\"fa fa-user\"></i>但愿人长久</a>\n",
    "        </li>\n",
    "    </ul>\n",
    "</div>'''\n",
    "result = re.search('<li.*?active.*?singer=\"(.*?)\">(.*?)</a>', html, re.S)\n",
    "if result:\n",
    "    print(result.group(1), result.group(2))"
   ]
  },
  {
   "cell_type": "code",
   "execution_count": 37,
   "metadata": {},
   "outputs": [
    {
     "name": "stdout",
     "output_type": "stream",
     "text": [
      "任贤齐 沧海一声笑\n"
     ]
    }
   ],
   "source": [
    "import re\n",
    "\n",
    "html = '''<div id=\"songs-list\">\n",
    "    <h2 class=\"title\">经典老歌</h2>\n",
    "    <p class=\"introduction\">\n",
    "        经典老歌列表\n",
    "    </p>\n",
    "    <ul id=\"list\" class=\"list-group\">\n",
    "        <li data-view=\"2\">一路上有你</li>\n",
    "        <li data-view=\"7\">\n",
    "            <a href=\"/2.mp3\" singer=\"任贤齐\">沧海一声笑</a>\n",
    "        </li>\n",
    "        <li data-view=\"4\" class=\"active\">\n",
    "            <a href=\"/3.mp3\" singer=\"齐秦\">往事随风</a>\n",
    "        </li>\n",
    "        <li data-view=\"6\"><a href=\"/4.mp3\" singer=\"beyond\">光辉岁月</a></li>\n",
    "        <li data-view=\"5\"><a href=\"/5.mp3\" singer=\"陈慧琳\">记事本</a></li>\n",
    "        <li data-view=\"5\">\n",
    "            <a href=\"/6.mp3\" singer=\"邓丽君\">但愿人长久</a>\n",
    "        </li>\n",
    "    </ul>\n",
    "</div>'''\n",
    "result = re.search('<li.*?singer=\"(.*?)\">(.*?)</a>', html, re.S)\n",
    "if result:\n",
    "    print(result.group(1), result.group(2))"
   ]
  },
  {
   "cell_type": "code",
   "execution_count": 40,
   "metadata": {},
   "outputs": [
    {
     "name": "stdout",
     "output_type": "stream",
     "text": [
      "beyond 光辉岁月\n"
     ]
    }
   ],
   "source": [
    "import re\n",
    "\n",
    "html = '''<div id=\"songs-list\">\n",
    "    <h2 class=\"title\">经典老歌</h2>\n",
    "    <p class=\"introduction\">\n",
    "        经典老歌列表\n",
    "    </p>\n",
    "    <ul id=\"list\" class=\"list-group\">\n",
    "        <li data-view=\"2\">一路上有你</li>\n",
    "        <li data-view=\"7\">\n",
    "            <a href=\"/2.mp3\" singer=\"任贤齐\">沧海一声笑</a>\n",
    "        </li>\n",
    "        <li data-view=\"4\" class=\"active\">\n",
    "            <a href=\"/3.mp3\" singer=\"齐秦\">往事随风</a>\n",
    "        </li>\n",
    "        <li data-view=\"6\"><a href=\"/4.mp3\" singer=\"beyond\">光辉岁月</a></li>\n",
    "        <li data-view=\"5\"><a href=\"/5.mp3\" singer=\"陈慧琳\">记事本</a></li>\n",
    "        <li data-view=\"5\">\n",
    "            <a href=\"/6.mp3\" singer=\"邓丽君\">但愿人长久</a>\n",
    "        </li>\n",
    "    </ul>\n",
    "</div>'''\n",
    "result = re.search('<li.*?singer=\"(.*?)\">(.*?)</a>', html)\n",
    "if result:\n",
    "    print(result.group(1), result.group(2))"
   ]
  },
  {
   "cell_type": "markdown",
   "metadata": {},
   "source": [
    "## re.findall\n",
    "搜索字符串，以列表形式返回全部能匹配的子串。\n",
    "### 内涵端子小案例"
   ]
  },
  {
   "cell_type": "code",
   "execution_count": 44,
   "metadata": {},
   "outputs": [
    {
     "name": "stdout",
     "output_type": "stream",
     "text": [
      "[('/2.mp3', '任贤齐', '沧海一声笑'), ('/3.mp3', '齐秦', '往事随风'), ('/4.mp3', 'beyond', '光辉岁月'), ('/5.mp3', '陈慧琳', '记事本'), ('/6.mp3', '邓丽君', '但愿人长久')]\n",
      "<class 'list'>\n",
      "('/2.mp3', '任贤齐', '沧海一声笑')\n",
      "/2.mp3 任贤齐 沧海一声笑\n",
      "('/3.mp3', '齐秦', '往事随风')\n",
      "/3.mp3 齐秦 往事随风\n",
      "('/4.mp3', 'beyond', '光辉岁月')\n",
      "/4.mp3 beyond 光辉岁月\n",
      "('/5.mp3', '陈慧琳', '记事本')\n",
      "/5.mp3 陈慧琳 记事本\n",
      "('/6.mp3', '邓丽君', '但愿人长久')\n",
      "/6.mp3 邓丽君 但愿人长久\n"
     ]
    }
   ],
   "source": [
    "import re\n",
    "\n",
    "html = '''<div id=\"songs-list\">\n",
    "    <h2 class=\"title\">经典老歌</h2>\n",
    "    <p class=\"introduction\">\n",
    "        经典老歌列表\n",
    "    </p>\n",
    "    <ul id=\"list\" class=\"list-group\">\n",
    "        <li data-view=\"2\">一路上有你</li>\n",
    "        <li data-view=\"7\">\n",
    "            <a href=\"/2.mp3\" singer=\"任贤齐\">沧海一声笑</a>\n",
    "        </li>\n",
    "        <li data-view=\"4\" class=\"active\">\n",
    "            <a href=\"/3.mp3\" singer=\"齐秦\">往事随风</a>\n",
    "        </li>\n",
    "        <li data-view=\"6\"><a href=\"/4.mp3\" singer=\"beyond\">光辉岁月</a></li>\n",
    "        <li data-view=\"5\"><a href=\"/5.mp3\" singer=\"陈慧琳\">记事本</a></li>\n",
    "        <li data-view=\"5\">\n",
    "            <a href=\"/6.mp3\" singer=\"邓丽君\">但愿人长久</a>\n",
    "        </li>\n",
    "    </ul>\n",
    "</div>'''\n",
    "results = re.findall('<li.*?href=\"(.*?)\".*?singer=\"(.*?)\">(.*?)</a>', html, re.S)\n",
    "print(results)\n",
    "print(type(results))\n",
    "for result in results:\n",
    "    print(result)\n",
    "    print(result[0], result[1], result[2])"
   ]
  },
  {
   "cell_type": "code",
   "execution_count": 46,
   "metadata": {},
   "outputs": [
    {
     "name": "stdout",
     "output_type": "stream",
     "text": [
      "[('', '一路上有你', ''), ('<a href=\"/2.mp3\" singer=\"任贤齐\">', '沧海一声笑', '</a>'), ('<a href=\"/3.mp3\" singer=\"齐秦\">', '往事随风', '</a>'), ('<a href=\"/4.mp3\" singer=\"beyond\">', '光辉岁月', '</a>'), ('<a href=\"/5.mp3\" singer=\"陈慧琳\">', '记事本', '</a>'), ('<a href=\"/6.mp3\" singer=\"邓丽君\">', '但愿人长久', '</a>')]\n",
      "一路上有你\n",
      "沧海一声笑\n",
      "往事随风\n",
      "光辉岁月\n",
      "记事本\n",
      "但愿人长久\n"
     ]
    }
   ],
   "source": [
    "import re\n",
    "\n",
    "html = '''<div id=\"songs-list\">\n",
    "    <h2 class=\"title\">经典老歌</h2>\n",
    "    <p class=\"introduction\">\n",
    "        经典老歌列表\n",
    "    </p>\n",
    "    <ul id=\"list\" class=\"list-group\">\n",
    "        <li data-view=\"2\">一路上有你</li>\n",
    "        <li data-view=\"7\">\n",
    "            <a href=\"/2.mp3\" singer=\"任贤齐\">沧海一声笑</a>\n",
    "        </li>\n",
    "        <li data-view=\"4\" class=\"active\">\n",
    "            <a href=\"/3.mp3\" singer=\"齐秦\">往事随风</a>\n",
    "        </li>\n",
    "        <li data-view=\"6\"><a href=\"/4.mp3\" singer=\"beyond\">光辉岁月</a></li>\n",
    "        <li data-view=\"5\"><a href=\"/5.mp3\" singer=\"陈慧琳\">记事本</a></li>\n",
    "        <li data-view=\"5\">\n",
    "            <a href=\"/6.mp3\" singer=\"邓丽君\">但愿人长久</a>\n",
    "        </li>\n",
    "    </ul>\n",
    "</div>'''\n",
    "results = re.findall('<li.*?>\\s*?(<a.*?>)?(\\w+)(</a>)?\\s*?</li>', html, re.S)\n",
    "print(results)\n",
    "for result in results:\n",
    "    print(result[1])"
   ]
  },
  {
   "cell_type": "code",
   "execution_count": null,
   "metadata": {
    "collapsed": true
   },
   "outputs": [],
   "source": [
    "import re\n",
    "import requests\n",
    "\n",
    "res = requests.get('http://www.neihanshequ.com')\n",
    "text = res.text\n",
    "listArr = re.findall('<div.*?class=\"name\"\\>(.*?)</.*?<p>(.*?)</p>',text,re.S)\n",
    "#print(res.text)\n",
    "#print(listArr)\n",
    "for item in listArr:\n",
    "    print(item[0])"
   ]
  },
  {
   "cell_type": "markdown",
   "metadata": {},
   "source": [
    "### re.sub\n",
    "替换字符串中每一个匹配的子串后返回替换后的字符串。"
   ]
  },
  {
   "cell_type": "code",
   "execution_count": 47,
   "metadata": {},
   "outputs": [
    {
     "name": "stdout",
     "output_type": "stream",
     "text": [
      "Extra stings Hello  World_This is a Regex Demo Extra stings\n"
     ]
    }
   ],
   "source": [
    "import re\n",
    "\n",
    "content = 'Extra stings Hello 1234567 World_This is a Regex Demo Extra stings'\n",
    "content = re.sub('\\d+', '', content)\n",
    "print(content)"
   ]
  },
  {
   "cell_type": "code",
   "execution_count": 48,
   "metadata": {},
   "outputs": [
    {
     "name": "stdout",
     "output_type": "stream",
     "text": [
      "Extra stings Hello Replacement World_This is a Regex Demo Extra stings\n"
     ]
    }
   ],
   "source": [
    "import re\n",
    "\n",
    "content = 'Extra stings Hello 1234567 World_This is a Regex Demo Extra stings'\n",
    "content = re.sub('\\d+', 'Replacement', content)\n",
    "print(content)"
   ]
  },
  {
   "cell_type": "code",
   "execution_count": 51,
   "metadata": {},
   "outputs": [
    {
     "name": "stdout",
     "output_type": "stream",
     "text": [
      "Extra stings Hello 1234567 8910 World_This is a Regex Demo Extra stings\n"
     ]
    }
   ],
   "source": [
    "import re\n",
    "\n",
    "content = 'Extra stings Hello 1234567 World_This is a Regex Demo Extra stings'\n",
    "content = re.sub('(\\d+)', r'\\1 8910', content)\n",
    "print(content)"
   ]
  },
  {
   "cell_type": "code",
   "execution_count": null,
   "metadata": {
    "collapsed": true
   },
   "outputs": [],
   "source": [
    "import re\n",
    "\n",
    "html = '''<div id=\"songs-list\">\n",
    "    <h2 class=\"title\">经典老歌</h2>\n",
    "    <p class=\"introduction\">\n",
    "        经典老歌列表\n",
    "    </p>\n",
    "    <ul id=\"list\" class=\"list-group\">\n",
    "        <li data-view=\"2\">一路上有你</li>\n",
    "        <li data-view=\"7\">\n",
    "            <a href=\"/2.mp3\" singer=\"任贤齐\">沧海一声笑</a>\n",
    "        </li>\n",
    "        <li data-view=\"4\" class=\"active\">\n",
    "            <a href=\"/3.mp3\" singer=\"齐秦\">往事随风</a>\n",
    "        </li>\n",
    "        <li data-view=\"6\"><a href=\"/4.mp3\" singer=\"beyond\">光辉岁月</a></li>\n",
    "        <li data-view=\"5\"><a href=\"/5.mp3\" singer=\"陈慧琳\">记事本</a></li>\n",
    "        <li data-view=\"5\">\n",
    "            <a href=\"/6.mp3\" singer=\"邓丽君\">但愿人长久</a>\n",
    "        </li>\n",
    "    </ul>\n",
    "</div>'''\n"
   ]
  },
  {
   "cell_type": "code",
   "execution_count": 54,
   "metadata": {},
   "outputs": [
    {
     "name": "stdout",
     "output_type": "stream",
     "text": [
      "<div id=\"songs-list\">\n",
      "    <h2 class=\"title\">经典老歌</h2>\n",
      "    <p class=\"introduction\">\n",
      "        经典老歌列表\n",
      "    </p>\n",
      "    <ul id=\"list\" class=\"list-group\">\n",
      "        <li data-view=\"2\">一路上有你</li>\n",
      "        <li data-view=\"7\">\n",
      "            沧海一声笑\n",
      "        </li>\n",
      "        <li data-view=\"4\" class=\"active\">\n",
      "            往事随风\n",
      "        </li>\n",
      "        <li data-view=\"6\">光辉岁月</li>\n",
      "        <li data-view=\"5\">记事本</li>\n",
      "        <li data-view=\"5\">\n",
      "            但愿人长久\n",
      "        </li>\n",
      "    </ul>\n",
      "</div>\n",
      "['一路上有你', '\\n            沧海一声笑\\n        ', '\\n            往事随风\\n        ', '光辉岁月', '记事本', '\\n            但愿人长久\\n        ']\n",
      "一路上有你\n",
      "沧海一声笑\n",
      "往事随风\n",
      "光辉岁月\n",
      "记事本\n",
      "但愿人长久\n"
     ]
    }
   ],
   "source": [
    "import re\n",
    "\n",
    "html = '''<div id=\"songs-list\">\n",
    "    <h2 class=\"title\">经典老歌</h2>\n",
    "    <p class=\"introduction\">\n",
    "        经典老歌列表\n",
    "    </p>\n",
    "    <ul id=\"list\" class=\"list-group\">\n",
    "        <li data-view=\"2\">一路上有你</li>\n",
    "        <li data-view=\"7\">\n",
    "            <a href=\"/2.mp3\" singer=\"任贤齐\">沧海一声笑</a>\n",
    "        </li>\n",
    "        <li data-view=\"4\" class=\"active\">\n",
    "            <a href=\"/3.mp3\" singer=\"齐秦\">往事随风</a>\n",
    "        </li>\n",
    "        <li data-view=\"6\"><a href=\"/4.mp3\" singer=\"beyond\">光辉岁月</a></li>\n",
    "        <li data-view=\"5\"><a href=\"/5.mp3\" singer=\"陈慧琳\">记事本</a></li>\n",
    "        <li data-view=\"5\">\n",
    "            <a href=\"/6.mp3\" singer=\"邓丽君\">但愿人长久</a>\n",
    "        </li>\n",
    "    </ul>\n",
    "</div>'''\n",
    "html = re.sub('<a.*?>|</a>', '', html)\n",
    "print(html)\n",
    "results = re.findall('<li.*?>(.*?)</li>', html, re.S)\n",
    "print(results)\n",
    "for result in results:\n",
    "    print(result.strip())"
   ]
  },
  {
   "cell_type": "markdown",
   "metadata": {},
   "source": [
    "## re.compile\n",
    "将正则字符串编译成正则表达式对象"
   ]
  },
  {
   "cell_type": "code",
   "execution_count": null,
   "metadata": {
    "collapsed": true
   },
   "outputs": [],
   "source": [
    "将一个正则表达式串编译成正则对象，以便于复用该匹配模式"
   ]
  },
  {
   "cell_type": "code",
   "execution_count": 57,
   "metadata": {},
   "outputs": [
    {
     "name": "stdout",
     "output_type": "stream",
     "text": [
      "<_sre.SRE_Match object; span=(0, 40), match='Hello 1234567 World_This\\nis a Regex Demo'>\n"
     ]
    }
   ],
   "source": [
    "import re\n",
    "\n",
    "content = '''Hello 1234567 World_This\n",
    "is a Regex Demo'''\n",
    "pattern = re.compile('Hello.*Demo', re.S)\n",
    "result = re.match(pattern, content)\n",
    "#result = re.match('Hello.*Demo', content, re.S)\n",
    "print(result)"
   ]
  },
  {
   "cell_type": "markdown",
   "metadata": {
    "collapsed": true
   },
   "source": [
    "## 实战练习"
   ]
  },
  {
   "cell_type": "code",
   "execution_count": 62,
   "metadata": {
    "scrolled": false
   },
   "outputs": [
    {
     "name": "stdout",
     "output_type": "stream",
     "text": [
      "https://book.douban.com/subject/26925834/?icn=index-editionrecommend 别走出这一步 [英]S.J.沃森 2017-1\n",
      "https://book.douban.com/subject/26953532/?icn=index-editionrecommend 白先勇细说红楼梦 白先勇 2017-2-1\n",
      "https://book.douban.com/subject/26959159/?icn=index-editionrecommend 岁月凶猛 冯仑 2017-2\n",
      "https://book.douban.com/subject/26949210/?icn=index-editionrecommend 如果没有今天，明天会不会有昨天？ [瑞士]伊夫·博萨尔特（YvesBossart） 2017-1\n",
      "https://book.douban.com/subject/27001447/?icn=index-editionrecommend 人类这100年 阿夏 2017-2\n",
      "https://book.douban.com/subject/26864566/?icn=index-latestbook-subject 眼泪的化学 [澳]彼得·凯里 2017-2\n",
      "https://book.douban.com/subject/26991064/?icn=index-latestbook-subject 青年斯大林 [英]西蒙·蒙蒂菲奥里 2017-3\n",
      "https://book.douban.com/subject/26938056/?icn=index-latestbook-subject 带艾伯特回家 [美]霍默·希卡姆 2017-3\n",
      "https://book.douban.com/subject/26954757/?icn=index-latestbook-subject 乳房 [美]弗洛伦斯·威廉姆斯 2017-2\n",
      "https://book.douban.com/subject/26956479/?icn=index-latestbook-subject 草原动物园 马伯庸 2017-3\n",
      "https://book.douban.com/subject/26956018/?icn=index-latestbook-subject 贩卖音乐 [美]大卫·伊斯曼 2017-3-1\n",
      "https://book.douban.com/subject/26703649/?icn=index-latestbook-subject 被占的宅子 [阿根廷]胡利奥·科塔萨尔 2017-3\n",
      "https://book.douban.com/subject/26578402/?icn=index-latestbook-subject 信仰与观看 [法]罗兰·雷希特(RolandRecht) 2017-2-17\n",
      "https://book.douban.com/subject/26939171/?icn=index-latestbook-subject 妹妹的坟墓 [美]罗伯特·杜格尼(RobertDugoni) 2017-3-1\n",
      "https://book.douban.com/subject/26972465/?icn=index-latestbook-subject 全栈市场人 Lydia 2017-2-1\n",
      "https://book.douban.com/subject/26986928/?icn=index-latestbook-subject 终极X战警2 [英]马克·米勒&nbsp;/&nbsp;[美]亚当·库伯特 2017-3-15\n",
      "https://book.douban.com/subject/26948144/?icn=index-latestbook-subject 格调（修订第3版） [美]保罗·福塞尔（PaulFussell） 2017-2\n",
      "https://book.douban.com/subject/26945792/?icn=index-latestbook-subject 原谅石 [美]洛里·斯皮尔曼 2017-2\n",
      "https://book.douban.com/subject/26974207/?icn=index-latestbook-subject 庇护二世闻见录 [意]皮科洛米尼 2017-2\n",
      "https://book.douban.com/subject/26983143/?icn=index-latestbook-subject 遇见野兔的那一年 [芬]阿托·帕西林纳 2017-3-1\n",
      "https://book.douban.com/subject/26976429/?icn=index-latestbook-subject 鲍勃·迪伦：诗人之歌 [法]让-多米尼克·布里埃 2017-4\n",
      "https://book.douban.com/subject/26962860/?icn=index-latestbook-subject 牙医谋杀案 [英]阿加莎·克里斯蒂 2017-3\n",
      "https://book.douban.com/subject/26923022/?icn=index-latestbook-subject 石挥谈艺录：把生命交给舞台 石挥 2017-2\n",
      "https://book.douban.com/subject/26897190/?icn=index-latestbook-subject 理想 [美]安·兰德 2017-2\n",
      "https://book.douban.com/subject/26985981/?icn=index-latestbook-subject 青苔不会消失 袁凌 2017-4\n",
      "https://book.douban.com/subject/26984949/?icn=index-latestbook-subject 地下铁道 [美]科尔森·怀特黑德（ColsonWhitehead） 2017-3\n",
      "https://book.douban.com/subject/26944012/?icn=index-latestbook-subject 极简进步史 [英]罗纳德·赖特 2017-4-1\n",
      "https://book.douban.com/subject/26969002/?icn=index-latestbook-subject 驻马店伤心故事集 郑在欢 2017-2\n",
      "https://book.douban.com/subject/26854223/?icn=index-latestbook-subject 致薇拉 [美]弗拉基米尔·纳博科夫 2017-3\n",
      "https://book.douban.com/subject/26841616/?icn=index-latestbook-subject 北方档案 [法]玛格丽特·尤瑟纳尔 2017-2\n",
      "https://book.douban.com/subject/26980391/?icn=index-latestbook-subject 食帖15：便当灵感集 林江 2017-2\n",
      "https://book.douban.com/subject/26958882/?icn=index-latestbook-subject 生火 [法]克里斯多夫·夏布特（ChristopheChabouté）编绘 2017-3\n",
      "https://book.douban.com/subject/26989163/?icn=index-latestbook-subject 文明之光（第四册） 吴军 2017-3-1\n",
      "https://book.douban.com/subject/26878906/?icn=index-latestbook-subject 公牛山 [美]布赖恩·帕诺威奇 2017-2\n",
      "https://book.douban.com/subject/26989534/?icn=index-latestbook-subject 几乎消失的偷闲艺术 [加拿大]达尼·拉费里埃 2017-4\n",
      "https://book.douban.com/subject/26939973/?icn=index-latestbook-subject 散步去 [日]谷口治郎 2017-3\n",
      "https://book.douban.com/subject/26865333/?icn=index-latestbook-subject 中国1945 [美]理查德·伯恩斯坦(RichardBernstein) 2017-3-1\n",
      "https://book.douban.com/subject/26989242/?icn=index-latestbook-subject 有匪2：离恨楼 Priest 2017-3\n",
      "https://book.douban.com/subject/26985790/?icn=index-latestbook-subject 女人、火与危险事物 [美]乔治·莱考夫 2017-3\n",
      "https://book.douban.com/subject/26972277/?icn=index-latestbook-subject 寻找时间的人 [爱尔兰]凯特·汤普森 2017-3\n",
      "https://www.douban.com/note/610758170/ 白先勇细说红楼梦【全二册】 白先勇 2017-2-1\n",
      "https://read.douban.com/ebook/31540864/?dcs=book-hot&amp;dcm=douban&amp;dct=read-subject 奇爱博士 [英]彼得·乔治 2016-8-1\n",
      "https://read.douban.com/ebook/31433872/?dcs=book-hot&amp;dcm=douban&amp;dct=read-subject 在时光中盛开的女子 李筱懿 2017-3\n",
      "https://read.douban.com/ebook/31178635/?dcs=book-hot&amp;dcm=douban&amp;dct=read-subject 如何高效记忆（原书第2版） [美]肯尼思•希格比（KennethL.Higbee） 2017-3-5\n",
      "https://read.douban.com/ebook/31358183/?dcs=book-hot&amp;dcm=douban&amp;dct=read-subject 愿无岁月可回头 回忆专用小马甲 2016-9\n",
      "https://read.douban.com/ebook/31341636/?dcs=book-hot&amp;dcm=douban&amp;dct=read-subject 走神的艺术与科学 [新西兰]迈克尔·C.科尔巴里斯 2017-3-1\n",
      "https://read.douban.com/ebook/27621094/?dcs=book-hot&amp;dcm=douban&amp;dct=read-subject 神秘的量子生命 [英]吉姆•艾尔－哈利利/约翰乔•麦克法登 2016-8\n",
      "https://read.douban.com/ebook/31221966/?dcs=book-hot&amp;dcm=douban&amp;dct=read-subject 寻找时间的人 [爱尔兰]凯特·汤普森 2017-3\n",
      "https://read.douban.com/ebook/31481323/?dcs=book-hot&amp;dcm=douban&amp;dct=read-subject 山之四季 [日]高村光太郎 2017-1\n",
      "https://read.douban.com/ebook/31154855/?dcs=book-hot&amp;dcm=douban&amp;dct=read-subject 东北游记 [美]迈克尔·麦尔 2017-1\n"
     ]
    }
   ],
   "source": [
    "import requests\n",
    "import re\n",
    "content = requests.get('https://book.douban.com/').text\n",
    "pattern = re.compile('<li.*?cover.*?href=\"(.*?)\".*?title=\"(.*?)\".*?more-meta.*?author\">(.*?)</span>.*?year\">(.*?)</span>.*?</li>', re.S)\n",
    "results = re.findall(pattern, content)\n",
    "for result in results:\n",
    "    url, name, author, date = result\n",
    "    author = re.sub('\\s', '', author)\n",
    "    date = re.sub('\\s', '', date)\n",
    "    print(url, name, author, date)"
   ]
  },
  {
   "cell_type": "code",
   "execution_count": 1,
   "metadata": {},
   "outputs": [
    {
     "name": "stdout",
     "output_type": "stream",
     "text": [
      "Help on package requests:\n",
      "\n",
      "NAME\n",
      "    requests\n",
      "\n",
      "DESCRIPTION\n",
      "    Requests HTTP Library\n",
      "    ~~~~~~~~~~~~~~~~~~~~~\n",
      "    \n",
      "    Requests is an HTTP library, written in Python, for human beings. Basic GET\n",
      "    usage:\n",
      "    \n",
      "       >>> import requests\n",
      "       >>> r = requests.get('https://www.python.org')\n",
      "       >>> r.status_code\n",
      "       200\n",
      "       >>> 'Python is a programming language' in r.content\n",
      "       True\n",
      "    \n",
      "    ... or POST:\n",
      "    \n",
      "       >>> payload = dict(key1='value1', key2='value2')\n",
      "       >>> r = requests.post('http://httpbin.org/post', data=payload)\n",
      "       >>> print(r.text)\n",
      "       {\n",
      "         ...\n",
      "         \"form\": {\n",
      "           \"key2\": \"value2\",\n",
      "           \"key1\": \"value1\"\n",
      "         },\n",
      "         ...\n",
      "       }\n",
      "    \n",
      "    The other HTTP methods are supported - see `requests.api`. Full documentation\n",
      "    is at <http://python-requests.org>.\n",
      "    \n",
      "    :copyright: (c) 2017 by Kenneth Reitz.\n",
      "    :license: Apache 2.0, see LICENSE for more details.\n",
      "\n",
      "PACKAGE CONTENTS\n",
      "    __version__\n",
      "    _internal_utils\n",
      "    adapters\n",
      "    api\n",
      "    auth\n",
      "    certs\n",
      "    compat\n",
      "    cookies\n",
      "    exceptions\n",
      "    help\n",
      "    hooks\n",
      "    models\n",
      "    packages\n",
      "    sessions\n",
      "    status_codes\n",
      "    structures\n",
      "    utils\n",
      "\n",
      "FUNCTIONS\n",
      "    check_compatibility(urllib3_version, chardet_version)\n",
      "\n",
      "DATA\n",
      "    __author_email__ = 'me@kennethreitz.org'\n",
      "    __build__ = 137220\n",
      "    __cake__ = '✨ 🍰 ✨'\n",
      "    __copyright__ = 'Copyright 2017 Kenneth Reitz'\n",
      "    __description__ = 'Python HTTP for Humans.'\n",
      "    __license__ = 'Apache 2.0'\n",
      "    __title__ = 'requests'\n",
      "    __url__ = 'http://python-requests.org'\n",
      "    codes = <lookup 'status_codes'>\n",
      "\n",
      "VERSION\n",
      "    2.18.4\n",
      "\n",
      "AUTHOR\n",
      "    Kenneth Reitz\n",
      "\n",
      "FILE\n",
      "    f:\\programdata\\anaconda3\\lib\\site-packages\\requests\\__init__.py\n",
      "\n",
      "\n"
     ]
    }
   ],
   "source": [
    "import requests\n",
    "help(requests)"
   ]
  },
  {
   "cell_type": "code",
   "execution_count": 8,
   "metadata": {},
   "outputs": [
    {
     "data": {
      "text/plain": [
       "'<!DOCTYPE html>\\n<html lang=\"zh-CN\">\\n\\n<head>\\n\\t<meta charset=\"gbk\">\\n<meta http-equiv=\"X-UA-Compatible\" content=\"IE=edge,chrome=1\">\\n<meta name=\"robots\" content=\"all\">\\n<meta name=\"author\" content=\"Tencent-CP\">\\n<meta name=\"Copyright\" content=\"Tencent\">\\n<meta name=\"Description\" content=\"腾讯光子工作室群自研大作，正版战斗特训手游《绝地求生：刺激战场》！虚幻4引擎,次世代完美画质,重现端游视听感受;8000M×8000M实景地图,全面自由施展战术;百人竞技,真实射击手感;好友一键组队,语音开黑;给您带来一场刺激的竞技体验\" />\\n<meta name=\"Keywords\" content=\"绝地求生,绝地求生刺激战场,绝地求生手游,刺激战场,绝地求生手游下载,绝地求生刺激战场下载,绝地求生国服,吃鸡手游,刺激战场下载,绝地求生 刺激战场,绝地求生下载,掘地求生刺激战场,腾讯吃鸡手游,绝地求生大逃杀,腾讯绝地求生手游\"\\n/> \\n\\t<title>枪械-正版战斗特训手游《绝地求生：刺激战场》刺激开测，立即加入！-绝地求生刺激战场官网网站-腾讯游戏 </title>\\n\\t<script>var _gcatName = \"枪械\";</script>\\n\\t<link rel=\"stylesheet\" href=\"//game.gtimg.cn/images/cjm/web201801/css/listpage.css\">\\n\\t<link rel=\"stylesheet\" href=\"//game.gtimg.cn/images/cjm/web201801/public.css\">\\n</head>\\n<body>\\n\\t<div class=\"wrap\">\\n\\t\\t<!--公共top-->\\n\\t\\t\\n <div class=\"top-nav\">\\n    <!--[if lt IE 8]><p class=\"browser-tips\">您的浏览器版本过低，请升级浏览器获得更好的体验<p><![endif]-->\\n   <div class=\"container\">\\n     <div class=\"top-title\">\\n        <a href=\"/web201801/main.shtml\">\\n          <img src=\"//game.gtimg.cn/images/cjm/web201801/top-tag.png\" alt=\"logo\" class=\"tag\" width=\"125\" height=\"125\" >\\n        </a> \\n        <h1>绝地求生：刺激战场<span>正版战斗特训手游</span></h1>\\n     </div>    \\n     <div class=\"nav\">\\n        <a href=\"/web201801/main.shtml\"  onclick=\"PTTSendClick(\\'hdtopnav\\',\\'navlink1\\',\\'头部导航链接\\');\" target=\"_blank\">官网首页 <span>HOME</span> </a>\\n        <a href=\"/match/\"  onclick=\"PTTSendClick(\\'hdtopnav\\',\\'navlink2\\',\\'头部导航链接\\');\"  target=\"_blank\">赛事中心<span>MATCH</span> </a>\\n        <!-- <a href=\"/gicp/news/101/2/1998/1.html\"  onclick=\"PTTSendClick(\\'hdtopnav\\',\\'navlink2\\',\\'头部导航链接\\');\"  target=\"_blank\">新闻中心<span>NEWS</span> </a> -->\\n        <a href=\"/gicp/video/109/2/2000/1.html\"  onclick=\"PTTSendClick(\\'hdtopnav\\',\\'navlink3\\',\\'头部导航链接\\');\"  target=\"_blank\">视频中心<span>VIDEO</span> </a>\\n        <a href=\"/act/a20180309zbhd/index.html\"  onclick=\"PTTSendClick(\\'hdtopnav\\',\\'navlink4\\',\\'头部导航链接\\');\"  target=\"_blank\">直播中心<span>LIVE</span> </a>\\n        <a href=\"/gicp/news/103/2/1999/1.html\"  onclick=\"PTTSendClick(\\'hdtopnav\\',\\'navlink5\\',\\'头部导航链接\\');\"  target=\"_blank\">攻略中心<span>GAMETIPS</span> </a>\\n        <a href=\"/web201801/info.shtml\"  onclick=\"PTTSendClick(\\'hdtopnav\\',\\'navlink6\\',\\'头部导航链接\\');\" target=\"_blank\">游戏资料<span>DATA</span> </a>\\n        <a href=\"javascript:\"  onclick=\"PTTSendClick(\\'hdtopnav\\',\\'navlink7\\',\\'头部导航链接\\');\"  target=\"_blank\" id=\"playerLink\" >社区互动 <span>COMMUNITY</span>\\n          <div class=\"tips-player\" id=\"tipsPlayer\">\\n              <ul>\\n                <li class=\"on\">手Q部落</li>\\n                <li>微信公众号</li>\\n                <li>微信圈子</li>\\n                <li>官方微博</li>\\n              </ul>\\n              <p class=\"tips-img1\">\\n                <img src=\"//game.gtimg.cn/images/cjm/web201712/qrcode_sq.jpg\" alt=\"手Q部落\">\\n                <i class=\"ips-arrow\"></i>\\n              </p>\\n              <p class=\"tips-img2\">\\n                <img src=\"//game.gtimg.cn/images/cjm/web201712/qrcode_wxqz.jpg\" alt=\"微信公众号\">\\n                <i class=\"ips-arrow\"></i>\\n              </p>\\n              <P class=\"tips-img3\">\\n                <img src=\"//game.gtimg.cn/images/cjm/web201712/qrcode_wx.jpg\" alt=\"微信圈子\">\\n                <i class=\"ips-arrow\"></i>\\n              </P>\\n              <P class=\"tips-img4\">\\n                <img src=\"//game.gtimg.cn/images/cjm/web201712/qrcode_wb.jpg\" alt=\"官方微博\">\\n                <i class=\"ips-arrow\"></i>\\n              </P>\\n            </div>\\n        </a>\\n     </div>\\n   </div>\\n </div>\\n\\t\\t<!--公共top e-->  \\n\\t\\t<!--kv-->\\n\\t\\t<div class=\"listpage-head glbg\">\\n\\t\\t\\t<div class=\"container\">\\n\\t\\t\\t\\t<div class=\"listpage-head-main\">\\n\\t\\t\\t\\t\\t<div class=\"tit\">\\n\\t\\t\\t\\t\\t\\t<h1 class=\"hid\">绝地求生刺激战场攻略中心</h1>\\n\\t\\t\\t\\t\\t</div>\\n\\t\\t\\t\\t\\t<div class=\"local\">\\n\\t\\t\\t\\t\\t\\t您的位置：\\n\\t\\t\\t\\t\\t\\t<a href=\"/web201801/main.shtml\">首页</a>&gt;\\n\\t\\t\\t\\t\\t\\t<a href=\"/gicp/news/103/2/1999/1.html\">攻略中心</a>\\n\\t\\t\\t\\t\\t</div>\\n\\t\\t\\t\\t</div>\\n\\t\\t\\t</div>\\n\\t\\t</div>\\n\\t\\t<div class=\"listpage-news-box\" id=\"pageNewsBox\">\\n\\t\\t\\t<div class=\"list-page-center\">\\n\\t\\t\\t\\t<div class=\"news-list \">\\n\\t\\t\\t\\t\\t<ul>\\n\\t\\t\\t\\t\\t\\t<li id=\"cnv0\">\\n\\t\\t\\t\\t\\t\\t\\t<a href=\"/gicp/news/103/2/1999/1.html\" onclick=\"PTTSendClick(\\'glnewsnav\\',\\'link0\\',\\'攻略链接\\');\" title=\"最新\">最新</a>\\n\\t\\t\\t\\t\\t\\t</li>\\n\\t\\t\\t\\t\\t\\t<li id=\"cnv1\">\\n\\t\\t\\t\\t\\t\\t\\t<a href=\"/gicp/news/103/2/2008/1.html\" onclick=\"PTTSendClick(\\'glnewsnav\\',\\'link0\\',\\'攻略链接\\');\" title=\"综合\">综合</a>\\n\\t\\t\\t\\t\\t\\t</li>\\n\\t\\t\\t\\t\\t\\t<li id=\"cnv2\">\\n\\t\\t\\t\\t\\t\\t\\t<a href=\"/gicp/news/103/2/2009/1.html\" onclick=\"PTTSendClick(\\'glnewsnav\\',\\'link0\\',\\'攻略链接\\');\" title=\"新手\">新手</a>\\n\\t\\t\\t\\t\\t\\t</li>\\n\\t\\t\\t\\t\\t\\t<li id=\"cnv3\">\\n\\t\\t\\t\\t\\t\\t\\t<a href=\"/gicp/news/103/2/2010/1.html\" onclick=\"PTTSendClick(\\'glnewsnav\\',\\'link0\\',\\'攻略链接\\');\" title=\"枪械\">枪械</a>\\n\\t\\t\\t\\t\\t\\t</li>\\n\\t\\t\\t\\t\\t\\t<li id=\"cnv4\">\\n\\t\\t\\t\\t\\t\\t\\t<a href=\"/gicp/news/103/2/2011/1.html\" onclick=\"PTTSendClick(\\'glnewsnav\\',\\'link0\\',\\'攻略链接\\');\" title=\"技巧\">技巧</a>\\n\\t\\t\\t\\t\\t\\t</li>\\n\\t\\t\\t\\t\\t\\t<li id=\"cnv5\">\\n\\t\\t\\t\\t\\t\\t\\t<a href=\"/gicp/news/103/2/2012/1.html\" onclick=\"PTTSendClick(\\'glnewsnav\\',\\'link0\\',\\'攻略链接\\');\" title=\"百科\">百科</a>\\n\\t\\t\\t\\t\\t\\t</li>\\n\\t\\t\\t\\t\\t\\t<li id=\"cnv6\" style=\"display:none\">\\n\\t\\t\\t\\t\\t\\t\\t<a href=\"###\" title=\"趣味\">趣味</a>\\n\\t\\t\\t\\t\\t\\t</li>\\n\\t\\t\\t\\t\\t</ul>\\n\\t\\t\\t\\t\\t<script>\\n\\t\\t\\t\\t\\t\\tvar _gcnvData = { \"综合\": \"cnv1\", \"新手\": \"cnv2\", \"枪械\": \"cnv3\", \"技巧\": \"cnv4\", \"百科\": \"cnv5\", \"趣味\": \"cnv6\" };\\n\\t\\t\\t\\t\\t\\tif (_gcnvData[_gcatName]) { document.getElementById(_gcnvData[_gcatName]).className = \"on\"; } else { document.getElementById(\"cnv0\").className = \"on\"; }\\n\\t\\t\\t\\t\\t</script>\\n\\t\\t\\t\\t</div>\\n\\t\\t\\t\\t<div class=\"news-detail\">\\n\\t\\t\\t\\t\\t<ul>\\n\\t\\t\\t\\t\\t\\t\\t\\t\\t\\t\\t\\t\\t<li>\\n\\t\\t\\t\\t\\t\\t\\t\\t<a href=\"/gicp/news/104/6426710.html\" target=\"_blank\" onclick=\"PTTSendClick(\\'btn\\',\\'gllink0\\',\\'攻略\\');sendclick(\\'6426710\\',\\'news\\',\\'/gicp/news/104/6426710.html\\');\" title=\"近战爆发之王!你需要掌握的霰弹枪射击技巧\">\\n\\t\\t\\t\\t\\t\\t\\t\\t\\t近战爆发之王!你需要掌握的霰弹枪射击技巧\\n\\t\\t\\t\\t\\t\\t\\t\\t</a>\\n\\t\\t\\t\\t\\t\\t\\t\\t<span>\\n\\t\\t\\t\\t\\t\\t\\t\\t\\t2018-05-05\\n\\t\\t\\t\\t\\t\\t\\t\\t</span>\\n\\t\\t\\t\\t\\t\\t\\t</li>\\n\\t\\t\\t\\t\\t\\t\\t\\t\\t\\t\\t\\t\\t\\t<li>\\n\\t\\t\\t\\t\\t\\t\\t\\t<a href=\"/gicp/news/104/6424335.html\" target=\"_blank\" onclick=\"PTTSendClick(\\'btn\\',\\'gllink1\\',\\'攻略\\');sendclick(\\'6424335\\',\\'news\\',\\'/gicp/news/104/6424335.html\\');\" title=\"狙击模式神器！VSS枪械实战解析\">\\n\\t\\t\\t\\t\\t\\t\\t\\t\\t狙击模式神器！VSS枪械实战解析\\n\\t\\t\\t\\t\\t\\t\\t\\t</a>\\n\\t\\t\\t\\t\\t\\t\\t\\t<span>\\n\\t\\t\\t\\t\\t\\t\\t\\t\\t2018-04-24\\n\\t\\t\\t\\t\\t\\t\\t\\t</span>\\n\\t\\t\\t\\t\\t\\t\\t</li>\\n\\t\\t\\t\\t\\t\\t\\t\\t\\t\\t\\t\\t\\t\\t<li>\\n\\t\\t\\t\\t\\t\\t\\t\\t<a href=\"/gicp/news/104/6424332.html\" target=\"_blank\" onclick=\"PTTSendClick(\\'btn\\',\\'gllink2\\',\\'攻略\\');sendclick(\\'6424332\\',\\'news\\',\\'/gicp/news/104/6424332.html\\');\" title=\"极速战场玩法多，武器选择各不同\">\\n\\t\\t\\t\\t\\t\\t\\t\\t\\t极速战场玩法多，武器选择各不同\\n\\t\\t\\t\\t\\t\\t\\t\\t</a>\\n\\t\\t\\t\\t\\t\\t\\t\\t<span>\\n\\t\\t\\t\\t\\t\\t\\t\\t\\t2018-04-24\\n\\t\\t\\t\\t\\t\\t\\t\\t</span>\\n\\t\\t\\t\\t\\t\\t\\t</li>\\n\\t\\t\\t\\t\\t\\t\\t\\t\\t\\t\\t\\t\\t\\t<li>\\n\\t\\t\\t\\t\\t\\t\\t\\t<a href=\"/gicp/news/104/6422095.html\" target=\"_blank\" onclick=\"PTTSendClick(\\'btn\\',\\'gllink3\\',\\'攻略\\');sendclick(\\'6422095\\',\\'news\\',\\'/gicp/news/104/6422095.html\\');\" title=\"步枪的最佳替身!UMP9冲锋枪介绍\">\\n\\t\\t\\t\\t\\t\\t\\t\\t\\t步枪的最佳替身!UMP9冲锋枪介绍\\n\\t\\t\\t\\t\\t\\t\\t\\t</a>\\n\\t\\t\\t\\t\\t\\t\\t\\t<span>\\n\\t\\t\\t\\t\\t\\t\\t\\t\\t2018-04-13\\n\\t\\t\\t\\t\\t\\t\\t\\t</span>\\n\\t\\t\\t\\t\\t\\t\\t</li>\\n\\t\\t\\t\\t\\t\\t\\t\\t\\t\\t\\t\\t\\t\\t<li>\\n\\t\\t\\t\\t\\t\\t\\t\\t<a href=\"/gicp/news/104/6422094.html\" target=\"_blank\" onclick=\"PTTSendClick(\\'btn\\',\\'gllink4\\',\\'攻略\\');sendclick(\\'6422094\\',\\'news\\',\\'/gicp/news/104/6422094.html\\');\" title=\"能扫射的狙击枪，VSS枪械瞄准镜运用浅析\">\\n\\t\\t\\t\\t\\t\\t\\t\\t\\t能扫射的狙击枪，VSS枪械瞄准镜运用浅析\\n\\t\\t\\t\\t\\t\\t\\t\\t</a>\\n\\t\\t\\t\\t\\t\\t\\t\\t<span>\\n\\t\\t\\t\\t\\t\\t\\t\\t\\t2018-04-13\\n\\t\\t\\t\\t\\t\\t\\t\\t</span>\\n\\t\\t\\t\\t\\t\\t\\t</li>\\n\\t\\t\\t\\t\\t\\t\\t\\t\\t\\t\\t\\t\\t\\t<li>\\n\\t\\t\\t\\t\\t\\t\\t\\t<a href=\"/gicp/news/104/6422093.html\" target=\"_blank\" onclick=\"PTTSendClick(\\'btn\\',\\'gllink5\\',\\'攻略\\');sendclick(\\'6422093\\',\\'news\\',\\'/gicp/news/104/6422093.html\\');\" title=\"硬汉专属武器，M249重机枪剖析\">\\n\\t\\t\\t\\t\\t\\t\\t\\t\\t硬汉专属武器，M249重机枪剖析\\n\\t\\t\\t\\t\\t\\t\\t\\t</a>\\n\\t\\t\\t\\t\\t\\t\\t\\t<span>\\n\\t\\t\\t\\t\\t\\t\\t\\t\\t2018-04-13\\n\\t\\t\\t\\t\\t\\t\\t\\t</span>\\n\\t\\t\\t\\t\\t\\t\\t</li>\\n\\t\\t\\t\\t\\t\\t\\t\\t\\t\\t\\t\\t\\t\\t<li>\\n\\t\\t\\t\\t\\t\\t\\t\\t<a href=\"/gicp/news/104/6421856.html\" target=\"_blank\" onclick=\"PTTSendClick(\\'btn\\',\\'gllink6\\',\\'攻略\\');sendclick(\\'6421856\\',\\'news\\',\\'/gicp/news/104/6421856.html\\');\" title=\"亲测无解!DP-28轻机枪扫射太可怕\">\\n\\t\\t\\t\\t\\t\\t\\t\\t\\t亲测无解!DP-28轻机枪扫射太可怕\\n\\t\\t\\t\\t\\t\\t\\t\\t</a>\\n\\t\\t\\t\\t\\t\\t\\t\\t<span>\\n\\t\\t\\t\\t\\t\\t\\t\\t\\t2018-04-12\\n\\t\\t\\t\\t\\t\\t\\t\\t</span>\\n\\t\\t\\t\\t\\t\\t\\t</li>\\n\\t\\t\\t\\t\\t\\t\\t\\t\\t\\t\\t\\t\\t\\t<li>\\n\\t\\t\\t\\t\\t\\t\\t\\t<a href=\"/gicp/news/104/6421859.html\" target=\"_blank\" onclick=\"PTTSendClick(\\'btn\\',\\'gllink7\\',\\'攻略\\');sendclick(\\'6421859\\',\\'news\\',\\'/gicp/news/104/6421859.html\\');\" title=\"制霸近身钢枪，汤姆逊冲锋枪解读\">\\n\\t\\t\\t\\t\\t\\t\\t\\t\\t制霸近身钢枪，汤姆逊冲锋枪解读\\n\\t\\t\\t\\t\\t\\t\\t\\t</a>\\n\\t\\t\\t\\t\\t\\t\\t\\t<span>\\n\\t\\t\\t\\t\\t\\t\\t\\t\\t2018-04-12\\n\\t\\t\\t\\t\\t\\t\\t\\t</span>\\n\\t\\t\\t\\t\\t\\t\\t</li>\\n\\t\\t\\t\\t\\t\\t\\t\\t\\t\\t\\t\\t\\t\\t<li>\\n\\t\\t\\t\\t\\t\\t\\t\\t<a href=\"/gicp/news/104/6421858.html\" target=\"_blank\" onclick=\"PTTSendClick(\\'btn\\',\\'gllink8\\',\\'攻略\\');sendclick(\\'6421858\\',\\'news\\',\\'/gicp/news/104/6421858.html\\');\" title=\"被忽略的武器，现代突击步枪SCAR-L\">\\n\\t\\t\\t\\t\\t\\t\\t\\t\\t被忽略的武器，现代突击步枪SCAR-L\\n\\t\\t\\t\\t\\t\\t\\t\\t</a>\\n\\t\\t\\t\\t\\t\\t\\t\\t<span>\\n\\t\\t\\t\\t\\t\\t\\t\\t\\t2018-04-12\\n\\t\\t\\t\\t\\t\\t\\t\\t</span>\\n\\t\\t\\t\\t\\t\\t\\t</li>\\n\\t\\t\\t\\t\\t\\t\\t\\t\\t\\t\\t\\t\\t\\t<li>\\n\\t\\t\\t\\t\\t\\t\\t\\t<a href=\"/gicp/news/104/6421857.html\" target=\"_blank\" onclick=\"PTTSendClick(\\'btn\\',\\'gllink9\\',\\'攻略\\');sendclick(\\'6421857\\',\\'news\\',\\'/gicp/news/104/6421857.html\\');\" title=\"综合性能最佳!M24狙击步枪解读\">\\n\\t\\t\\t\\t\\t\\t\\t\\t\\t综合性能最佳!M24狙击步枪解读\\n\\t\\t\\t\\t\\t\\t\\t\\t</a>\\n\\t\\t\\t\\t\\t\\t\\t\\t<span>\\n\\t\\t\\t\\t\\t\\t\\t\\t\\t2018-04-12\\n\\t\\t\\t\\t\\t\\t\\t\\t</span>\\n\\t\\t\\t\\t\\t\\t\\t</li>\\n\\t\\t\\t\\t\\t\\t\\t\\t\\t\\t\\t\\t\\t\\t<li>\\n\\t\\t\\t\\t\\t\\t\\t\\t<a href=\"/gicp/news/104/6421653.html\" target=\"_blank\" onclick=\"PTTSendClick(\\'btn\\',\\'gllink10\\',\\'攻略\\');sendclick(\\'6421653\\',\\'news\\',\\'/gicp/news/104/6421653.html\\');\" title=\"新手秒成狙神？Mini14狙击枪介绍\">\\n\\t\\t\\t\\t\\t\\t\\t\\t\\t新手秒成狙神？Mini14狙击枪介绍\\n\\t\\t\\t\\t\\t\\t\\t\\t</a>\\n\\t\\t\\t\\t\\t\\t\\t\\t<span>\\n\\t\\t\\t\\t\\t\\t\\t\\t\\t2018-04-11\\n\\t\\t\\t\\t\\t\\t\\t\\t</span>\\n\\t\\t\\t\\t\\t\\t\\t</li>\\n\\t\\t\\t\\t\\t\\t\\t\\t\\t\\t\\t\\t\\t\\t<li>\\n\\t\\t\\t\\t\\t\\t\\t\\t<a href=\"/gicp/news/104/6421387.html\" target=\"_blank\" onclick=\"PTTSendClick(\\'btn\\',\\'gllink11\\',\\'攻略\\');sendclick(\\'6421387\\',\\'news\\',\\'/gicp/news/104/6421387.html\\');\" title=\"一枪一人头!AWM狙击步枪的爆头艺术\">\\n\\t\\t\\t\\t\\t\\t\\t\\t\\t一枪一人头!AWM狙击步枪的爆头艺术\\n\\t\\t\\t\\t\\t\\t\\t\\t</a>\\n\\t\\t\\t\\t\\t\\t\\t\\t<span>\\n\\t\\t\\t\\t\\t\\t\\t\\t\\t2018-04-10\\n\\t\\t\\t\\t\\t\\t\\t\\t</span>\\n\\t\\t\\t\\t\\t\\t\\t</li>\\n\\t\\t\\t\\t\\t\\t\\t\\t\\t\\t\\t\\t\\t\\t<li>\\n\\t\\t\\t\\t\\t\\t\\t\\t<a href=\"/gicp/news/104/6420605.html\" target=\"_blank\" onclick=\"PTTSendClick(\\'btn\\',\\'gllink12\\',\\'攻略\\');sendclick(\\'6420605\\',\\'news\\',\\'/gicp/news/104/6420605.html\\');\" title=\"无视防具真神器！霰弹枪全解析\">\\n\\t\\t\\t\\t\\t\\t\\t\\t\\t无视防具真神器！霰弹枪全解析\\n\\t\\t\\t\\t\\t\\t\\t\\t</a>\\n\\t\\t\\t\\t\\t\\t\\t\\t<span>\\n\\t\\t\\t\\t\\t\\t\\t\\t\\t2018-04-06\\n\\t\\t\\t\\t\\t\\t\\t\\t</span>\\n\\t\\t\\t\\t\\t\\t\\t</li>\\n\\t\\t\\t\\t\\t\\t\\t\\t\\t\\t\\t\\t\\t\\t<li>\\n\\t\\t\\t\\t\\t\\t\\t\\t<a href=\"/gicp/news/104/6420162.html\" target=\"_blank\" onclick=\"PTTSendClick(\\'btn\\',\\'gllink13\\',\\'攻略\\');sendclick(\\'6420162\\',\\'news\\',\\'/gicp/news/104/6420162.html\\');\" title=\"新手也能驰骋沙漠，新地图枪械推荐\">\\n\\t\\t\\t\\t\\t\\t\\t\\t\\t新手也能驰骋沙漠，新地图枪械推荐\\n\\t\\t\\t\\t\\t\\t\\t\\t</a>\\n\\t\\t\\t\\t\\t\\t\\t\\t<span>\\n\\t\\t\\t\\t\\t\\t\\t\\t\\t2018-04-05\\n\\t\\t\\t\\t\\t\\t\\t\\t</span>\\n\\t\\t\\t\\t\\t\\t\\t</li>\\n\\t\\t\\t\\t\\t\\t\\t\\t\\t\\t\\t\\t\\t\\t<li>\\n\\t\\t\\t\\t\\t\\t\\t\\t<a href=\"/gicp/news/104/6419328.html\" target=\"_blank\" onclick=\"PTTSendClick(\\'btn\\',\\'gllink14\\',\\'攻略\\');sendclick(\\'6419328\\',\\'news\\',\\'/gicp/news/104/6419328.html\\');\" title=\"近战无敌！空投武器Groza解读\">\\n\\t\\t\\t\\t\\t\\t\\t\\t\\t近战无敌！空投武器Groza解读\\n\\t\\t\\t\\t\\t\\t\\t\\t</a>\\n\\t\\t\\t\\t\\t\\t\\t\\t<span>\\n\\t\\t\\t\\t\\t\\t\\t\\t\\t2018-03-31\\n\\t\\t\\t\\t\\t\\t\\t\\t</span>\\n\\t\\t\\t\\t\\t\\t\\t</li>\\n\\t\\t\\t\\t\\t\\t\\t\\t\\t\\t\\t\\t</ul>\\n\\t\\t\\t\\t\\t<div class=\"page-num\" id=\"pagebox\">\\n\\t\\t\\t\\t\\t\\t\\t\\t\\t\\t\\t\\t\\t\\t\\t\\t\\t\\t\\t\\t\\t\\t\\t\\t\\t\\t\\t\\t\\t\\t\\t\\t<a href=\"/gicp/news/103/2/2010/2.html\">下一页</a>\\n\\t\\t\\t\\t\\t\\t\\t\\t\\t\\t\\t\\t\\t\\t\\t\\t\\t\\t\\t\\t\\t\\t\\t\\t\\t\\t</div>\\n\\t\\t\\t\\t</div>\\n\\t\\t\\t</div>\\n\\t\\t</div>\\n\\t</div>\\n\\t<div class=\"foot foot-dark\" id=\"foot\">\\n    <!-- 深色底白色logo加foot-dark类名-->\\n    <div class=\"container\">\\n        <div class=\"foot-cpright tool-tpline\">\\n            <div class=\"foot-logos\">\\n                <a href=\"http://ieg.tencent.com/\" title=\"腾讯互动娱乐\" class=\"foot-logos-game\" target=\"_blank\">腾讯互动娱乐</a>\\n                <a href=\"javascript:;\" title=\"合作公司logo\" class=\"foot-logos-company\">\\n                        <img src=\"//game.gtimg.cn/images/cjm/web201712/footer-logo-gz.png\" alt=\"\">\\n                </a> \\n            </div>  \\n            <ul class=\"foot-links\">\\n                <li>\\n                    <a target=\"_blank\" href=\"http://ieg.tencent.com/\">腾讯互动娱乐</a>\\n                    <span class=\"foot-sprt\">|</span>\\n                    <a target=\"_blank\" href=\"http://www.qq.com/contract.shtml\">服务条款</a>\\n                    <span class=\"foot-sprt\">|</span>\\n                    <a target=\"_blank\" href=\"http://adver.qq.com/\">广告服务</a>\\n                    <span class=\"foot-sprt\">|</span>\\n                    <a target=\"_blank\" href=\"http://game.qq.com/hr/\">腾讯游戏招聘</a>\\n                    <span class=\"foot-sprt\">|</span>\\n                    <a target=\"_blank\" href=\"http://service.qq.com/\">腾讯游戏客服</a>\\n                    <span class=\"foot-sprt\">|</span>\\n                    <a target=\"_blank\" href=\"http://tgact.qq.com/\">游戏活动</a>\\n                    <span class=\"foot-sprt\">|</span>\\n                    <a target=\"_blank\" href=\"http://game.qq.com/gnav/\">游戏地图</a>\\n                    <span class=\"foot-sprt\">|</span>\\n                    <a target=\"_blank\" href=\"http://game.qq.com/portal2010/business.htm\">商务合作</a>\\n                    <span class=\"foot-sprt\">|</span>\\n                    <a target=\"_blank\" href=\"http://www.qq.com/\">腾讯网</a>\\n                    <span class=\"foot-sprt\">|</span>\\n                    <a target=\"_blank\" href=\"http://www.qq.com/map/\">网站导航</a>\\n                </li>\\n                <li class=\"f-right\">\\n                    <a target=\"_blank\" href=\"http://www.tencent.com/law/mo_law.shtml?/law/copyright.htm\">腾讯公司版权所有</a>\\n                </li>\\n                <li>COPYRIGHT &copy; 1998 - 2018 TENCENT. ALL RIGHTS RESERVED. </li>\\n                <li>\\n                    <a target=\"_blank\" href=\"http://www.qq.com/culture.shtml\">粤网文[2017]6138-1456号</a>\\n                    <span class=\"foot-sprt\">|</span> <a target=\"_blank\" href=\"http://game.qq.com/culture2.htm\">新出网证：（粤）字010号</a> \\n                </li>\\n                <li>本网络游戏适合年满16周岁以上的用户使用；为了您的健康，请合理控制游戏时间。</li>\\n                <li>抵制不良游戏，拒绝盗版游戏。注意自我保护，谨防受骗上当。适度游戏益脑，沉迷游戏伤身。合理安排时间，享受健康生活。</li>\\n            </ul>\\n        </div>\\n    </div>\\n</div>\\n\\t<script src=\"//ossweb-img.qq.com/images/js/title.js\"></script>\\n\\t<script src=\"//ossweb-img.qq.com/images/js/PTT/ping_tcss_tgideas_https_min.js\"></script>\\n\\t<script src=\"//ossweb-img.qq.com/images/js/jquery/jquery-1.11.3.min.js\"></script>\\n\\t<script src=\"//pg.qq.com/web201712/js/listpage.js\"></script>\\n\\t<script> \\n\\t\\t//此段代码不能放到外链JS中，不要擅自增加或者删改对象属性\\n\\t\\tvar setSite = { //设置网站属性\\n\\t\\t\\tsiteType: \"os\", //必填项:官网填写\"os\"，活动专题填写活动目录名称如：\"a20160701xxx\"，\\n\\t\\t\\tpageType: \"gllist\", //必填项:本页面的定位；按照页面含义填写例如main||list||detail||download||share||page1||pageN\\n\\t\\t\\tpageName: \"首页\", //必填项:页面中文名\\n\\t\\t\\tosact: 0, //选填项:是否是官网专题(在官网运营的专题)boolean；默认是0；可以在链接上加入参数osact=1来灵活设置\\n\\t\\t\\tingame: 0, //选填项:是否投放在游戏APP内boolean；默认是0；可以在链接上加入参数ingame=1来灵活设置\\n\\t\\t\\tstayTime: 0 //选填项:是否需要统计停留时长boolean；默认是0\\n\\t\\t}\\n\\t\\tif (typeof (pgvMain) == \\'function\\') pgvMain();//千万不能忘记！\\n\\t</script>\\n\\t<script src=\"//ossweb-img.qq.com/images/js/eas/eas.js?v=20151229\"></script>\\n\\t<script src=\"//gicp.qq.com/wmp/v5/static/js/gicprp.js\"></script>\\n\\t<script>\\n\\t\\t //曝光\\n\\t\\t if(typeof(Gicprp.send) == \\'function\\'){\\n           Gicprp.send({\\n               \\'action_type\\':\\'pop\\',\\n               \\'iuName\\':\\'web_pc\\',\\n               \\'contentId\\':\\'6426710|6424335|6424332|6422095|6422094|6422093|6421856|6421859|6421858|6421857|6421653|6421387|6420605|6420162|6419328\\',\\n               \\'serviceType\\':\\'74\\',\\n               \\'contentType\\':\\'news\\',\\n               \\'url\\':\\'%2Fgicp%2Fnews%2F104%2F6426710.html|%2Fgicp%2Fnews%2F104%2F6424335.html|%2Fgicp%2Fnews%2F104%2F6424332.html|%2Fgicp%2Fnews%2F104%2F6422095.html|%2Fgicp%2Fnews%2F104%2F6422094.html|%2Fgicp%2Fnews%2F104%2F6422093.html|%2Fgicp%2Fnews%2F104%2F6421856.html|%2Fgicp%2Fnews%2F104%2F6421859.html|%2Fgicp%2Fnews%2F104%2F6421858.html|%2Fgicp%2Fnews%2F104%2F6421857.html|%2Fgicp%2Fnews%2F104%2F6421653.html|%2Fgicp%2Fnews%2F104%2F6421387.html|%2Fgicp%2Fnews%2F104%2F6420605.html|%2Fgicp%2Fnews%2F104%2F6420162.html|%2Fgicp%2Fnews%2F104%2F6419328.html\\'\\n           });\\n       } \\n       //点击\\n       function sendclick(id,type,url){\\n           if(typeof(Gicprp.send) == \\'function\\'){\\n               Gicprp.send({\\n                   \\'action_type\\':\\'click\\',\\n                   \\'iuName\\':\\'web_pc\\',\\n                   \\'contentId\\':id,//此处传入被点击内容的内容id\\n                   \\'serviceType\\':\\'74\\',\\n                   \\'contentType\\':type,//此处传入被点击内容的内容类型 video 或者是news\\n                   \\'url\\':encodeURIComponent(url)\\n               });\\n           }\\n       }\\n</script>\\n</body>\\n\\n</html>'"
      ]
     },
     "execution_count": 8,
     "metadata": {},
     "output_type": "execute_result"
    }
   ],
   "source": [
    "res = requests.get('http://pg.qq.com/gicp/news/103/2/2010/1.html')\n",
    "res.encoding = 'gbk'\n",
    "res.text"
   ]
  },
  {
   "cell_type": "code",
   "execution_count": 9,
   "metadata": {
    "collapsed": true
   },
   "outputs": [],
   "source": [
    "import re"
   ]
  },
  {
   "cell_type": "code",
   "execution_count": 16,
   "metadata": {},
   "outputs": [
    {
     "data": {
      "text/plain": [
       "[('/web201801/main.shtml', '近战爆发之王!你需要掌握的霰弹枪射击技巧', '2018-05-05'),\n",
       " ('/gicp/news/104/6424335.html', '狙击模式神器！VSS枪械实战解析', '2018-04-24'),\n",
       " ('/gicp/news/104/6424332.html', '极速战场玩法多，武器选择各不同', '2018-04-24'),\n",
       " ('/gicp/news/104/6422095.html', '步枪的最佳替身!UMP9冲锋枪介绍', '2018-04-13'),\n",
       " ('/gicp/news/104/6422094.html', '能扫射的狙击枪，VSS枪械瞄准镜运用浅析', '2018-04-13'),\n",
       " ('/gicp/news/104/6422093.html', '硬汉专属武器，M249重机枪剖析', '2018-04-13'),\n",
       " ('/gicp/news/104/6421856.html', '亲测无解!DP-28轻机枪扫射太可怕', '2018-04-12'),\n",
       " ('/gicp/news/104/6421859.html', '制霸近身钢枪，汤姆逊冲锋枪解读', '2018-04-12'),\n",
       " ('/gicp/news/104/6421858.html', '被忽略的武器，现代突击步枪SCAR-L', '2018-04-12'),\n",
       " ('/gicp/news/104/6421857.html', '综合性能最佳!M24狙击步枪解读', '2018-04-12'),\n",
       " ('/gicp/news/104/6421653.html', '新手秒成狙神？Mini14狙击枪介绍', '2018-04-11'),\n",
       " ('/gicp/news/104/6421387.html', '一枪一人头!AWM狙击步枪的爆头艺术', '2018-04-10'),\n",
       " ('/gicp/news/104/6420605.html', '无视防具真神器！霰弹枪全解析', '2018-04-06'),\n",
       " ('/gicp/news/104/6420162.html', '新手也能驰骋沙漠，新地图枪械推荐', '2018-04-05'),\n",
       " ('/gicp/news/104/6419328.html', '近战无敌！空投武器Groza解读', '2018-03-31')]"
      ]
     },
     "execution_count": 16,
     "metadata": {},
     "output_type": "execute_result"
    }
   ],
   "source": [
    "pattern = re.compile('<li>.*?a href=\"(.*?)\".*?gllink.*?title=\"(.*?)\".*?<span>\\s*(.*?)\\s*</span>',re.S)\n",
    "result = re.findall(pattern,res.text)\n",
    "result"
   ]
  },
  {
   "cell_type": "code",
   "execution_count": 11,
   "metadata": {},
   "outputs": [
    {
     "data": {
      "text/plain": [
       "[]"
      ]
     },
     "execution_count": 11,
     "metadata": {},
     "output_type": "execute_result"
    }
   ],
   "source": [
    "result"
   ]
  },
  {
   "cell_type": "code",
   "execution_count": null,
   "metadata": {
    "collapsed": true
   },
   "outputs": [],
   "source": []
  }
 ],
 "metadata": {
  "kernelspec": {
   "display_name": "Python 3",
   "language": "python",
   "name": "python3"
  },
  "language_info": {
   "codemirror_mode": {
    "name": "ipython",
    "version": 3
   },
   "file_extension": ".py",
   "mimetype": "text/x-python",
   "name": "python",
   "nbconvert_exporter": "python",
   "pygments_lexer": "ipython3",
   "version": "3.6.1"
  }
 },
 "nbformat": 4,
 "nbformat_minor": 1
}
