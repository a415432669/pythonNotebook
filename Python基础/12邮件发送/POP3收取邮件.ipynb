{
 "cells": [
  {
   "cell_type": "markdown",
   "metadata": {},
   "source": [
    "## POP3收取邮件\n",
    "\n",
    "SMTP用于发送邮件，如果要收取邮件呢？\n",
    "\n",
    "收取邮件就是编写一个MUA作为客户端，从MDA把邮件获取到用户的电脑或者手机上。收取邮件最常用的协议是POP协议，目前版本号是3，俗称POP3。\n",
    "\n",
    "Python内置一个poplib模块，实现了POP3协议，可以直接用来收邮件。\n",
    "\n",
    "注意到POP3协议收取的不是一个已经可以阅读的邮件本身，而是邮件的原始文本，这和SMTP协议很像，SMTP发送的也是经过编码后的一大段文本。\n",
    "\n",
    "要把POP3收取的文本变成可以阅读的邮件，还需要用email模块提供的各种类来解析原始文本，变成可阅读的邮件对象。\n",
    "\n",
    "所以，收取邮件分两步：\n",
    "\n",
    "第一步：用poplib把邮件的原始文本下载到本地；\n",
    "\n",
    "第二部：用email解析原始文本，还原为邮件对象。\n",
    "\n",
    "通过POP3下载邮件\n",
    "POP3协议本身很简单，以下面的代码为例，我们来获取最新的一封邮件内容"
   ]
  },
  {
   "cell_type": "code",
   "execution_count": null,
   "metadata": {},
   "outputs": [],
   "source": [
    "import poplib\n",
    "\n",
    "# 输入邮件地址, 口令和POP3服务器地址:\n",
    "email = input('Email: ')\n",
    "password = input('Password: ')\n",
    "pop3_server = input('POP3 server: ')\n",
    "\n",
    "# 连接到POP3服务器:\n",
    "server = poplib.POP3(pop3_server)\n",
    "# 可以打开或关闭调试信息:\n",
    "server.set_debuglevel(1)\n",
    "# 可选:打印POP3服务器的欢迎文字:\n",
    "print(server.getwelcome().decode('utf-8'))\n",
    "\n",
    "# 身份认证:\n",
    "server.user(email)\n",
    "server.pass_(password)\n",
    "\n",
    "# stat()返回邮件数量和占用空间:\n",
    "print('Messages: %s. Size: %s' % server.stat())\n",
    "# list()返回所有邮件的编号:\n",
    "resp, mails, octets = server.list()\n",
    "# 可以查看返回的列表类似[b'1 82923', b'2 2184', ...]\n",
    "print(mails)\n",
    "\n",
    "# 获取最新一封邮件, 注意索引号从1开始:\n",
    "index = len(mails)\n",
    "resp, lines, octets = server.retr(index)\n",
    "\n",
    "# lines存储了邮件的原始文本的每一行,\n",
    "# 可以获得整个邮件的原始文本:\n",
    "msg_content = b'\\r\\n'.join(lines).decode('utf-8')\n",
    "# 稍后解析出邮件:\n",
    "msg = Parser().parsestr(msg_content)\n",
    "\n",
    "# 可以根据邮件索引号直接从服务器删除邮件:\n",
    "# server.dele(index)\n",
    "# 关闭连接:\n",
    "server.quit()"
   ]
  },
  {
   "cell_type": "markdown",
   "metadata": {},
   "source": [
    "用POP3获取邮件其实很简单，要获取所有邮件，只需要循环使用retr()把每一封邮件内容拿到即可。真正麻烦的是把邮件的原始内容解析为可以阅读的邮件对象。\n",
    "\n",
    "### 解析邮件\n",
    "解析邮件的过程和上一节构造邮件正好相反，因此，先导入必要的模块："
   ]
  },
  {
   "cell_type": "code",
   "execution_count": null,
   "metadata": {
    "collapsed": true
   },
   "outputs": [],
   "source": [
    "from email.parser import Parser\n",
    "from email.header import decode_header\n",
    "from email.utils import parseaddr\n",
    "\n",
    "import poplib"
   ]
  },
  {
   "cell_type": "code",
   "execution_count": null,
   "metadata": {
    "collapsed": true
   },
   "outputs": [],
   "source": [
    "#只需要一行代码就可以把邮件内容解析为Message对象：\n",
    "\n",
    "msg = Parser().parsestr(msg_content)"
   ]
  },
  {
   "cell_type": "markdown",
   "metadata": {},
   "source": [
    "但是这个Message对象本身可能是一个MIMEMultipart对象，即包含嵌套的其他MIMEBase对象，嵌套可能还不止一层。\n",
    "\n",
    "所以我们要递归地打印出Message对象的层次结构："
   ]
  },
  {
   "cell_type": "code",
   "execution_count": null,
   "metadata": {
    "collapsed": true
   },
   "outputs": [],
   "source": [
    "# indent用于缩进显示:\n",
    "def print_info(msg, indent=0):\n",
    "    if indent == 0:\n",
    "        for header in ['From', 'To', 'Subject']:\n",
    "            value = msg.get(header, '')\n",
    "            if value:\n",
    "                if header=='Subject':\n",
    "                    value = decode_str(value)\n",
    "                else:\n",
    "                    hdr, addr = parseaddr(value)\n",
    "                    name = decode_str(hdr)\n",
    "                    value = u'%s <%s>' % (name, addr)\n",
    "            print('%s%s: %s' % ('  ' * indent, header, value))\n",
    "    if (msg.is_multipart()):\n",
    "        parts = msg.get_payload()\n",
    "        for n, part in enumerate(parts):\n",
    "            print('%spart %s' % ('  ' * indent, n))\n",
    "            print('%s--------------------' % ('  ' * indent))\n",
    "            print_info(part, indent + 1)\n",
    "    else:\n",
    "        content_type = msg.get_content_type()\n",
    "        if content_type=='text/plain' or content_type=='text/html':\n",
    "            content = msg.get_payload(decode=True)\n",
    "            charset = guess_charset(msg)\n",
    "            if charset:\n",
    "                content = content.decode(charset)\n",
    "            print('%sText: %s' % ('  ' * indent, content + '...'))\n",
    "        else:\n",
    "            print('%sAttachment: %s' % ('  ' * indent, content_type))"
   ]
  },
  {
   "cell_type": "code",
   "execution_count": null,
   "metadata": {
    "collapsed": true
   },
   "outputs": [],
   "source": [
    "#邮件的Subject或者Email中包含的名字都是经过编码后的str，要正常显示，就必须decode：\n",
    "\n",
    "def decode_str(s):\n",
    "    value, charset = decode_header(s)[0]\n",
    "    if charset:\n",
    "        value = value.decode(charset)\n",
    "    return value"
   ]
  },
  {
   "cell_type": "code",
   "execution_count": null,
   "metadata": {
    "collapsed": true
   },
   "outputs": [],
   "source": [
    "#decode_header()返回一个list，因为像Cc、Bcc这样的字段可能包含多个邮件地址，所以解析出来的会有多个元素。上面的代码我们偷了个懒，只取了第一个元素。\n",
    "\n",
    "#文本邮件的内容也是str，还需要检测编码，否则，非UTF-8编码的邮件都无法正常显示：\n",
    "\n",
    "def guess_charset(msg):\n",
    "    charset = msg.get_charset()\n",
    "    if charset is None:\n",
    "        content_type = msg.get('Content-Type', '').lower()\n",
    "        pos = content_type.find('charset=')\n",
    "        if pos >= 0:\n",
    "            charset = content_type[pos + 8:].strip()\n",
    "    return charset"
   ]
  },
  {
   "cell_type": "markdown",
   "metadata": {},
   "source": [
    "把上面的代码整理好，我们就可以来试试收取一封邮件。先往自己的邮箱发一封邮件，然后用浏览器登录邮箱，看看邮件收到没，如果收到了，我们就来用Python程序把它收到本地："
   ]
  },
  {
   "cell_type": "markdown",
   "metadata": {},
   "source": [
    "我们从打印的结构可以看出，这封邮件是一个MIMEMultipart，它包含两部分：第一部分又是一个MIMEMultipart，第二部分是一个附件。而内嵌的MIMEMultipart是一个alternative类型，它包含一个纯文本格式的MIMEText和一个HTML格式的MIMEText。\n",
    "\n",
    "## 小结\n",
    "用Python的poplib模块收取邮件分两步：第一步是用POP3协议把邮件获取到本地，第二步是用email模块把原始邮件解析为Message对象，然后，用适当的形式把邮件内容展示给用户即可。"
   ]
  },
  {
   "cell_type": "code",
   "execution_count": null,
   "metadata": {
    "collapsed": true
   },
   "outputs": [],
   "source": []
  }
 ],
 "metadata": {
  "kernelspec": {
   "display_name": "Python 3",
   "language": "python",
   "name": "python3"
  },
  "language_info": {
   "codemirror_mode": {
    "name": "ipython",
    "version": 3
   },
   "file_extension": ".py",
   "mimetype": "text/x-python",
   "name": "python",
   "nbconvert_exporter": "python",
   "pygments_lexer": "ipython3",
   "version": "3.6.1"
  }
 },
 "nbformat": 4,
 "nbformat_minor": 2
}
